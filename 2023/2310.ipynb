{
 "cells": [
  {
   "cell_type": "markdown",
   "metadata": {},
   "source": [
    "AOC [23.10](https://adventofcode.com/2023/day/10) Pipe Maze\n",
    "\n",
    "Input is a map of pipes with an animal in it.\n",
    "\n",
    "* | is a vertical pipe connecting north and south.\n",
    "* \\- is a horizontal pipe connecting east and west.\n",
    "* L is a 90-degree bend connecting north and east.\n",
    "* J is a 90-degree bend connecting north and west.\n",
    "* 7 is a 90-degree bend connecting south and west.\n",
    "* F is a 90-degree bend connecting south and east.\n",
    "* . is ground; there is no pipe in this tile.\n",
    "* S is the starting position of the animal; there is a pipe on this tile, but your sketch doesn't show what shape the pipe has.\n",
    "\n",
    "Find the maximum distance from the animal in the pipe.\n",
    "\n",
    "Map without dead-ends:\n",
    "```\n",
    "..F7.\n",
    ".FJ|.\n",
    "SJ.L7\n",
    "|F--J\n",
    "LJ...\n",
    "```\n",
    "Actual map:\n",
    "```7-F7-\n",
    ".FJ|7\n",
    "SJLL7\n",
    "|F--J\n",
    "LJ.LJ\n",
    "```\n",
    "* Note: pipes that are not connected to the loop can be ignored - they're just visual distraction (on part 1 of the puzzle!)\n",
    "\n",
    "Max distance:\n",
    "```..45.\n",
    ".236.\n",
    "01.78\n",
    "14567\n",
    "23...\n",
    "```\n",
    "Solution:\n",
    "1. Get data and keep in a list of lines\n",
    "1. Find ths \"S\" (start) (X,Y)\n",
    "1. Start iterating --> moving both directions from the S\n",
    "1. Use a dictionary to figure out the next X,Y in the list\n",
    "1. Continue until the two points are equal: what's the number of steps?\n"
   ]
  },
  {
   "cell_type": "code",
   "execution_count": 10,
   "metadata": {},
   "outputs": [
    {
     "data": {
      "text/plain": [
       "['..F7.', '.FJ|.', 'SJ.L7', '|F--J', 'LJ...']"
      ]
     },
     "execution_count": 10,
     "metadata": {},
     "output_type": "execute_result"
    }
   ],
   "source": [
    "test_data1 = '''.....\n",
    ".S-7.\n",
    ".|.|.\n",
    ".L-J.\n",
    ".....'''\n",
    "\n",
    "test_data2 = '''..F7.\n",
    ".FJ|.\n",
    "SJ.L7\n",
    "|F--J\n",
    "LJ...'''\n",
    "\n",
    "data = [line for line in test_data2.split('\\n')]\n",
    "data"
   ]
  },
  {
   "cell_type": "code",
   "execution_count": null,
   "metadata": {},
   "outputs": [],
   "source": []
  },
  {
   "cell_type": "code",
   "execution_count": 31,
   "metadata": {},
   "outputs": [
    {
     "name": "stdout",
     "output_type": "stream",
     "text": [
      "(0, 2)\n"
     ]
    }
   ],
   "source": [
    "def find_start(lines):\n",
    "    for y in range(len(lines)):\n",
    "        x = lines[y].find('S')\n",
    "        if x != -1:\n",
    "            return (x,y)\n",
    "    return (-999,-999)\n",
    "\n",
    "start_point = find_start(data)\n",
    "print(start_point)\n"
   ]
  },
  {
   "cell_type": "code",
   "execution_count": 43,
   "metadata": {},
   "outputs": [
    {
     "ename": "KeyError",
     "evalue": "'|'",
     "output_type": "error",
     "traceback": [
      "\u001b[0;31m---------------------------------------------------------------------------\u001b[0m",
      "\u001b[0;31mKeyError\u001b[0m                                  Traceback (most recent call last)",
      "Cell \u001b[0;32mIn[43], line 21\u001b[0m\n\u001b[1;32m     19\u001b[0m steps \u001b[38;5;241m=\u001b[39m \u001b[38;5;241m0\u001b[39m\n\u001b[1;32m     20\u001b[0m \u001b[38;5;28;01mwhile\u001b[39;00m steps \u001b[38;5;241m<\u001b[39m \u001b[38;5;241m10\u001b[39m:\n\u001b[0;32m---> 21\u001b[0m     next_loc \u001b[38;5;241m=\u001b[39m next_location(curr_loc,curr_dir)\n\u001b[1;32m     22\u001b[0m     next_dir \u001b[38;5;241m=\u001b[39m pipe_type(data,next_loc)\n\u001b[1;32m     23\u001b[0m     steps \u001b[38;5;241m+\u001b[39m\u001b[38;5;241m=\u001b[39m \u001b[38;5;241m1\u001b[39m\n",
      "Cell \u001b[0;32mIn[43], line 13\u001b[0m, in \u001b[0;36mnext_location\u001b[0;34m(point, dir)\u001b[0m\n\u001b[1;32m     11\u001b[0m \u001b[38;5;28;01mdef\u001b[39;00m \u001b[38;5;21mnext_location\u001b[39m(point,\u001b[38;5;28mdir\u001b[39m):\n\u001b[1;32m     12\u001b[0m     dir_dict \u001b[38;5;241m=\u001b[39m {\u001b[38;5;124m'\u001b[39m\u001b[38;5;124mN\u001b[39m\u001b[38;5;124m'\u001b[39m:(\u001b[38;5;241m0\u001b[39m,\u001b[38;5;241m-\u001b[39m\u001b[38;5;241m1\u001b[39m),\u001b[38;5;124m'\u001b[39m\u001b[38;5;124mS\u001b[39m\u001b[38;5;124m'\u001b[39m:(\u001b[38;5;241m0\u001b[39m,\u001b[38;5;241m1\u001b[39m),\u001b[38;5;124m'\u001b[39m\u001b[38;5;124mE\u001b[39m\u001b[38;5;124m'\u001b[39m:(\u001b[38;5;241m1\u001b[39m,\u001b[38;5;241m0\u001b[39m),\u001b[38;5;124m'\u001b[39m\u001b[38;5;124mW\u001b[39m\u001b[38;5;124m'\u001b[39m:(\u001b[38;5;241m-\u001b[39m\u001b[38;5;241m1\u001b[39m,\u001b[38;5;241m0\u001b[39m)}\n\u001b[0;32m---> 13\u001b[0m     change \u001b[38;5;241m=\u001b[39m dir_dict[\u001b[38;5;28mdir\u001b[39m]\n\u001b[1;32m     14\u001b[0m     \u001b[38;5;28;01mreturn\u001b[39;00m (point[\u001b[38;5;241m0\u001b[39m] \u001b[38;5;241m+\u001b[39m change[\u001b[38;5;241m1\u001b[39m], point[\u001b[38;5;241m1\u001b[39m]\u001b[38;5;241m+\u001b[39mchange[\u001b[38;5;241m0\u001b[39m])\n",
      "\u001b[0;31mKeyError\u001b[0m: '|'"
     ]
    }
   ],
   "source": [
    "pipe_dict = {('E','-'):'E', ('W','-'):'W',\n",
    "            ('N','|'):'N', ('S','|'):'S',            \n",
    "            ('E','7'):'S', ('N','7'):'W',\n",
    "            ('S','L'):'E', ('W','L'):'N',\n",
    "            ('S','J'):'W', ('E','J'):'N',\n",
    "            ('W','F'):'S', ('N','F'):'E'}\n",
    "\n",
    "curr_loc = (0,2)\n",
    "curr_dir = 'E'\n",
    "\n",
    "def next_location(point,dir):\n",
    "    dir_dict = {'N':(0,-1),'S':(0,1),'E':(1,0),'W':(-1,0)}\n",
    "    change = dir_dict[dir]\n",
    "    return (point[0] + change[1], point[1]+change[0])\n",
    "\n",
    "def pipe_type(lines,point):\n",
    "    return lines[point[1]][point[0]]\n",
    "\n",
    "steps = 0\n",
    "while steps < 10:\n",
    "    next_loc = next_location(curr_loc,curr_dir)\n",
    "    next_dir = pipe_type(data,next_loc)\n",
    "    steps += 1\n",
    "    curr_loc = next_loc\n",
    "    curr_dir = next_dir\n",
    "\n",
    "print(f\"{curr_loc} {curr_dir} -> {next_loc(curr_loc,curr_dir)}\")\n"
   ]
  },
  {
   "cell_type": "code",
   "execution_count": 42,
   "metadata": {},
   "outputs": [
    {
     "data": {
      "text/plain": [
       "'S'"
      ]
     },
     "execution_count": 42,
     "metadata": {},
     "output_type": "execute_result"
    }
   ],
   "source": [
    "pipe_type(data,curr_loc)"
   ]
  },
  {
   "cell_type": "code",
   "execution_count": 46,
   "metadata": {},
   "outputs": [
    {
     "data": {
      "text/plain": [
       "'S'"
      ]
     },
     "execution_count": 46,
     "metadata": {},
     "output_type": "execute_result"
    }
   ],
   "source": [
    "data[2][0]"
   ]
  },
  {
   "cell_type": "code",
   "execution_count": 47,
   "metadata": {},
   "outputs": [
    {
     "data": {
      "text/plain": [
       "['..F7.', '.FJ|.', 'SJ.L7', '|F--J', 'LJ...']"
      ]
     },
     "execution_count": 47,
     "metadata": {},
     "output_type": "execute_result"
    }
   ],
   "source": [
    "data"
   ]
  }
 ],
 "metadata": {
  "kernelspec": {
   "display_name": "default",
   "language": "python",
   "name": "python3"
  },
  "language_info": {
   "codemirror_mode": {
    "name": "ipython",
    "version": 3
   },
   "file_extension": ".py",
   "mimetype": "text/x-python",
   "name": "python",
   "nbconvert_exporter": "python",
   "pygments_lexer": "ipython3",
   "version": "3.11.5"
  }
 },
 "nbformat": 4,
 "nbformat_minor": 2
}
