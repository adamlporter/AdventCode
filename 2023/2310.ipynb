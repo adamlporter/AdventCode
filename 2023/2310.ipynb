{
 "cells": [
  {
   "cell_type": "markdown",
   "metadata": {},
   "source": [
    "AOC [23.10](https://adventofcode.com/2023/day/10) Pipe Maze\n",
    "\n",
    "Input is a map of pipes with an animal in it.\n",
    "\n",
    "* | is a vertical pipe connecting north and south.\n",
    "* \\- is a horizontal pipe connecting east and west.\n",
    "* L is a 90-degree bend connecting north and east.\n",
    "* J is a 90-degree bend connecting north and west.\n",
    "* 7 is a 90-degree bend connecting south and west.\n",
    "* F is a 90-degree bend connecting south and east.\n",
    "* . is ground; there is no pipe in this tile.\n",
    "* S is the starting position of the animal; there is a pipe on this tile, but your sketch doesn't show what shape the pipe has.\n",
    "\n",
    "Find the maximum distance from the animal in the pipe.\n",
    "\n",
    "Map without dead-ends:\n",
    "```\n",
    "..F7.\n",
    ".FJ|.\n",
    "SJ.L7\n",
    "|F--J\n",
    "LJ...\n",
    "```\n",
    "Actual map:\n",
    "```7-F7-\n",
    ".FJ|7\n",
    "SJLL7\n",
    "|F--J\n",
    "LJ.LJ\n",
    "```\n",
    "* Note: pipes that are not connected to the loop can be ignored - they're just visual distraction (on part 1 of the puzzle!)\n",
    "\n",
    "Max distance:\n",
    "```..45.\n",
    ".236.\n",
    "01.78\n",
    "14567\n",
    "23...\n",
    "```\n",
    "Solution:\n",
    "1. Get data and keep in a list of lines\n",
    "1. Find ths \"S\" (start) (X,Y)\n",
    "1. Start iterating --> moving both directions from the S\n",
    "1. Use a dictionary to figure out the next X,Y in the list\n",
    "1. Continue until the two points are equal: what's the number of steps?\n"
   ]
  },
  {
   "cell_type": "code",
   "execution_count": 3,
   "metadata": {},
   "outputs": [
    {
     "name": "stdout",
     "output_type": "stream",
     "text": [
      "..F7.\n",
      ".FJ|.\n",
      "SJ.L7\n",
      "|F--J\n",
      "LJ...\n"
     ]
    }
   ],
   "source": [
    "test_data1 = '''.....\n",
    ".S-7.\n",
    ".|.|.\n",
    ".L-J.\n",
    ".....'''\n",
    "\n",
    "test_data2 = '''..F7.\n",
    ".FJ|.\n",
    "SJ.L7\n",
    "|F--J\n",
    "LJ...'''\n",
    "\n",
    "data = [line for line in test_data2.split('\\n')]\n",
    "for line in data:\n",
    "    print(line)"
   ]
  },
  {
   "cell_type": "code",
   "execution_count": 4,
   "metadata": {},
   "outputs": [
    {
     "name": "stdout",
     "output_type": "stream",
     "text": [
      "(2, 0)\n"
     ]
    }
   ],
   "source": [
    "def find_start(lines):\n",
    "    for i in range(len(lines)):\n",
    "        index = lines[i].find('S')\n",
    "        if index != -1:\n",
    "            return (i,index)\n",
    "    return (-999,-999)\n",
    "\n",
    "start_point = find_start(data)\n",
    "print(start_point)\n"
   ]
  },
  {
   "cell_type": "markdown",
   "metadata": {},
   "source": [
    "Since the path is a loop, we don't need to count from both sides of the starting point.\n",
    "\n",
    "It's easier just to find the total length of the path and divide by 2 --> that's the point that will be equidistant from the starting point."
   ]
  },
  {
   "cell_type": "code",
   "execution_count": 64,
   "metadata": {},
   "outputs": [
    {
     "name": "stdout",
     "output_type": "stream",
     "text": [
      "starting at (96, 101), going N\n",
      "\n",
      "total loop length = 13780. max distance = 6890.0\n"
     ]
    }
   ],
   "source": [
    "def find_start(lines):\n",
    "    for i in range(len(lines)):\n",
    "        index = lines[i].find('S')\n",
    "        if index != -1:\n",
    "            return (i,index)\n",
    "    return (-999,-999)\n",
    "\n",
    "def next_location(point,dir):\n",
    "    dir_dict = {'N':(-1,0),'S':(1,0),'E':(0,1),'W':(0,-1)}\n",
    "    change = dir_dict[dir]\n",
    "    return (point[0] + change[0], point[1]+change[1])\n",
    "\n",
    "def pipe_type(lines,point):\n",
    "    return lines[point[0]][point[1]]\n",
    "\n",
    "# get and print data\n",
    "#data = [line for line in test_data1.split('\\n')]\n",
    "#for line in data:\n",
    "#    print(line)\n",
    "\n",
    "with open ('2310input.txt') as f_in:\n",
    "    data = [line for line in f_in.read().split('\\n')]\n",
    "\n",
    "start_point = find_start(data)\n",
    "\n",
    "pipe_dict = {('E','-'):'E', ('W','-'):'W',\n",
    "            ('N','|'):'N', ('S','|'):'S',            \n",
    "            ('E','7'):'S', ('N','7'):'W',\n",
    "            ('S','L'):'E', ('W','L'):'N',\n",
    "            ('S','J'):'W', ('E','J'):'N',\n",
    "            ('W','F'):'S', ('N','F'):'E'}\n",
    "\n",
    "curr_dir = 'N'\n",
    "curr_loc = start_point\n",
    "\n",
    "steps = 1\n",
    "print(f\"starting at {curr_loc}, going {curr_dir}\")\n",
    "while steps < 10**6:\n",
    "    next_loc = next_location(curr_loc,curr_dir) # point(row,index) direction ('E') --> next point(row,index)\n",
    "    try:\n",
    "        next_dir = pipe_dict[curr_dir,pipe_type(data,next_loc)]\n",
    "    except KeyError:\n",
    "        if pipe_type(data,next_loc) == \"S\": # since \"S\" isn't in the pipe_dict, it mean's we're back at the start\n",
    "            # print('back to start -- exiting')\n",
    "            break\n",
    "    # print(f\"main: step {steps} next loc {next_loc} next dir {next_dir}\")\n",
    "    steps += 1\n",
    "    curr_loc = next_loc\n",
    "    curr_dir = next_dir\n",
    "    \n",
    "print(f\"\\ntotal loop length = {steps}. max distance = {(steps)/2}\")\n",
    "\n"
   ]
  }
 ],
 "metadata": {
  "kernelspec": {
   "display_name": "default",
   "language": "python",
   "name": "python3"
  },
  "language_info": {
   "codemirror_mode": {
    "name": "ipython",
    "version": 3
   },
   "file_extension": ".py",
   "mimetype": "text/x-python",
   "name": "python",
   "nbconvert_exporter": "python",
   "pygments_lexer": "ipython3",
   "version": "3.11.5"
  }
 },
 "nbformat": 4,
 "nbformat_minor": 2
}
