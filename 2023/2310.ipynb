{
 "cells": [
  {
   "cell_type": "markdown",
   "metadata": {},
   "source": [
    "AOC [23.10](https://adventofcode.com/2023/day/10) Pipe Maze\n",
    "\n",
    "Input is a map of pipes with an animal in it.\n",
    "\n",
    "* | is a vertical pipe connecting north and south.\n",
    "* \\- is a horizontal pipe connecting east and west.\n",
    "* L is a 90-degree bend connecting north and east.\n",
    "* J is a 90-degree bend connecting north and west.\n",
    "* 7 is a 90-degree bend connecting south and west.\n",
    "* F is a 90-degree bend connecting south and east.\n",
    "* . is ground; there is no pipe in this tile.\n",
    "* S is the starting position of the animal; there is a pipe on this tile, but your sketch doesn't show what shape the pipe has.\n",
    "\n",
    "Find the maximum distance from the animal in the pipe.\n",
    "\n",
    "Map without dead-ends:\n",
    "```\n",
    "..F7.\n",
    ".FJ|.\n",
    "SJ.L7\n",
    "|F--J\n",
    "LJ...\n",
    "```\n",
    "Actual map:\n",
    "```7-F7-\n",
    ".FJ|7\n",
    "SJLL7\n",
    "|F--J\n",
    "LJ.LJ\n",
    "```\n",
    "* Note: pipes that are not connected to the loop can be ignored - they're just visual distraction (on part 1 of the puzzle!)\n",
    "\n",
    "Max distance:\n",
    "```..45.\n",
    ".236.\n",
    "01.78\n",
    "14567\n",
    "23...\n",
    "```\n",
    "Solution:\n",
    "1. Get data and keep in a list of lines\n",
    "1. Find ths \"S\" (start) (X,Y)\n",
    "1. Start iterating --> moving both directions from the S\n",
    "1. Use a dictionary to figure out the next X,Y in the list\n",
    "1. Continue until the two points are equal: what's the number of steps?\n"
   ]
  },
  {
   "cell_type": "code",
   "execution_count": null,
   "metadata": {},
   "outputs": [],
   "source": []
  }
 ],
 "metadata": {
  "language_info": {
   "name": "python"
  }
 },
 "nbformat": 4,
 "nbformat_minor": 2
}
