{
 "cells": [
  {
   "cell_type": "markdown",
   "metadata": {},
   "source": [
    "AOC [23.01](https://adventofcode.com/2023/day/1).\n",
    "\n",
    "Puzzle 1:\n",
    "\n",
    "\"Calibration document\" has been altered by artist; can't read values on the document. \n",
    "\n",
    "Each line contains numbers. Need to find the first and last number in each line and combine them to form a number; these need to be added to find the calbration number.\n",
    "\n",
    "Extracting numbers from a string of text is easy with a regular expression. I just need to do a little googling to remember the correct format!\n",
    "\n",
    "I will look at the example and get it working, then use the actual data."
   ]
  },
  {
   "cell_type": "code",
   "execution_count": 3,
   "metadata": {},
   "outputs": [
    {
     "name": "stdout",
     "output_type": "stream",
     "text": [
      "1abc2\n",
      "pqr3stu8vwx\n",
      "a1b2c3d4e5f\n",
      "treb7uchet\n"
     ]
    }
   ],
   "source": [
    "# Example\n",
    "data = '''1abc2\n",
    "pqr3stu8vwx\n",
    "a1b2c3d4e5f\n",
    "treb7uchet'''\n",
    "\n",
    "for line in data.split('\\n'):\n",
    "    print(line)"
   ]
  },
  {
   "cell_type": "code",
   "execution_count": 5,
   "metadata": {},
   "outputs": [
    {
     "name": "stdout",
     "output_type": "stream",
     "text": [
      "['1', '2']\n",
      "['3', '8']\n",
      "['1', '2', '3', '4', '5']\n",
      "['7']\n"
     ]
    }
   ],
   "source": [
    "# Let's figure out the correct RegEx to get the numbers out of the text\n",
    "# https://www.geeksforgeeks.org/python-regex/\n",
    "import re\n",
    "pattern = re.compile(r'\\d')\n",
    "\n",
    "for line in data.split('\\n'):\n",
    "    nums = re.findall(pattern,line)\n",
    "    print(nums)\n",
    "\n",
    "\n"
   ]
  },
  {
   "cell_type": "code",
   "execution_count": 6,
   "metadata": {},
   "outputs": [
    {
     "name": "stdout",
     "output_type": "stream",
     "text": [
      "12\n",
      "38\n",
      "15\n",
      "77\n"
     ]
    }
   ],
   "source": [
    "# Got the numbers; now need to combine them\n",
    "for line in data.split('\\n'):\n",
    "    nums = re.findall(pattern,line)\n",
    "    if len(nums) >= 2:\n",
    "        number = int(f\"{nums[0]}{nums[-1]}\")\n",
    "    else:\n",
    "        number = int(f\"{nums[0]}{nums[0]}\")\n",
    "    print(number)\n"
   ]
  },
  {
   "cell_type": "code",
   "execution_count": 7,
   "metadata": {},
   "outputs": [
    {
     "name": "stdout",
     "output_type": "stream",
     "text": [
      "calibration value is 54561\n"
     ]
    }
   ],
   "source": [
    "# OK, all that works; let's run it on the actual data\n",
    "input = '/home/alp/Google Drive/Python/AdventCode/2023/2301input.txt'\n",
    "\n",
    "with open (input) as f_in:\n",
    "    data = f_in.read().split('\\n')\n",
    "\n",
    "calibration_value = 0\n",
    "\n",
    "for line in data:\n",
    "    nums = re.findall(pattern,line)\n",
    "    if len(nums) >= 2:\n",
    "        number = int(f\"{nums[0]}{nums[-1]}\")\n",
    "    else:\n",
    "        number = int(f\"{nums[0]}{nums[0]}\")\n",
    "    calibration_value += number\n",
    "\n",
    "print(f\"calibration value is {calibration_value}\")"
   ]
  },
  {
   "cell_type": "markdown",
   "metadata": {},
   "source": [
    "Puzzle 2:\n",
    "\n",
    "Some digits are spelled out with letters ('one','two',etc).\n",
    "\n",
    "Need to find *real* first and last numbers on each line.\n",
    "\n",
    "Solutions:\n",
    "1. modify the RegEx pattern and use the same program\n",
    "1. if that doesn't work, use the replace function on each string to swap out the written numbers for integers and then reuse the exact program above.\n",
    "\n",
    "I'll mess around a bit with the first option but the second is pretty straight-forward."
   ]
  },
  {
   "cell_type": "code",
   "execution_count": 51,
   "metadata": {},
   "outputs": [],
   "source": [
    "#example\n",
    "data = '''two1nine\n",
    "eightwothree\n",
    "abcone2threexyz\n",
    "xtwone3four\n",
    "4nineeightseven2\n",
    "zoneight234\n",
    "7pqrstsixteen'''"
   ]
  },
  {
   "cell_type": "code",
   "execution_count": null,
   "metadata": {},
   "outputs": [],
   "source": [
    "pattern = re.compile(r'\\d|')\n",
    "\n",
    "for line in data.split('\\n'):\n",
    "    nums = re.findall(pattern,line)\n",
    "    print(nums)"
   ]
  },
  {
   "cell_type": "markdown",
   "metadata": {},
   "source": [
    "OK, that didn't take long -- it's going to be easier to do the replace than figure out the RE!"
   ]
  },
  {
   "cell_type": "code",
   "execution_count": 20,
   "metadata": {},
   "outputs": [
    {
     "name": "stdout",
     "output_type": "stream",
     "text": [
      "219\n",
      "29\n",
      "eigh23\n",
      "23\n",
      "abc123xyz\n",
      "13\n",
      "xtw134\n",
      "14\n",
      "49872\n",
      "42\n",
      "z1ight234\n",
      "14\n",
      "7pqrst6teen\n",
      "76\n"
     ]
    }
   ],
   "source": [
    "dd = {'one':'1','two':'2','three':'3','four':'4','five':'5','six':'6',\n",
    "'seven':'7','eight':'8','nine':'9'}\n",
    "\n",
    "for line in data.split('\\n'):\n",
    "    for k,v in dd.items():\n",
    "        line = line.replace(k,str(v))\n",
    "    print(line)\n",
    "    \n",
    "    nums = re.findall(pattern,line)\n",
    "    if len(nums) >= 2:\n",
    "        number = int(f\"{nums[0]}{nums[-1]}\")\n",
    "    else:\n",
    "        number = int(f\"{nums[0]}{nums[0]}\")\n",
    "    print(number)\n"
   ]
  },
  {
   "cell_type": "markdown",
   "metadata": {},
   "source": [
    "This works, except when two numbers share the same first and last characters\n",
    "\n",
    "```\n",
    "eightwo = eight two\n",
    "twone = two one\n",
    "```\n",
    "When this happens, if the k/v loop replaces a lower-value number (like one or two above), it destroys the number that appears earlier in the line (eight, two).\n",
    "\n",
    "Let's go back to RegEx. . ."
   ]
  },
  {
   "cell_type": "code",
   "execution_count": 24,
   "metadata": {},
   "outputs": [
    {
     "name": "stdout",
     "output_type": "stream",
     "text": [
      "<re.Match object; span=(0, 3), match='two'>\n",
      "<re.Match object; span=(0, 5), match='eight'>\n",
      "<re.Match object; span=(3, 6), match='one'>\n",
      "<re.Match object; span=(1, 4), match='two'>\n",
      "<re.Match object; span=(0, 1), match='4'>\n",
      "<re.Match object; span=(1, 4), match='one'>\n",
      "<re.Match object; span=(0, 1), match='7'>\n"
     ]
    }
   ],
   "source": [
    "pattern = re.compile(r'\\d|(one)|(two)|(three)|(four)|(five)|(six)|(seven)|(eight)|(nine)')\n",
    "\n",
    "for line in data.split('\\n'):\n",
    "    nums = re.search(pattern,line)\n",
    "    print(nums)"
   ]
  },
  {
   "cell_type": "code",
   "execution_count": 29,
   "metadata": {},
   "outputs": [
    {
     "name": "stdout",
     "output_type": "stream",
     "text": [
      "2\n",
      "8\n",
      "1\n",
      "2\n",
      "4\n",
      "1\n",
      "7\n"
     ]
    }
   ],
   "source": [
    "# That finds the first number. My earlier code finds the second number correctly.\n",
    "findFirst = re.compile(r'\\d|(one)|(two)|(three)|(four)|(five)|(six)|(seven)|(eight)|(nine)')\n",
    "\n",
    "for line in data.split('\\n'):\n",
    "    num = re.search(findFirst,line)[0]\n",
    "    if len(num) == 1:\n",
    "        firstNum = int(num)\n",
    "    else:\n",
    "        firstNum = int(dd[num])\n",
    "    print(firstNum)\n",
    "\n",
    "\n"
   ]
  },
  {
   "cell_type": "code",
   "execution_count": 52,
   "metadata": {},
   "outputs": [
    {
     "name": "stdout",
     "output_type": "stream",
     "text": [
      "29\n",
      "83\n",
      "13\n",
      "24\n",
      "42\n",
      "14\n",
      "76\n"
     ]
    }
   ],
   "source": [
    "dd = {'one':'1','two':'2','three':'3','four':'4','five':'5','six':'6',\n",
    "'seven':'7','eight':'8','nine':'9'}\n",
    "\n",
    "findFirst = re.compile(r'\\d|(one)|(two)|(three)|(four)|(five)|(six)|(seven)|(eight)|(nine)')\n",
    "findSecond = pattern = re.compile(r'\\d')\n",
    "\n",
    "for line in data.split('\\n'):\n",
    "    num = re.search(findFirst,line)[0]\n",
    "    if len(num) == 1:\n",
    "        firstNum = int(num)\n",
    "    else:\n",
    "        firstNum = int(dd[num])\n",
    "\n",
    "    for k,v in dd.items():\n",
    "        line = line.replace(k,str(v))\n",
    "    secondNum = re.findall(findSecond,line)[-1]\n",
    "\n",
    "    print(f\"{firstNum}{secondNum}\")\n",
    "\n",
    "\n",
    "\n",
    "\n",
    "\n"
   ]
  },
  {
   "cell_type": "markdown",
   "metadata": {},
   "source": [
    "Finally -- got that to work! Now to run on the real data..."
   ]
  },
  {
   "cell_type": "code",
   "execution_count": 53,
   "metadata": {},
   "outputs": [
    {
     "name": "stdout",
     "output_type": "stream",
     "text": [
      "calibration value is 54020\n"
     ]
    }
   ],
   "source": [
    "with open (input) as f_in:\n",
    "    data = f_in.read().split('\\n')\n",
    "\n",
    "dd = {'one':'1','two':'2','three':'3','four':'4','five':'5','six':'6',\n",
    "'seven':'7','eight':'8','nine':'9'}\n",
    "\n",
    "findFirst = re.compile(r'\\d|(one)|(two)|(three)|(four)|(five)|(six)|(seven)|(eight)|(nine)')\n",
    "findSecond = pattern = re.compile(r'\\d')\n",
    "\n",
    "calibration_value = 0\n",
    "\n",
    "for line in data:\n",
    "    #print(line)\n",
    "    num = re.search(findFirst,line)[0]\n",
    "    if len(num) == 1:\n",
    "        firstNum = int(num)\n",
    "    else:\n",
    "        firstNum = int(dd[num])\n",
    "\n",
    "    for k,v in dd.items():\n",
    "        line = line.replace(k,str(v))\n",
    "    secondNum = re.findall(findSecond,line)[-1]\n",
    "\n",
    "    calibration_value += int(f\"{firstNum}{secondNum}\")\n",
    "    #print(f\"{firstNum}{secondNum}\")\n",
    "\n",
    "print(f\"calibration value is {calibration_value}\")"
   ]
  },
  {
   "cell_type": "markdown",
   "metadata": {},
   "source": [
    "AOC says that 54020 is not the correct answer -- it's too low.\n",
    "\n",
    "Let's try using the same method to look for the last number in the line -- just reverse the line!"
   ]
  },
  {
   "cell_type": "code",
   "execution_count": 54,
   "metadata": {},
   "outputs": [
    {
     "name": "stdout",
     "output_type": "stream",
     "text": [
      "51cfsf6742cllbfnptkgttf -- fttgktpnfbllc2476fsfc15\n"
     ]
    }
   ],
   "source": [
    "print(f\"{line} -- {line[::-1]}\")"
   ]
  },
  {
   "cell_type": "code",
   "execution_count": 55,
   "metadata": {},
   "outputs": [
    {
     "name": "stdout",
     "output_type": "stream",
     "text": [
      "calibration value is 54076\n"
     ]
    }
   ],
   "source": [
    "with open (input) as f_in:\n",
    "    data = f_in.read().split('\\n')\n",
    "\n",
    "dd = {'one':1,'two':2,'three':3,'four':4,'five':5,'six':6,'seven':7,'eight':8,'nine':9,\n",
    "      'eno':1,'owt':2,'eerht':3,'ruof':4,'evif':5,'xis':6,'neves':7,'thgie':8,'enin':9}\n",
    "\n",
    "findFirst =  re.compile(r'\\d|(one)|(two)|(three)|(four)|(five)|(six)|(seven)|(eight)|(nine)')\n",
    "findSecond = re.compile(r'\\d|(eno)|(owt)|(eerht)|(ruof)|(evif)|(xis)|(neves)|(thgie)|(enin)')\n",
    "\n",
    "calibration_value = 0\n",
    "\n",
    "for line in data:\n",
    "    num = re.search(findFirst,line)[0]\n",
    "    if len(num) == 1:\n",
    "        firstNum = int(num)\n",
    "    else:\n",
    "        firstNum = dd[num]\n",
    "\n",
    "    num = re.search(findSecond,line[::-1])[0]\n",
    "    if len(num) == 1:\n",
    "        secondNum = int(num)\n",
    "    else:\n",
    "        secondNum = dd[num]\n",
    "\n",
    "    calibration_value += int(f\"{firstNum}{secondNum}\")\n",
    "\n",
    "print(f\"calibration value is {calibration_value}\")"
   ]
  }
 ],
 "metadata": {
  "kernelspec": {
   "display_name": "Python 3",
   "language": "python",
   "name": "python3"
  },
  "language_info": {
   "codemirror_mode": {
    "name": "ipython",
    "version": 3
   },
   "file_extension": ".py",
   "mimetype": "text/x-python",
   "name": "python",
   "nbconvert_exporter": "python",
   "pygments_lexer": "ipython3",
   "version": "3.10.12"
  }
 },
 "nbformat": 4,
 "nbformat_minor": 2
}
