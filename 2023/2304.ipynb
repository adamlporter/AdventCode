{
 "cells": [
  {
   "cell_type": "markdown",
   "metadata": {},
   "source": [
    "AOC [23.04](https://adventofcode.com/2023/day/4): Scratch Cards\n",
    "\n",
    "Puzzle 1: How many matches on cards?\n",
    "* five numbers a winners; eight numbers \"you have\". How many of the five are found in the eight?\n",
    "* each match scores 2^x points (1 match = 1, 2 matches = 4, 3 matches = 8)\n",
    "* all numbers are < 100\n",
    "\n",
    "Solution:\n",
    "1. Use partition repeatedly to separate into groups of numbers\n",
    "1. use text.split() to create lists of numbers\n",
    "1. for each number in group2, check to see if in group1\n",
    "1. calculate score"
   ]
  },
  {
   "cell_type": "code",
   "execution_count": 27,
   "metadata": {},
   "outputs": [
    {
     "name": "stdout",
     "output_type": "stream",
     "text": [
      "2 [13, 32, 20, 16, 61] [61, 30, 68, 82, 17, 32, 24, 19]\n",
      "2 4\n"
     ]
    }
   ],
   "source": [
    "testData = '''Card 1: 41 48 83 86 17 | 83 86  6 31 17  9 48 53\n",
    "Card 2: 13 32 20 16 61 | 61 30 68 82 17 32 24 19\n",
    "Card 3:  1 21 53 59 44 | 69 82 63 72 16 21 14  1\n",
    "Card 4: 41 92 73 84 69 | 59 84 76 51 58  5 54 83\n",
    "Card 5: 87 83 26 28 32 | 88 30 70 12 93 22 82 36\n",
    "Card 6: 31 18 13 56 72 | 74 77 10 23 35 67 36 11'''\n",
    "\n",
    "line = 'Card 2: 13 32 20 16 61 | 61 30 68 82 17 32 24 19'\n",
    "head,_,tail = line.partition(':')\n",
    "cardNum = int(head[-2:])\n",
    "\n",
    "head,_,tail = tail.partition('|')\n",
    "winningNum = [int(x) for x in head.split()]\n",
    "yourNum = [int(x) for x in tail.split()]\n",
    "\n",
    "print(cardNum,winningNum,yourNum)\n",
    "\n",
    "matches = 0\n",
    "for num in winningNum:\n",
    "    matches += yourNum.count(num)\n",
    "\n",
    "print(f\"{matches} {2**matches}\")\n"
   ]
  },
  {
   "cell_type": "markdown",
   "metadata": {},
   "source": [
    "Well, that was remarkably easier than some of the earlier days. Let's test it with all the testData and then run it on the full dataset."
   ]
  },
  {
   "cell_type": "code",
   "execution_count": 14,
   "metadata": {},
   "outputs": [
    {
     "name": "stdout",
     "output_type": "stream",
     "text": [
      "card1, matches 4\n",
      "8\n",
      "card2, matches 2\n",
      "2\n",
      "card3, matches 2\n",
      "2\n",
      "card4, matches 1\n",
      "1\n",
      "card5, matches 0\n",
      "0\n",
      "card6, matches 0\n",
      "0\n"
     ]
    }
   ],
   "source": [
    "def calcCardScore(oneCard):\n",
    "    head,_,tail = line.partition(':')\n",
    "    cardNum = int(head[-2:]) # don't need to save this, but might in part 2!\n",
    "\n",
    "    head,_,tail = tail.partition('|')\n",
    "    group1 = [int(x) for x in head.split()]\n",
    "    group2 = [int(x) for x in tail.split()]\n",
    "\n",
    "    matches = 0\n",
    "    for num in group1:\n",
    "        matches += group2.count(num)\n",
    "    \n",
    "    print(f\"card{cardNum}, matches {matches}\")\n",
    "\n",
    "    if matches >= 1:\n",
    "        return 2**(matches-1)\n",
    "    else:\n",
    "        return 0\n",
    "\n",
    "tally = 0\n",
    "for line in testData.split('\\n'):\n",
    "    print(calcCardScore(line))\n",
    "\n",
    "\n"
   ]
  },
  {
   "cell_type": "code",
   "execution_count": 17,
   "metadata": {},
   "outputs": [
    {
     "name": "stdout",
     "output_type": "stream",
     "text": [
      "total score is 32609\n"
     ]
    }
   ],
   "source": [
    "def calcCardScore(oneCard):\n",
    "    head,_,tail = line.partition(':')\n",
    "    cardNum = int(head[-2:]) # don't need to save this, but might in part 2!\n",
    "\n",
    "    head,_,tail = tail.partition('|')\n",
    "    group1 = [int(x) for x in head.split()]\n",
    "    group2 = [int(x) for x in tail.split()]\n",
    "\n",
    "    matches = 0\n",
    "    for num in group1:\n",
    "        matches += group2.count(num)\n",
    "    \n",
    "    #print(f\"card{cardNum}, matches {matches}\")\n",
    "\n",
    "    if matches >= 1:\n",
    "        return 2**(matches-1)\n",
    "    else:\n",
    "        return 0\n",
    "\n",
    "with open ('2304input.txt') as f_in:\n",
    "    data = [line for line in f_in.read().split('\\n')]\n",
    "\n",
    "tally = 0\n",
    "for line in data:\n",
    "    tally += calcCardScore(line)\n",
    "\n",
    "print(f\"total score is {tally}\")\n",
    "\n",
    "\n"
   ]
  },
  {
   "cell_type": "markdown",
   "metadata": {},
   "source": [
    "That's correct!\n",
    "\n",
    "Part 2:\n",
    "1. score the card to find N matches\n",
    "1. for make copies of the next N matches in the list\n",
    "1. score each copy and make copies of the next N matches\n",
    "1. Do this until you reach the end of the list\n",
    "1. How many cards do you end up with?\n",
    "\n",
    "Solution:\n",
    "1. Create a second list (totalCards) and a dd with number of each cardNum\n",
    "1. Iterate over first list, \n",
    " 1. finding N matches and copying cards from inputData to totalCards\n",
    " 1. incrementing the dd\n",
    "1. add up the values in the dd to find the total N cards"
   ]
  },
  {
   "cell_type": "code",
   "execution_count": null,
   "metadata": {},
   "outputs": [],
   "source": [
    "def calcCardScore(oneCard):\n",
    "    head,_,tail = line.partition(':')\n",
    "    cardNum = int(head[-2:]) # don't need to save this, but might in part 2!\n",
    "\n",
    "    head,_,tail = tail.partition('|')\n",
    "    group1 = [int(x) for x in head.split()]\n",
    "    group2 = [int(x) for x in tail.split()]\n",
    "\n",
    "    matches = 0\n",
    "    for num in group1:\n",
    "        matches += group2.count(num)\n",
    "    \n",
    "    return matches\n",
    "\n",
    "data = [line for line in testData.split('\\n')]\n",
    "\n",
    "# prime the working stack with card 0\n",
    "workingStack = data[0]\n",
    "\n",
    "cardNum = 1\n",
    "for card in workingStack:\n",
    "    matches = calcCardScore(card)\n",
    "    for i in range(0,matches):\n",
    "        try:\n",
    "            workingStack.append(data[cardNum]+i) # add copies of the next X cards in the list to the working stack\n",
    "        except IndexError:\n",
    "            continue\n",
    "    print(workingStack)\n",
    "    cardNum += 1"
   ]
  },
  {
   "cell_type": "markdown",
   "metadata": {},
   "source": [
    "Let's try something else:\n",
    "1. create a list of all the card numbers and their scores\n",
    "1. go through that list and try to calculate how many cards would be copied."
   ]
  },
  {
   "cell_type": "code",
   "execution_count": 71,
   "metadata": {},
   "outputs": [
    {
     "data": {
      "text/plain": [
       "{1: 4, 2: 2, 3: 2, 4: 1, 5: 0, 6: 0}"
      ]
     },
     "execution_count": 71,
     "metadata": {},
     "output_type": "execute_result"
    }
   ],
   "source": [
    "def calcCardScore(oneCard):\n",
    "    head,_,tail = line.partition(':')\n",
    "    cardNum = int(head[-2:]) # don't need to save this, but might in part 2!\n",
    "\n",
    "    head,_,tail = tail.partition('|')\n",
    "    group1 = [int(x) for x in head.split()]\n",
    "    group2 = [int(x) for x in tail.split()]\n",
    "\n",
    "    matches = 0\n",
    "    for num in group1:\n",
    "        matches += group2.count(num)\n",
    "    \n",
    "    return (cardNum, matches)\n",
    "\n",
    "data = [x for x in testData.split('\\n')]\n",
    "\n",
    "cardScores = {}\n",
    "\n",
    "cardNum = 1\n",
    "for line in data:\n",
    "    cardScores[cardNum] = calcCardScore(line)[1]\n",
    "    cardNum += 1\n",
    "\n",
    "cardScores"
   ]
  },
  {
   "cell_type": "code",
   "execution_count": 81,
   "metadata": {},
   "outputs": [
    {
     "name": "stdout",
     "output_type": "stream",
     "text": [
      "30\n"
     ]
    }
   ],
   "source": [
    "cardDict={}\n",
    "for i in range(1,len(data)+1):\n",
    "    cardDict[i] = 1\n",
    "\n",
    "for cardNum in range(1,len(data)+1):  # look at each card in dictionary \n",
    "    for repeatCard in range(cardDict[cardNum]): # repeat each card as many times as it ocurrs (0 to nnn)\n",
    "        for addCard in range(cardScores[cardNum]): # look at card score and add to piles of subsequent cards\n",
    "            cardDict[cardNum + addCard + 1] += 1\n",
    "\n",
    "cardDict\n",
    "tally  = 0\n",
    "for k,v in cardDict.items():\n",
    "    tally += v\n",
    "\n",
    "print(tally)"
   ]
  },
  {
   "cell_type": "markdown",
   "metadata": {},
   "source": [
    "OK, that works. Let's see what happens with the real data. . .\n"
   ]
  },
  {
   "cell_type": "code",
   "execution_count": 82,
   "metadata": {},
   "outputs": [
    {
     "name": "stdout",
     "output_type": "stream",
     "text": [
      "14624680\n"
     ]
    }
   ],
   "source": [
    "def calcCardScore(oneCard):\n",
    "    head,_,tail = line.partition(':')\n",
    "    cardNum = int(head[-2:]) # don't need to save this, but might in part 2!\n",
    "\n",
    "    head,_,tail = tail.partition('|')\n",
    "    group1 = [int(x) for x in head.split()]\n",
    "    group2 = [int(x) for x in tail.split()]\n",
    "\n",
    "    matches = 0\n",
    "    for num in group1:\n",
    "        matches += group2.count(num)\n",
    "    \n",
    "    return (cardNum, matches)\n",
    "\n",
    "with open ('2304input.txt') as f_in:\n",
    "    data = [line for line in f_in.read().split('\\n')]\n",
    "\n",
    "cardScores = {}\n",
    "\n",
    "cardNum = 1\n",
    "for line in data:\n",
    "    cardScores[cardNum] = calcCardScore(line)[1]\n",
    "    cardNum += 1\n",
    "\n",
    "cardDict={}\n",
    "for i in range(1,len(data)+1):\n",
    "    cardDict[i] = 1\n",
    "\n",
    "for cardNum in range(1,len(data)+1):  # look at each card in dictionary \n",
    "    for repeatCard in range(cardDict[cardNum]): # repeat each card as many times as it ocurrs (0 to nnn)\n",
    "        for addCard in range(cardScores[cardNum]): # look at card score and add to piles of subsequent cards\n",
    "            cardDict[cardNum + addCard + 1] += 1\n",
    "\n",
    "tally  = 0\n",
    "for k,v in cardDict.items():\n",
    "    tally += v\n",
    "\n",
    "print(tally)"
   ]
  }
 ],
 "metadata": {
  "kernelspec": {
   "display_name": "default",
   "language": "python",
   "name": "python3"
  },
  "language_info": {
   "codemirror_mode": {
    "name": "ipython",
    "version": 3
   },
   "file_extension": ".py",
   "mimetype": "text/x-python",
   "name": "python",
   "nbconvert_exporter": "python",
   "pygments_lexer": "ipython3",
   "version": "3.9.5"
  }
 },
 "nbformat": 4,
 "nbformat_minor": 2
}
