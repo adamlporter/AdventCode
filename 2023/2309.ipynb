{
 "cells": [
  {
   "cell_type": "markdown",
   "metadata": {},
   "source": [
    "AOC [23.09](https://adventofcode.com/2023/day/9) Mirage Maintenance\n",
    "\n",
    "Input is data from an environmental sensor. Each line contains the history of a single variable.  Figure out an equation to predict next value for each line.\n",
    "\n",
    "Procedure: \n",
    "1. for each sequence of numbers, create a new sequence that is the difference between the numbers\n",
    "* 1, 3, 6, 10, 15, 21 --> 2, 3, 4, 5, 6\n",
    "1. Keep doing this until all the differences are zeros:\n",
    "* 1, 3, 6, 10, 15, 21 --> 2, 3, 4, 5, 6 --> 1, 1, 1 --> 0, 0, 0\n",
    "1. start with zero and add the last digit in each line:\n",
    "* 0 + 1 = 1\n",
    "* 1 + 6 = 7\n",
    "* 7 + 21 = 28\n",
    "\n",
    "Find the sum of all the lists in the input.\n",
    "\n",
    "Solution:\n",
    "1. write a function that takes a list of numbers and returns the next value in the list\n",
    "1. the function should do the process described above (create a series of lists)\n"
   ]
  },
  {
   "cell_type": "code",
   "execution_count": 1,
   "metadata": {},
   "outputs": [
    {
     "data": {
      "text/plain": [
       "[[0, 3, 6, 9, 12, 15], [1, 3, 6, 10, 15, 21], [10, 13, 16, 21, 30, 45]]"
      ]
     },
     "execution_count": 1,
     "metadata": {},
     "output_type": "execute_result"
    }
   ],
   "source": [
    "test_data = '''0 3 6 9 12 15\n",
    "1 3 6 10 15 21\n",
    "10 13 16 21 30 45'''\n",
    "\n",
    "data = [line for line in test_data.split('\\n')]\n",
    "data = [list(map(int, x.split())) for x in data]\n",
    "\n",
    "data"
   ]
  },
  {
   "cell_type": "code",
   "execution_count": 18,
   "metadata": {},
   "outputs": [
    {
     "ename": "NameError",
     "evalue": "name 'line' is not defined",
     "output_type": "error",
     "traceback": [
      "\u001b[0;31m---------------------------------------------------------------------------\u001b[0m",
      "\u001b[0;31mNameError\u001b[0m                                 Traceback (most recent call last)",
      "\u001b[0;32m/tmp/ipykernel_228923/1663644688.py\u001b[0m in \u001b[0;36m<cell line: 1>\u001b[0;34m()\u001b[0m\n\u001b[0;32m----> 1\u001b[0;31m \u001b[0;34m[\u001b[0m\u001b[0mlist\u001b[0m\u001b[0;34m(\u001b[0m\u001b[0mmap\u001b[0m\u001b[0;34m(\u001b[0m\u001b[0mint\u001b[0m\u001b[0;34m,\u001b[0m \u001b[0mx\u001b[0m\u001b[0;34m.\u001b[0m\u001b[0msplit\u001b[0m\u001b[0;34m(\u001b[0m\u001b[0;34m)\u001b[0m\u001b[0;34m)\u001b[0m\u001b[0;34m)\u001b[0m \u001b[0;32mfor\u001b[0m \u001b[0mx\u001b[0m \u001b[0;32min\u001b[0m \u001b[0mline\u001b[0m \u001b[0;32mfor\u001b[0m \u001b[0mline\u001b[0m \u001b[0;32min\u001b[0m \u001b[0mtest_data\u001b[0m\u001b[0;34m.\u001b[0m\u001b[0msplit\u001b[0m\u001b[0;34m(\u001b[0m\u001b[0;34m'\\n'\u001b[0m\u001b[0;34m)\u001b[0m\u001b[0;34m]\u001b[0m\u001b[0;34m\u001b[0m\u001b[0;34m\u001b[0m\u001b[0m\n\u001b[0m",
      "\u001b[0;31mNameError\u001b[0m: name 'line' is not defined"
     ]
    }
   ],
   "source": [
    "[list(map(int, x.split())) for x in line for line in test_data.split('\\n')]"
   ]
  },
  {
   "cell_type": "code",
   "execution_count": 2,
   "metadata": {},
   "outputs": [],
   "source": [
    "def find_diffs(sequence): # input list of values; returns list of differences in values\n",
    "    diffs = []\n",
    "    for i in range(len(sequence)-1):\n",
    "        diffs.append(sequence[i+1] - sequence[i])\n",
    "    return diffs\n"
   ]
  },
  {
   "cell_type": "markdown",
   "metadata": {},
   "source": [
    "Thinking about the problem a bit more, I don't need to save all the different lists that are produced (as the assignment suggests). Rather, I just need to add the final element of each list to the final element of the current list. This is much easier!"
   ]
  },
  {
   "cell_type": "code",
   "execution_count": 3,
   "metadata": {},
   "outputs": [
    {
     "name": "stdout",
     "output_type": "stream",
     "text": [
      "[10, 13, 16, 21, 30, 45] 1000000 45\n",
      "[3, 3, 5, 9, 15] 15 60\n",
      "[0, 2, 4, 6] 6 66\n",
      "[2, 2, 2] 2 68\n",
      "[0, 0] 0 68\n"
     ]
    }
   ],
   "source": [
    "def find_diffs(sequence): # input list of values; returns list of differences in values\n",
    "    diffs = []\n",
    "    for i in range(len(sequence)-1):\n",
    "        diffs.append(sequence[i+1] - sequence[i])\n",
    "    return diffs\n",
    "\n",
    "\n",
    "last_val = 10**6\n",
    "curr_seq = [10 , 13  ,16 , 21 , 30,  45 ]\n",
    "next_val = curr_seq[-1] # get the last value in the curr sequence\n",
    "print(curr_seq,last_val, next_val)\n",
    "\n",
    "while last_val > 0:\n",
    "    diffs = find_diffs(curr_seq) # find the last val in the list of differences\n",
    "    last_val = diffs[-1]\n",
    "    next_val += last_val\n",
    "    curr_seq = diffs\n",
    "    print(curr_seq,last_val, next_val)\n",
    "\n"
   ]
  },
  {
   "cell_type": "code",
   "execution_count": 4,
   "metadata": {},
   "outputs": [
    {
     "name": "stdout",
     "output_type": "stream",
     "text": [
      "[0, 3, 6, 9, 12, 15]\n",
      "next element = 18\n",
      "[1, 3, 6, 10, 15, 21]\n",
      "next element = 28\n",
      "[10, 13, 16, 21, 30, 45]\n",
      "next element = 68\n",
      "114\n"
     ]
    }
   ],
   "source": [
    "\n",
    "data = [line for line in test_data.split('\\n')]\n",
    "data = [list(map(int, x.split())) for x in data]\n",
    "\n",
    "data\n",
    "\n",
    "def find_diffs(sequence): # input list of values; returns list of differences in values\n",
    "    diffs = []\n",
    "    for i in range(len(sequence)-1):\n",
    "        diffs.append(sequence[i+1] - sequence[i])\n",
    "    return diffs\n",
    "\n",
    "tally = 0\n",
    "for curr_seq in data:\n",
    "    last_val = 10**6\n",
    "    next_val = curr_seq[-1]\n",
    "    print(curr_seq)\n",
    "    while last_val > 0:\n",
    "        diffs = find_diffs(curr_seq) # find the last val in the list of differences\n",
    "        last_val = diffs[-1]\n",
    "        next_val += last_val\n",
    "        curr_seq = diffs\n",
    "    print(f\"next element = {next_val}\")\n",
    "    tally += next_val\n",
    "print(tally)\n",
    "        \n"
   ]
  },
  {
   "cell_type": "markdown",
   "metadata": {},
   "source": [
    "Test data works fine. Let's try production data..."
   ]
  },
  {
   "cell_type": "code",
   "execution_count": 27,
   "metadata": {},
   "outputs": [
    {
     "name": "stdout",
     "output_type": "stream",
     "text": [
      "1,877,825,184,  1877825184\n"
     ]
    }
   ],
   "source": [
    "with open ('2309input.txt') as f_in:\n",
    "    data = [line for line in f_in.read().split('\\n')]\n",
    "\n",
    "#data = [line for line in test_data.split('\\n')]\n",
    "data = [list(map(int, x.split())) for x in data]\n",
    "\n",
    "data\n",
    "\n",
    "def find_diffs(sequence): # input list of values; returns list of differences in values\n",
    "    diffs = []\n",
    "    for i in range(len(sequence)-1):\n",
    "        diffs.append(sequence[i+1] - sequence[i])\n",
    "    return diffs\n",
    "\n",
    "tally = 0\n",
    "for curr_seq in data:\n",
    "    #last_val = 10**10     \n",
    "    next_val = curr_seq[-1] # last value in the current list of numbers\n",
    "    #print(curr_seq, next_val)\n",
    "    while set(curr_seq) != {0}:\n",
    "        diffs = find_diffs(curr_seq) # find the last val in the list of differences\n",
    "        #last_val = diffs[-1]\n",
    "        next_val += diffs[-1]\n",
    "        curr_seq = diffs\n",
    "     #   print(curr_seq, next_val)\n",
    "    tally += next_val\n",
    "\n",
    "print(f\"{tally:,},  {tally}\")\n"
   ]
  },
  {
   "cell_type": "markdown",
   "metadata": {},
   "source": [
    "Run #1:\n",
    "* $1,879,448,560$ is too high a value.\n",
    "\n",
    "Run #2 - change the test from\n",
    "`last_val > 0` to `last_val != 0`\n",
    "* $1,877,825,200$ is still too high\n",
    "\n",
    "Run #3 - since the criteria is `all numbers in list = 0`, change the test to: `while sum(curr_seq) != 0`\n",
    "* $1,877,825,182$ is too *low*\n",
    "\n",
    "Run #4 - `sum(curr_seq)` isn't the right test: `sum([-1,1,0,0]) = 1`. So change test to `set(curr_seq) != {0}`. This generated teh correct result: $1,877,825,184$.\n",
    "\n"
   ]
  },
  {
   "cell_type": "markdown",
   "metadata": {},
   "source": [
    "Part 2: Same process but with the first value in the sequence. Given the way I've set this up, this should be quick and easy. . . "
   ]
  },
  {
   "cell_type": "code",
   "execution_count": 39,
   "metadata": {},
   "outputs": [
    {
     "name": "stdout",
     "output_type": "stream",
     "text": [
      "1,108,  1108\n"
     ]
    }
   ],
   "source": [
    "with open ('2309input.txt') as f_in:\n",
    "    data = [line for line in f_in.read().split('\\n')]\n",
    "\n",
    "#data = [line for line in test_data.split('\\n')]\n",
    "data = [list(map(int, x.split())) for x in data]\n",
    "\n",
    "data\n",
    "\n",
    "def find_diffs(sequence): # input list of values; returns list of differences in values\n",
    "    diffs = []\n",
    "    for i in range(len(sequence)-1):\n",
    "        diffs.append(sequence[i] - sequence[i+1])\n",
    "    return diffs\n",
    "\n",
    "tally = 0\n",
    "for curr_seq in data:   \n",
    "    next_val = curr_seq[0] # first value in the current list of numbers\n",
    "    #print(next_val, curr_seq)\n",
    "    while set(curr_seq) != {0}:\n",
    "        diffs = find_diffs(curr_seq) # find the last val in the list of differences\n",
    "        curr_seq = diffs\n",
    "        next_val += diffs[0]   \n",
    "    #    print(next_val, curr_seq)\n",
    "    tally += next_val \n",
    "\n",
    "print(f\"{tally:,},  {tally}\")"
   ]
  },
  {
   "cell_type": "markdown",
   "metadata": {},
   "source": [
    "Got it correct on the first production run. Boom!\n"
   ]
  }
 ],
 "metadata": {
  "kernelspec": {
   "display_name": "default",
   "language": "python",
   "name": "python3"
  },
  "language_info": {
   "codemirror_mode": {
    "name": "ipython",
    "version": 3
   },
   "file_extension": ".py",
   "mimetype": "text/x-python",
   "name": "python",
   "nbconvert_exporter": "python",
   "pygments_lexer": "ipython3",
   "version": "3.10.13"
  }
 },
 "nbformat": 4,
 "nbformat_minor": 2
}
