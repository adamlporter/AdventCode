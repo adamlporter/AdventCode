{
 "cells": [
  {
   "cell_type": "markdown",
   "metadata": {},
   "source": [
    "AOC [23.05](https://adventofcode.com/2023/day/5)\n",
    "\n",
    "You're asked to help with a food production problem. Their almanac lsts all the seeds to be planted, what type of fertilizer to be used, how much water, etc.\n",
    "\n",
    "Almanac lists seeds to be planted, then maps to convert these numbers to soil types.\n",
    "\n",
    "maps have three numbers: dest range start, source range start, range length:\n",
    "50 98 2 --> 50,51 98,99 \n",
    "52 50 48 --> 52-97 50-95 \n",
    "\n",
    "source numbers not mapped have same destination number\n",
    "\n",
    "Solution:\n",
    "1. I think I can solve this by setting up dictionaries for each of the different maps: {98:50,99:51,50:52,etc}\n",
    "1. Then I can just put in the seed number and find the corresponding value; items not in the dictionary keep their same number\n",
    "1. parsing the input data may be more difficult than the actual mapping process!\n",
    "* read a line. If not numbers, start a new dictionary\n",
    "* read next lines until a blank. put these values into the dictionary\n",
    "\n"
   ]
  },
  {
   "cell_type": "code",
   "execution_count": null,
   "metadata": {},
   "outputs": [
    {
     "name": "stdout",
     "output_type": "stream",
     "text": [
      "seeds: 79 14 55 13\n",
      "seed-to-soil map:\n",
      "soil-to-fertilizer map:\n",
      "fertilizer-to-water map:\n",
      "water-to-light map:\n",
      "light-to-temperature map:\n",
      "temperature-to-humidity map:\n",
      "humidity-to-location map:\n"
     ]
    }
   ],
   "source": [
    "testData = '''\n",
    "seeds: 79 14 55 13\n",
    "\n",
    "seed-to-soil map:\n",
    "50 98 2\n",
    "52 50 48\n",
    "\n",
    "soil-to-fertilizer map:\n",
    "0 15 37\n",
    "37 52 2\n",
    "39 0 15\n",
    "\n",
    "fertilizer-to-water map:\n",
    "49 53 8\n",
    "0 11 42\n",
    "42 0 7\n",
    "57 7 4\n",
    "\n",
    "water-to-light map:\n",
    "88 18 7\n",
    "18 25 70\n",
    "\n",
    "light-to-temperature map:\n",
    "45 77 23\n",
    "81 45 19\n",
    "68 64 13\n",
    "\n",
    "temperature-to-humidity map:\n",
    "0 69 1\n",
    "1 0 69\n",
    "\n",
    "humidity-to-location map:\n",
    "60 56 37\n",
    "56 93 4'''\n",
    "\n",
    "def getSeeds(line):\n",
    "    head,_,tail = line.partition(':')\n",
    "    return [int(x) for x in tail.split()]\n",
    "\n",
    "import re\n",
    "findWords = re.compile(r'(seeds)|(map)')\n",
    "\n",
    "for line in testData.split('\\n'):\n",
    "    if re.search(findWords,line): # text or numbers?\n",
    "        if 'seeds' in line:\n",
    "            seedNums = getSeeds(line)\n",
    "        else:\n",
    "            head,_,tail = line.partition('-')\n",
    "            currDict = f\"{head}=\\{\\}\"\n",
    "            exec(currDict) # create a dictionary (seed={},soil={},fertilizer={}\n",
    "            currDict = head\n",
    "    else: # if not text, the line is either nubmbers or spaces\n",
    "        if line<>'': # ignore blank lines\n",
    "            destStart,sourceStart,length = line.split() # split on blanks and assign to variables\n",
    "            for num in range(sourceStart,length+1):\n",
    "                currDict[num] = destStart + num     #fill the dictionary with source and destination data\n",
    "\n",
    "dictionaries = ['seed','soil','fertilizer','water','light','temperature','humidity']\n",
    "lowestNum = 10**10\n",
    "\n",
    "for number in seedNums:\n",
    "    for dd in dictionaries:\n",
    "        if number in dd:\n",
    "            number = dd[number]\n",
    "    if number < lowestNum:\n",
    "        lowestNum = number\n",
    "\n",
    "print(f\"lowest number is {lowestNum}\")\n",
    "\n",
    "    "
   ]
  },
  {
   "cell_type": "markdown",
   "metadata": {},
   "source": [
    "OK, I can't figure out a way to do this with the dictionaries as I had hoped to. So let's try something else.\n",
    "\n",
    "I've looked at some solutions on Reddit. Found [this one](https://github.com/torbensky/advent-of-code-2023/blob/main/day05/solution.py) useful for reading in the data. Won't look at the rest of the code (yet).\n",
    "\n",
    "1. Get seed data\n",
    "1. Break the data into clumps by splitting on \\n\\n (since there's a blank line b/t groups of data)\n",
    "1. read each clump into a \"map\" list of tuples [(target, source, range),(target,source,range)...]\n",
    "1. Take each seed number and run it through the different mapping functions\n"
   ]
  },
  {
   "cell_type": "code",
   "execution_count": 47,
   "metadata": {},
   "outputs": [
    {
     "data": {
      "text/plain": [
       "['seed-to-soil map:', '50 98 2', '52 50 48']"
      ]
     },
     "execution_count": 47,
     "metadata": {},
     "output_type": "execute_result"
    }
   ],
   "source": [
    "clumps = testData.split('\\n\\n')\n",
    "\n",
    "clumps[1].split('\\n')\n"
   ]
  },
  {
   "cell_type": "code",
   "execution_count": 18,
   "metadata": {},
   "outputs": [
    {
     "data": {
      "text/plain": [
       "'\\nseeds: 79 14 55 13'"
      ]
     },
     "execution_count": 18,
     "metadata": {},
     "output_type": "execute_result"
    }
   ],
   "source": [
    "clumps[0]"
   ]
  },
  {
   "cell_type": "code",
   "execution_count": 20,
   "metadata": {},
   "outputs": [
    {
     "data": {
      "text/plain": [
       "[79, 14, 55, 13]"
      ]
     },
     "execution_count": 20,
     "metadata": {},
     "output_type": "execute_result"
    }
   ],
   "source": [
    "head,_,tail = clumps[0].partition(':')\n",
    "seedNums = [int(x) for x in tail.split()]\n",
    "seedNums"
   ]
  },
  {
   "cell_type": "code",
   "execution_count": 26,
   "metadata": {},
   "outputs": [
    {
     "ename": "NameError",
     "evalue": "name 'makeMap' is not defined",
     "output_type": "error",
     "traceback": [
      "\u001b[0;31m---------------------------------------------------------------------------\u001b[0m",
      "\u001b[0;31mNameError\u001b[0m                                 Traceback (most recent call last)",
      "\u001b[0;32m/tmp/ipykernel_57108/1925131400.py\u001b[0m in \u001b[0;36m<cell line: 1>\u001b[0;34m()\u001b[0m\n\u001b[0;32m----> 1\u001b[0;31m \u001b[0mmappers\u001b[0m \u001b[0;34m=\u001b[0m \u001b[0;34m{\u001b[0m\u001b[0mmakeMap\u001b[0m\u001b[0;34m(\u001b[0m\u001b[0mmapper\u001b[0m\u001b[0;34m)\u001b[0m\u001b[0;34m[\u001b[0m\u001b[0;36m0\u001b[0m\u001b[0;34m]\u001b[0m\u001b[0;34m:\u001b[0m \u001b[0mmakeMap\u001b[0m\u001b[0;34m(\u001b[0m\u001b[0mmapper\u001b[0m\u001b[0;34m[\u001b[0m\u001b[0;36m1\u001b[0m\u001b[0;34m:\u001b[0m\u001b[0;34m]\u001b[0m \u001b[0;32mfor\u001b[0m \u001b[0mmapper\u001b[0m \u001b[0;32min\u001b[0m \u001b[0mdata\u001b[0m\u001b[0;34m[\u001b[0m\u001b[0;36m1\u001b[0m\u001b[0;34m:\u001b[0m\u001b[0;34m]\u001b[0m\u001b[0;34m)\u001b[0m\u001b[0;34m}\u001b[0m\u001b[0;34m\u001b[0m\u001b[0;34m\u001b[0m\u001b[0m\n\u001b[0m\u001b[1;32m      2\u001b[0m \u001b[0mmappers\u001b[0m\u001b[0;34m\u001b[0m\u001b[0;34m\u001b[0m\u001b[0m\n",
      "\u001b[0;31mNameError\u001b[0m: name 'makeMap' is not defined"
     ]
    }
   ],
   "source": []
  },
  {
   "cell_type": "code",
   "execution_count": 28,
   "metadata": {},
   "outputs": [
    {
     "data": {
      "text/plain": [
       "['soil-to-fertilizer map:', '0 15 37', '37 52 2', '39 0 15']"
      ]
     },
     "execution_count": 28,
     "metadata": {},
     "output_type": "execute_result"
    }
   ],
   "source": [
    "clumps[2].splitlines()"
   ]
  },
  {
   "cell_type": "code",
   "execution_count": 35,
   "metadata": {},
   "outputs": [
    {
     "data": {
      "text/plain": [
       "'soil'"
      ]
     },
     "execution_count": 35,
     "metadata": {},
     "output_type": "execute_result"
    }
   ],
   "source": [
    "md = clumps[2].splitlines()\n",
    "md[0].split()[0].split('-')[0]\n"
   ]
  },
  {
   "cell_type": "code",
   "execution_count": 36,
   "metadata": {},
   "outputs": [
    {
     "data": {
      "text/plain": [
       "'fertilizer'"
      ]
     },
     "execution_count": 36,
     "metadata": {},
     "output_type": "execute_result"
    }
   ],
   "source": [
    "md[0].split()[0].split('-')[2]"
   ]
  },
  {
   "cell_type": "code",
   "execution_count": 42,
   "metadata": {},
   "outputs": [
    {
     "data": {
      "text/plain": [
       "[[0, 15, 37], [0, 15, 37], [0, 15, 37]]"
      ]
     },
     "execution_count": 42,
     "metadata": {},
     "output_type": "execute_result"
    }
   ],
   "source": [
    "[list(map(int,md[1].split())) for x in md[1:]]"
   ]
  },
  {
   "cell_type": "code",
   "execution_count": 49,
   "metadata": {},
   "outputs": [
    {
     "data": {
      "text/plain": [
       "{'seed': ('soil', [[50, 98, 2], [52, 50, 48]]),\n",
       " 'soil': ('fertilizer', [[0, 15, 37], [37, 52, 2], [39, 0, 15]]),\n",
       " 'fertilizer': ('water', [[49, 53, 8], [0, 11, 42], [42, 0, 7], [57, 7, 4]]),\n",
       " 'water': ('light', [[88, 18, 7], [18, 25, 70]]),\n",
       " 'light': ('temperature', [[45, 77, 23], [81, 45, 19], [68, 64, 13]]),\n",
       " 'temperature': ('humidity', [[0, 69, 1], [1, 0, 69]]),\n",
       " 'humidity': ('location', [[60, 56, 37], [56, 93, 4]])}"
      ]
     },
     "execution_count": 49,
     "metadata": {},
     "output_type": "execute_result"
    }
   ],
   "source": [
    "def makeMap(data):\n",
    "    map_data = data.splitlines()\n",
    "    sourceMap = map_data[0].split()[0].split('-')[0]\n",
    "    destMap =   map_data[0].split()[0].split('-')[2]\n",
    "    translation = [list(map(int, x.split())) for x in map_data[1:]]\n",
    "    return (sourceMap, destMap, translation)\n",
    "\n",
    "mappers = {makeMap(mapper)[0]: makeMap(mapper)[1:] for mapper in clumps[1:]}\n",
    "mappers\n"
   ]
  },
  {
   "cell_type": "code",
   "execution_count": 58,
   "metadata": {},
   "outputs": [
    {
     "data": {
      "text/plain": [
       "[[50, 98, 2], [52, 50, 48]]"
      ]
     },
     "execution_count": 58,
     "metadata": {},
     "output_type": "execute_result"
    }
   ],
   "source": [
    "mappers['seed'][1]"
   ]
  },
  {
   "cell_type": "markdown",
   "metadata": {},
   "source": [
    "OK, that works, but it's more complex than I need. Since I'm applying the maps in sequence, I don't need to know their names -- I'm just going to apply them 1->2->3->...\n",
    "\n",
    "So let's just make a list of the various maps."
   ]
  },
  {
   "cell_type": "code",
   "execution_count": 61,
   "metadata": {},
   "outputs": [
    {
     "data": {
      "text/plain": [
       "[[[50, 98, 2], [52, 50, 48]],\n",
       " [[0, 15, 37], [37, 52, 2], [39, 0, 15]],\n",
       " [[49, 53, 8], [0, 11, 42], [42, 0, 7], [57, 7, 4]],\n",
       " [[88, 18, 7], [18, 25, 70]],\n",
       " [[45, 77, 23], [81, 45, 19], [68, 64, 13]],\n",
       " [[0, 69, 1], [1, 0, 69]],\n",
       " [[60, 56, 37], [56, 93, 4]]]"
      ]
     },
     "execution_count": 61,
     "metadata": {},
     "output_type": "execute_result"
    }
   ],
   "source": [
    "def makeMap(data): # input clump of data, return list of map\n",
    "    return [list(map(int,x.split())) for x in data.splitlines()[1:]] # skip line of text\n",
    "\n",
    "maplist = [makeMap(x) for x in clumps[1:]]\n",
    "\n",
    "maplist"
   ]
  },
  {
   "cell_type": "markdown",
   "metadata": {},
   "source": [
    "OK, so now I've got a list of maps. I can cycle through them and do the seed number matching..."
   ]
  },
  {
   "cell_type": "code",
   "execution_count": 87,
   "metadata": {},
   "outputs": [
    {
     "name": "stdout",
     "output_type": "stream",
     "text": [
      "35\n"
     ]
    }
   ],
   "source": [
    "def applyMap(seedN,mapping):\n",
    "    for m in mapping: \n",
    "        if m[1] <= seedN <= m[1] + m[2]: # if seedN is in the source range\n",
    "            #print(f\"found in map {m}\")\n",
    "            return seedN - m[1] + m[0]\n",
    "    return seedN # not found in any range? return original value\n",
    "\n",
    "minN = 10**8\n",
    "\n",
    "for s in seedNums:\n",
    "    #print(f\"orig seed number {s}\")\n",
    "    for mapping in maplist:\n",
    "        s = applyMap(s,mapping)\n",
    "    if s < minN:\n",
    "        minN = s\n",
    "\n",
    "print(minN)\n",
    "\n",
    "\n",
    "    "
   ]
  },
  {
   "cell_type": "markdown",
   "metadata": {},
   "source": [
    "OK, test data works. Re-write to get everything into one cell and run on actual data"
   ]
  },
  {
   "cell_type": "code",
   "execution_count": 94,
   "metadata": {},
   "outputs": [
    {
     "name": "stdout",
     "output_type": "stream",
     "text": [
      "346433842\n"
     ]
    }
   ],
   "source": [
    "\n",
    "def makeMap(data): # input clump of data, return list of map\n",
    "    return [list(map(int,x.split())) for x in data.splitlines()[1:]] # skip line of text\n",
    "\n",
    "def applyMap(seedN,mapping):\n",
    "    for m in mapping: \n",
    "        if m[1] <= seedN <= m[1] + m[2]: # if seedN is in the source range\n",
    "            #print(f\"found in map {m}\")\n",
    "            return seedN - m[1] + m[0]\n",
    "    return seedN # not found in any range? return original value\n",
    "\n",
    "#group = testData.split('\\n\\n') # get the data; it will be in groups of data\n",
    "\n",
    "with open ('2305input.txt') as f_in:\n",
    "    groups = f_in.read().split('\\n\\n')\n",
    "\n",
    "head,_,tail = groups[0].partition(':')\n",
    "seedNums = [int(x) for x in tail.split()]\n",
    "\n",
    "maplist = [makeMap(x) for x in groups[1:]] # ma\n",
    "\n",
    "minN = 10**12\n",
    "\n",
    "for s in seedNums:\n",
    "    #print(f\"orig seed number {s}\")\n",
    "    for mapping in maplist:\n",
    "        s = applyMap(s,mapping)\n",
    "    if s < minN:\n",
    "        minN = s\n",
    "\n",
    "print(minN)\n"
   ]
  },
  {
   "cell_type": "markdown",
   "metadata": {},
   "source": [
    "That's correct.\n",
    "\n",
    "Part2:\n",
    "Initial input isn't four seed nubmers [$79 14 55 13$], it's a range (beg,length) [$(79,14),(55,13)$]. So 79 -> 92, 55 -> 67.\n",
    "\n",
    "What is the lowest value for all these?\n",
    "\n",
    "Solution:\n",
    "1. could try brute force: read the pairs and make a much longer list of inputs. This would work on the test data, but given the size of the numbers in the actual data, this will take forever (see next cell)\n",
    "1. test for beg and end of range before testing (if beg and beg+end not in the map, go to the next map)\n",
    "1. Even this is not great: the first range is >500m\n"
   ]
  },
  {
   "cell_type": "code",
   "execution_count": 103,
   "metadata": {},
   "outputs": [
    {
     "name": "stdout",
     "output_type": "stream",
     "text": [
      "[(919339981, 562444630)]\n",
      "[(3366006921, 67827214)]\n",
      "[(1496677366, 101156779)]\n",
      "[(4140591657, 5858311)]\n",
      "[(2566406753, 71724353)]\n"
     ]
    }
   ],
   "source": [
    "for i in range(0,len(seedNums)//2,2):\n",
    "    print([(seedNums[0+i],seedNums[0+i+1])])"
   ]
  },
  {
   "cell_type": "code",
   "execution_count": 106,
   "metadata": {},
   "outputs": [
    {
     "data": {
      "text/plain": [
       "[('919339981', '3366006921'),\n",
       " ('3366006921', '1496677366'),\n",
       " ('1496677366', '4140591657'),\n",
       " ('4140591657', '2566406753'),\n",
       " ('2566406753', '2721360939')]"
      ]
     },
     "execution_count": 106,
     "metadata": {},
     "output_type": "execute_result"
    }
   ],
   "source": [
    "head,_,tail = groups[0].partition(':')\n",
    "sNs = tail.split()\n",
    "seedRanges = [(sNs[0+i],sNs[1+i+1]) for i in range(0,len(sNs)//2,2) ]\n",
    "seedRanges"
   ]
  },
  {
   "cell_type": "code",
   "execution_count": 109,
   "metadata": {},
   "outputs": [
    {
     "name": "stdout",
     "output_type": "stream",
     "text": [
      "83\n"
     ]
    }
   ],
   "source": [
    "def makeMap(data): # input clump of data, return list of map\n",
    "    return [list(map(int,x.split())) for x in data.splitlines()[1:]] # skip line of text\n",
    "\n",
    "def applyMap(sp,mapping):\n",
    "    for seedN in range(sp[0],sp[0]+sp[1]):\n",
    "        for m in mapping: \n",
    "            if m[1] <= seedN <= m[1] + m[2]: # if seedN is in the source range\n",
    "                #print(f\"found in map {m}\")\n",
    "                return seedN - m[1] + m[0]\n",
    "        return seedN # not found in any range? return original value\n",
    "\n",
    "groups = testData.split('\\n\\n') # get the data; it will be in groups of data\n",
    "\n",
    "#with open ('2305input.txt') as f_in:\n",
    "#    groups = f_in.read().split('\\n\\n')\n",
    "\n",
    "head,_,tail = groups[0].partition(':')\n",
    "sNs = tail.split()\n",
    "seedRanges = [(int(sNs[0+i]),int(sNs[1+i+1])) for i in range(0,len(sNs)//2,2) ]\n",
    "\n",
    "maplist = [makeMap(x) for x in groups[1:]] # ma\n",
    "\n",
    "minN = 10**12\n",
    "\n",
    "for sPair in seedRanges:\n",
    "    #print(f\"orig seed number {s}\")\n",
    "    for mapping in maplist:\n",
    "        s = applyMap(sPair,mapping)\n",
    "    if s < minN:\n",
    "        minN = s\n",
    "\n",
    "print(minN)\n"
   ]
  }
 ],
 "metadata": {
  "kernelspec": {
   "display_name": "default",
   "language": "python",
   "name": "python3"
  },
  "language_info": {
   "codemirror_mode": {
    "name": "ipython",
    "version": 3
   },
   "file_extension": ".py",
   "mimetype": "text/x-python",
   "name": "python",
   "nbconvert_exporter": "python",
   "pygments_lexer": "ipython3",
   "version": "3.9.5"
  }
 },
 "nbformat": 4,
 "nbformat_minor": 2
}
