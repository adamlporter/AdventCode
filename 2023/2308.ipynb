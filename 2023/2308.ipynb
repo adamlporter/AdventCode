{
 "cells": [
  {
   "cell_type": "markdown",
   "metadata": {},
   "source": [
    "AOC [23.08](https://adventofcode.com/2023/day/8) Haunted Wasteland\n",
    "\n",
    "First line of input: instructions on taking L/R option from list of directions\n",
    "\n",
    "rest of input: directions = nodes with other nodes\n",
    "\n",
    "Solution:\n",
    "1. turn directions into a dictionary: {AA:(BB,CC)}\n",
    "1. turn directions into a list of zeros and ones (L=0, R=1). \n",
    "\n",
    "Start at node AAA. Iterate through the directions. \n",
    "* Current node = node\n",
    "* next node current_node[0] or current_node[1] depending on the directions. \n",
    "\n"
   ]
  },
  {
   "cell_type": "code",
   "execution_count": 2,
   "metadata": {},
   "outputs": [],
   "source": [
    "test_data1 = '''RL\n",
    "\n",
    "AAA = (BBB, CCC)\n",
    "BBB = (DDD, EEE)\n",
    "CCC = (ZZZ, GGG)\n",
    "DDD = (DDD, DDD)\n",
    "EEE = (EEE, EEE)\n",
    "GGG = (GGG, GGG)\n",
    "ZZZ = (ZZZ, ZZZ)'''\n",
    "\n",
    "test_data2 = '''LLR\n",
    "\n",
    "AAA = (BBB, BBB)\n",
    "BBB = (AAA, ZZZ)\n",
    "ZZZ = (ZZZ, ZZZ)'''"
   ]
  },
  {
   "cell_type": "code",
   "execution_count": 37,
   "metadata": {},
   "outputs": [
    {
     "data": {
      "text/plain": [
       "['LLR', '', 'AAA = (BBB, BBB)', 'BBB = (AAA, ZZZ)', 'ZZZ = (ZZZ, ZZZ)']"
      ]
     },
     "execution_count": 37,
     "metadata": {},
     "output_type": "execute_result"
    }
   ],
   "source": [
    "data = [x for x in test_data2.split('\\n')]\n",
    "data"
   ]
  },
  {
   "cell_type": "code",
   "execution_count": 38,
   "metadata": {},
   "outputs": [
    {
     "name": "stdout",
     "output_type": "stream",
     "text": [
      "001\n"
     ]
    },
    {
     "data": {
      "text/plain": [
       "{'AAA': ('BBB', 'BBB'), 'BBB': ('AAA', 'ZZZ'), 'ZZZ': ('ZZZ', 'ZZZ')}"
      ]
     },
     "execution_count": 38,
     "metadata": {},
     "output_type": "execute_result"
    }
   ],
   "source": [
    "instructions = data[0]\n",
    "instructions = instructions.replace('L','0')\n",
    "instructions = instructions.replace('R','1')\n",
    "\n",
    "print(instructions)\n",
    "\n",
    "import re\n",
    "pattern = re.compile(r'[A-Z]{3}')\n",
    "\n",
    "nodes_dd = {}\n",
    "for line in data[2:]:\n",
    "    head,_,tail = line.partition('=')\n",
    "    nodes = re.findall(pattern,tail)\n",
    "    nodes_dd[head.strip()] = (nodes[0],nodes[1])\n",
    "\n",
    "nodes_dd"
   ]
  },
  {
   "cell_type": "code",
   "execution_count": 39,
   "metadata": {},
   "outputs": [
    {
     "name": "stdout",
     "output_type": "stream",
     "text": [
      "1 BBB BBB\n",
      "2 AAA AAA\n",
      "0 BBB BBB\n",
      "1 AAA AAA\n",
      "2 BBB BBB\n",
      "0 ZZZ ZZZ\n"
     ]
    }
   ],
   "source": [
    "curr_node = 'AAA'\n",
    "curr_inst = 0\n",
    "while curr_node != 'ZZZ':\n",
    "    next_node = nodes_dd[curr_node][int(instructions[curr_inst])]\n",
    "    curr_inst += 1\n",
    "    if curr_inst >= len(instructions):\n",
    "        curr_inst = 0\n",
    "    curr_node = next_node\n",
    "    \n",
    "    print(curr_inst,next_node,curr_node)\n",
    "\n",
    "\n",
    "    \n"
   ]
  },
  {
   "cell_type": "markdown",
   "metadata": {},
   "source": [
    "OK, my two test cases work.\n",
    "\n",
    "Try the production data. . ."
   ]
  },
  {
   "cell_type": "code",
   "execution_count": 40,
   "metadata": {},
   "outputs": [
    {
     "name": "stdout",
     "output_type": "stream",
     "text": [
      "001\n",
      "1 BBB BBB\n",
      "2 AAA AAA\n",
      "0 BBB BBB\n",
      "1 AAA AAA\n",
      "2 BBB BBB\n",
      "0 ZZZ ZZZ\n",
      "steps = 6\n"
     ]
    }
   ],
   "source": [
    "data = [x for x in test_data2.split('\\n')]\n",
    "\n",
    "instructions = data[0]\n",
    "instructions = instructions.replace('L','0')\n",
    "instructions = instructions.replace('R','1')\n",
    "\n",
    "print(instructions)\n",
    "\n",
    "import re\n",
    "pattern = re.compile(r'[A-Z]{3}')\n",
    "\n",
    "nodes_dd = {}\n",
    "for line in data[2:]:\n",
    "    head,_,tail = line.partition('=')\n",
    "    nodes = re.findall(pattern,tail)\n",
    "    nodes_dd[head.strip()] = (nodes[0],nodes[1])\n",
    "\n",
    "curr_node = 'AAA'\n",
    "curr_inst = 0\n",
    "steps = 0\n",
    "while curr_node != 'ZZZ':\n",
    "    next_node = nodes_dd[curr_node][int(instructions[curr_inst])]\n",
    "    curr_inst += 1\n",
    "    steps += 1\n",
    "    if curr_inst >= len(instructions):\n",
    "        curr_inst = 0\n",
    "    curr_node = next_node\n",
    "    \n",
    "    print(curr_inst,next_node,curr_node)\n",
    "\n",
    "print(f\"steps = {steps}\")"
   ]
  },
  {
   "cell_type": "code",
   "execution_count": 2,
   "metadata": {},
   "outputs": [
    {
     "name": "stdout",
     "output_type": "stream",
     "text": [
      "steps = 12169\n"
     ]
    }
   ],
   "source": [
    "#data = [x for x in test_data2.split('\\n')]\n",
    "\n",
    "with open ('2308input.txt') as f_in:\n",
    "    data = [line for line in f_in.read().split('\\n')]\n",
    "\n",
    "instructions = data[0]\n",
    "instructions = instructions.replace('L','0')\n",
    "instructions = instructions.replace('R','1')\n",
    "\n",
    "#print(instructions)\n",
    "\n",
    "import re\n",
    "pattern = re.compile(r'[A-Z]{3}')\n",
    "\n",
    "nodes_dd = {}\n",
    "for line in data[2:]:\n",
    "    head,_,tail = line.partition('=')\n",
    "    nodes = re.findall(pattern,tail)\n",
    "    nodes_dd[head.strip()] = (nodes[0],nodes[1])\n",
    "\n",
    "curr_node = 'AAA'\n",
    "curr_inst = 0\n",
    "steps = 0\n",
    "while curr_node != 'ZZZ':\n",
    "    next_node = nodes_dd[curr_node][int(instructions[curr_inst])]\n",
    "    curr_inst += 1\n",
    "    steps += 1\n",
    "    if curr_inst >= len(instructions):\n",
    "        curr_inst = 0\n",
    "    curr_node = next_node\n",
    "    \n",
    "    #print(curr_inst,next_node,curr_node)\n",
    "\n",
    "print(f\"steps = {steps}\")"
   ]
  },
  {
   "cell_type": "markdown",
   "metadata": {},
   "source": [
    "12169 is the correct answer.\n",
    "\n",
    "Pretty amazing when my initial solution actually works out!\n",
    "\n",
    "Part 2: Start at multiple starting points (nodes that end with \"A\") and continue until node that ends with Z.\n",
    "* How many steps are needed to get to ALL ghosts on Z nodes at same time?\n",
    "\n",
    "Solution:\n",
    "1. Find the N starting nodes. (where the ghosts start following)\n",
    "1. Run the instructions (nothing needs to be changed, except the `while` test) to find how many steps are needed for each ghost to get to Z.\n",
    "1. Find the least-common-multiple of these values --> N steps for all cycles to coincide\n",
    "\n",
    "I think this is so straight forward that I'm not going to mess around with test data! BOOM!"
   ]
  },
  {
   "cell_type": "code",
   "execution_count": 3,
   "metadata": {},
   "outputs": [
    {
     "data": {
      "text/plain": [
       "['HVA', 'HHA', 'BVA', 'RSA', 'AAA', 'NPA']"
      ]
     },
     "execution_count": 3,
     "metadata": {},
     "output_type": "execute_result"
    }
   ],
   "source": [
    "start_nodes = [k for k,v in nodes_dd.items() if k[2] == 'A']\n",
    "start_nodes"
   ]
  },
  {
   "cell_type": "code",
   "execution_count": 4,
   "metadata": {},
   "outputs": [
    {
     "name": "stdout",
     "output_type": "stream",
     "text": [
      "HVA\n",
      "steps to RFZ = 14999\n",
      "HHA\n",
      "steps to TNZ = 20093\n",
      "BVA\n",
      "steps to MLZ = 17263\n",
      "RSA\n",
      "steps to KPZ = 16697\n",
      "AAA\n",
      "steps to ZZZ = 12169\n",
      "NPA\n",
      "steps to BXZ = 20659\n"
     ]
    }
   ],
   "source": [
    "start_nodes = [k for k,v in nodes_dd.items() if k[2] == 'A']\n",
    "\n",
    "steps_list = []\n",
    "\n",
    "for curr_node in start_nodes:\n",
    "    print(curr_node)\n",
    "\n",
    "    curr_inst = 0\n",
    "    steps = 0\n",
    "    while curr_node[2] != 'Z':\n",
    "        next_node = nodes_dd[curr_node][int(instructions[curr_inst])]\n",
    "        curr_inst += 1\n",
    "        steps += 1\n",
    "        if curr_inst >= len(instructions):\n",
    "            curr_inst = 0\n",
    "        curr_node = next_node\n",
    "\n",
    "    print(f\"steps to {curr_node} = {steps}\")\n",
    "    steps_list.append(steps)\n",
    "    "
   ]
  },
  {
   "cell_type": "markdown",
   "metadata": {},
   "source": [
    "How to find the LCM (least common multiple) for six different numbers? [This site](https://www.calculatorsoup.com/calculators/math/lcm.php) describes how to do this with prime factorization.\n",
    "\n",
    "1. Find all the prime factors of each given number.\n",
    "1. List all the prime numbers found, as many times as they occur most often for any one given number.\n",
    "1. Multiply the list of prime factors together to find the LCM.\n",
    "\n",
    "I found a [prime_factors function](https://stackoverflow.com/questions/23287/algorithm-to-find-largest-prime-factor-of-a-number/412942#412942) that I could use."
   ]
  },
  {
   "cell_type": "code",
   "execution_count": 63,
   "metadata": {},
   "outputs": [
    {
     "name": "stdout",
     "output_type": "stream",
     "text": [
      "14999 [53, 283]\n",
      "20093 [71, 283]\n",
      "17263 [61, 283]\n",
      "16697 [59, 283]\n",
      "12169 [43, 283]\n",
      "20659 [73, 283]\n"
     ]
    }
   ],
   "source": [
    "def prime_factors(n):\n",
    "    \"\"\"Returns all the prime factors of a positive integer\"\"\"\n",
    "    factors = []\n",
    "    d = 2\n",
    "    while n > 1:\n",
    "        while n % d == 0:\n",
    "            factors.append(d)\n",
    "            n /= d\n",
    "        d = d + 1\n",
    "\n",
    "    return factors\n",
    "\n",
    "for steps in steps_list:\n",
    "    print(steps,prime_factors(steps))"
   ]
  },
  {
   "cell_type": "markdown",
   "metadata": {},
   "source": [
    "Since all of these numbers are unique, we just need to multiply them all together!"
   ]
  },
  {
   "cell_type": "code",
   "execution_count": 73,
   "metadata": {},
   "outputs": [
    {
     "name": "stdout",
     "output_type": "stream",
     "text": [
      "12,030,780,859,469, 12030780859469\n"
     ]
    }
   ],
   "source": [
    "primes = [] # set\n",
    "for steps in steps_list:\n",
    "    for x in prime_factors(steps):\n",
    "        primes.append(x)\n",
    "\n",
    "lcm = 1\n",
    "for x in list(set(primes)):\n",
    "    lcm *= x\n",
    "\n",
    "print(f\"{lcm:,}, {lcm}\")\n"
   ]
  },
  {
   "cell_type": "markdown",
   "metadata": {},
   "source": [
    "Even for python on my fast(ish) computer, cycling through 12 TRILLION cycles would take a while...."
   ]
  },
  {
   "cell_type": "code",
   "execution_count": 75,
   "metadata": {},
   "outputs": [
    {
     "name": "stdout",
     "output_type": "stream",
     "text": [
      "cycles = 101880\n"
     ]
    }
   ],
   "source": [
    "cycles = 0\n",
    "for x in steps_list:\n",
    "    cycles += x\n",
    "\n",
    "print(f\"cycles = {cycles}\")"
   ]
  },
  {
   "cell_type": "markdown",
   "metadata": {},
   "source": [
    "Much faster just to cycle through 101,000 steps to find the six different paths the ghosts took. "
   ]
  }
 ],
 "metadata": {
  "kernelspec": {
   "display_name": "default",
   "language": "python",
   "name": "python3"
  },
  "language_info": {
   "codemirror_mode": {
    "name": "ipython",
    "version": 3
   },
   "file_extension": ".py",
   "mimetype": "text/x-python",
   "name": "python",
   "nbconvert_exporter": "python",
   "pygments_lexer": "ipython3",
   "version": "3.11.5"
  }
 },
 "nbformat": 4,
 "nbformat_minor": 2
}
