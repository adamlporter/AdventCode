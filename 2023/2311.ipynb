{
 "cells": [
  {
   "cell_type": "markdown",
   "metadata": {},
   "source": [
    "AOC [23.10](https://adventofcode.com/2023/day/11) Cosmic Expansion\n",
    "\n",
    "Map of Galaxies:\n",
    "```\n",
    "...#......\n",
    ".......#..\n",
    "#.........\n",
    "..........\n",
    "......#...\n",
    ".#........\n",
    ".........#\n",
    "..........\n",
    ".......#..\n",
    "#...#.....\n",
    "```\n",
    "Need to calculate the sortest path between each pair of galaxies. But in any row or column w/o a galaxy, should be treated as two rows/columns.\n",
    "\n",
    "Suggested steps:\n",
    "1. expand the map\n",
    "1. number the galaxies\n",
    "1. Example shows 9 galaxies --> 36 pairs. Count each pair only once.\n",
    "1. Find shortest path b/w two galaxies moving only up/down/L/R (cannot go diagonally) (City block distance) $D = |X2-X1| + |Y2 - Y1|$\n"
   ]
  },
  {
   "cell_type": "code",
   "execution_count": 24,
   "metadata": {},
   "outputs": [
    {
     "data": {
      "text/plain": [
       "[['.', '.', '.', '#', '.', '.', '.', '.', '.', '.'],\n",
       " ['.', '.', '.', '.', '.', '.', '.', '#', '.', '.'],\n",
       " ['#', '.', '.', '.', '.', '.', '.', '.', '.', '.'],\n",
       " ['.', '.', '.', '.', '.', '.', '.', '.', '.', '.'],\n",
       " ['.', '.', '.', '.', '.', '.', '#', '.', '.', '.'],\n",
       " ['.', '#', '.', '.', '.', '.', '.', '.', '.', '.'],\n",
       " ['.', '.', '.', '.', '.', '.', '.', '.', '.', '#'],\n",
       " ['.', '.', '.', '.', '.', '.', '.', '.', '.', '.'],\n",
       " ['.', '.', '.', '.', '.', '.', '.', '#', '.', '.'],\n",
       " ['#', '.', '.', '.', '#', '.', '.', '.', '.', '.']]"
      ]
     },
     "execution_count": 24,
     "metadata": {},
     "output_type": "execute_result"
    }
   ],
   "source": [
    "testData='''...#......\n",
    ".......#..\n",
    "#.........\n",
    "..........\n",
    "......#...\n",
    ".#........\n",
    ".........#\n",
    "..........\n",
    ".......#..\n",
    "#...#.....'''\n",
    "\n",
    "data = [[x for x in line] for line in testData.split('\\n')]\n",
    "data"
   ]
  },
  {
   "cell_type": "code",
   "execution_count": 33,
   "metadata": {},
   "outputs": [],
   "source": [
    "def find_galaxies(line,chr='#'):\n",
    "    return [i for i, ltr in enumerate(line) if ltr == chr]\n",
    "\n",
    "def expand_map(map):\n",
    "    new_map = []\n",
    "    empty_row = ['.' for x in range(len(map[0]))]\n",
    "    for line in map:\n",
    "        if len(find_galaxies(line)) == 0:\n",
    "            new_map.append(empty_row)\n",
    "            new_map.append(line)\n",
    "        else:\n",
    "            new_map.append(line)\n",
    "    return new_map\n",
    "\n",
    "\n",
    "# expand galaxy\n",
    "expanded_map = expand_map(data)\n",
    "transposed_map = [list(x) for x in zip(*expanded_map)]\n",
    "final_map = expand_map(transposed_map)"
   ]
  },
  {
   "cell_type": "code",
   "execution_count": 20,
   "metadata": {},
   "outputs": [],
   "source": [
    "# https://datagy.io/python-transpose-list-of-lists/\n",
    "# transpose rows and cols and then run the expansion routine again\n",
    "transposed_map = [list(x) for x in zip(*new_map)]\n",
    "final_map = []\n",
    "empty_row = len(transposed_map[0])*'.'\n",
    "for line in transposed_map:\n",
    "    if len(find_galaxies(line)) == 0:\n",
    "        final_map.append(empty_row)\n",
    "        final_map.append(line)\n",
    "    else:\n",
    "        final_map.append(line)\n"
   ]
  },
  {
   "cell_type": "code",
   "execution_count": 35,
   "metadata": {},
   "outputs": [
    {
     "data": {
      "text/plain": [
       "[['.', '.', '#', '.', '.', '.', '.', '.', '.', '.', '.', '#'],\n",
       " ['.', '.', '.', '.', '.', '.', '#', '.', '.', '.', '.', '.'],\n",
       " ['.', '.', '.', '.', '.', '.', '.', '.', '.', '.', '.', '.'],\n",
       " ['.', '.', '.', '.', '.', '.', '.', '.', '.', '.', '.', '.'],\n",
       " ['#', '.', '.', '.', '.', '.', '.', '.', '.', '.', '.', '.'],\n",
       " ['.', '.', '.', '.', '.', '.', '.', '.', '.', '.', '.', '#'],\n",
       " ['.', '.', '.', '.', '.', '.', '.', '.', '.', '.', '.', '.'],\n",
       " ['.', '.', '.', '.', '.', '.', '.', '.', '.', '.', '.', '.'],\n",
       " ['.', '.', '.', '.', '.', '#', '.', '.', '.', '.', '.', '.'],\n",
       " ['.', '#', '.', '.', '.', '.', '.', '.', '.', '.', '#', '.'],\n",
       " ['.', '.', '.', '.', '.', '.', '.', '.', '.', '.', '.', '.'],\n",
       " ['.', '.', '.', '.', '.', '.', '.', '.', '.', '.', '.', '.'],\n",
       " ['.', '.', '.', '.', '.', '.', '.', '#', '.', '.', '.', '.']]"
      ]
     },
     "execution_count": 35,
     "metadata": {},
     "output_type": "execute_result"
    }
   ],
   "source": [
    "final_map"
   ]
  },
  {
   "cell_type": "code",
   "execution_count": 38,
   "metadata": {},
   "outputs": [
    {
     "data": {
      "text/plain": [
       "[(0, 2), (0, 11), (1, 6), (4, 0), (5, 11), (8, 5), (9, 1), (9, 10), (12, 7)]"
      ]
     },
     "execution_count": 38,
     "metadata": {},
     "output_type": "execute_result"
    }
   ],
   "source": [
    "galaxy_coord =[]\n",
    "for i in range(len(final_map)):\n",
    "    cols = find_galaxies(final_map[i])\n",
    "    if len(cols) > 0:\n",
    "        for col in cols:\n",
    "            galaxy_coord.append((i,col))\n",
    "\n",
    "galaxy_coord\n",
    "    "
   ]
  },
  {
   "cell_type": "code",
   "execution_count": 42,
   "metadata": {},
   "outputs": [
    {
     "data": {
      "text/plain": [
       "((0, 2), (0, 11))"
      ]
     },
     "execution_count": 42,
     "metadata": {},
     "output_type": "execute_result"
    }
   ],
   "source": [
    "import itertools\n",
    "galaxy_pairs = list(itertools.combinations(galaxy_coord,2))\n",
    "galaxy_pairs[0]"
   ]
  },
  {
   "cell_type": "code",
   "execution_count": 43,
   "metadata": {},
   "outputs": [
    {
     "data": {
      "text/plain": [
       "(0, 2)"
      ]
     },
     "execution_count": 43,
     "metadata": {},
     "output_type": "execute_result"
    }
   ],
   "source": [
    "galaxy_pairs[0][0]"
   ]
  },
  {
   "cell_type": "code",
   "execution_count": 45,
   "metadata": {},
   "outputs": [
    {
     "name": "stdout",
     "output_type": "stream",
     "text": [
      "((0, 2), (0, 11)), distance 9\n",
      "((0, 2), (1, 6)), distance 5\n",
      "((0, 2), (4, 0)), distance 6\n",
      "((0, 2), (5, 11)), distance 14\n",
      "((0, 2), (8, 5)), distance 11\n",
      "((0, 2), (9, 1)), distance 10\n",
      "((0, 2), (9, 10)), distance 17\n",
      "((0, 2), (12, 7)), distance 17\n",
      "((0, 11), (1, 6)), distance 6\n",
      "((0, 11), (4, 0)), distance 15\n",
      "((0, 11), (5, 11)), distance 5\n",
      "((0, 11), (8, 5)), distance 14\n",
      "((0, 11), (9, 1)), distance 19\n",
      "((0, 11), (9, 10)), distance 10\n",
      "((0, 11), (12, 7)), distance 16\n",
      "((1, 6), (4, 0)), distance 9\n",
      "((1, 6), (5, 11)), distance 9\n",
      "((1, 6), (8, 5)), distance 8\n",
      "((1, 6), (9, 1)), distance 13\n",
      "((1, 6), (9, 10)), distance 12\n",
      "((1, 6), (12, 7)), distance 12\n",
      "((4, 0), (5, 11)), distance 12\n",
      "((4, 0), (8, 5)), distance 9\n",
      "((4, 0), (9, 1)), distance 6\n",
      "((4, 0), (9, 10)), distance 15\n",
      "((4, 0), (12, 7)), distance 15\n",
      "((5, 11), (8, 5)), distance 9\n",
      "((5, 11), (9, 1)), distance 14\n",
      "((5, 11), (9, 10)), distance 5\n",
      "((5, 11), (12, 7)), distance 11\n",
      "((8, 5), (9, 1)), distance 5\n",
      "((8, 5), (9, 10)), distance 6\n",
      "((8, 5), (12, 7)), distance 6\n",
      "((9, 1), (9, 10)), distance 9\n",
      "((9, 1), (12, 7)), distance 9\n",
      "((9, 10), (12, 7)), distance 6\n",
      "374\n"
     ]
    }
   ],
   "source": [
    "def find_distance(point1,point2):\n",
    "    return abs(point1[0] - point2[0]) + abs(point1[1] - point2[1])\n",
    "\n",
    "tally = 0\n",
    "for pairs in galaxy_pairs:\n",
    "    dist = find_distance(pairs[0],pairs[1])\n",
    "    print(f\"{pairs}, distance {dist}\")\n",
    "    tally += dist\n",
    "\n",
    "print(tally)"
   ]
  },
  {
   "cell_type": "markdown",
   "metadata": {},
   "source": [
    "OK, all the little bits work. Let's try it on the production data. . ."
   ]
  },
  {
   "cell_type": "code",
   "execution_count": 113,
   "metadata": {},
   "outputs": [
    {
     "name": "stdout",
     "output_type": "stream",
     "text": [
      "galaxy XY: [(0, 59), (1, 24), (1, 110), (2, 0), (2, 18), (2, 40), (2, 70), (2, 96), (2, 137), (2, 144), (3, 32), (3, 105), (3, 115), (3, 128), (4, 10), (4, 83), (4, 100), (4, 120), (5, 28), (5, 47), (5, 134), (6, 20), (6, 54), (6, 76), (7, 4), (7, 140), (8, 62), (8, 127), (9, 34), (9, 105), (10, 1), (10, 14), (10, 39), (10, 45), (10, 71), (10, 121), (10, 144), (11, 7), (11, 30), (11, 52), (11, 82), (11, 96), (11, 113), (16, 18), (16, 36), (16, 56), (16, 137), (17, 4), (17, 26), (17, 90), (17, 128), (18, 43), (18, 65), (18, 71), (18, 81), (18, 106), (18, 114), (18, 145), (19, 30), (19, 48), (19, 121), (20, 13), (20, 38), (20, 134), (21, 2), (21, 101), (22, 118), (22, 127), (23, 9), (23, 64), (23, 107), (24, 55), (24, 75), (24, 96), (24, 143), (25, 16), (25, 28), (25, 46), (25, 89), (25, 136), (26, 35), (26, 67), (26, 104), (27, 11), (27, 50), (27, 83), (27, 117), (28, 41), (28, 124), (29, 22), (29, 54), (29, 79), (29, 129), (29, 144), (30, 135), (31, 4), (31, 17), (31, 32), (31, 99), (31, 110), (31, 120), (32, 59), (32, 140), (33, 0), (33, 47), (33, 67), (33, 126), (34, 21), (34, 106), (35, 27), (35, 37), (35, 72), (35, 93), (35, 112), (35, 136), (36, 53), (36, 64), (36, 82), (36, 144), (37, 12), (37, 77), (37, 101), (37, 130), (38, 6), (38, 49), (38, 118), (39, 41), (39, 88), (39, 110), (40, 18), (40, 69), (40, 96), (41, 138), (42, 4), (42, 47), (42, 80), (42, 125), (43, 53), (43, 105), (43, 133), (44, 21), (44, 74), (44, 89), (45, 28), (45, 38), (45, 44), (45, 64), (48, 15), (48, 83), (48, 93), (48, 120), (49, 23), (49, 31), (49, 108), (49, 131), (50, 4), (50, 52), (50, 59), (50, 124), (50, 142), (51, 10), (51, 68), (52, 43), (53, 36), (53, 127), (54, 78), (54, 89), (55, 1), (55, 29), (55, 49), (55, 62), (55, 99), (55, 116), (56, 54), (56, 73), (57, 21), (57, 108), (57, 137), (58, 15), (58, 45), (58, 81), (58, 123), (61, 33), (61, 102), (61, 119), (61, 134), (62, 12), (62, 55), (62, 67), (62, 129), (63, 19), (63, 38), (64, 46), (64, 97), (64, 116), (64, 139), (65, 15), (65, 74), (66, 34), (66, 105), (67, 27), (67, 79), (67, 90), (67, 125), (67, 134), (68, 10), (68, 42), (68, 67), (68, 114), (68, 145), (69, 20), (69, 55), (69, 83), (69, 98), (69, 130), (69, 138), (70, 50), (71, 4), (71, 14), (71, 39), (71, 63), (71, 93), (72, 70), (72, 116), (72, 126), (73, 103), (73, 144), (74, 48), (74, 120), (75, 9), (75, 25), (75, 34), (75, 55), (75, 67), (75, 77), (75, 108), (75, 131), (75, 140), (76, 20), (76, 41), (77, 4), (77, 125), (78, 74), (78, 88), (78, 136), (79, 52), (79, 116), (80, 18), (80, 43), (80, 98), (81, 144), (82, 13), (82, 22), (82, 63), (82, 70), (82, 107), (82, 119), (83, 36), (83, 76), (84, 5), (84, 81), (84, 89), (84, 115), (84, 131), (84, 137), (89, 50), (89, 128), (89, 145), (92, 3), (92, 17), (92, 30), (93, 75), (93, 90), (93, 101), (93, 120), (94, 47), (94, 132), (95, 34), (95, 40), (96, 64), (96, 97), (96, 109), (96, 125), (96, 143), (97, 81), (98, 9), (98, 21), (98, 50), (98, 68), (99, 38), (99, 104), (99, 134), (100, 16), (100, 33), (100, 56), (100, 78), (100, 114), (101, 2), (101, 44), (101, 73), (101, 122), (101, 129), (102, 7), (103, 23), (103, 81), (103, 102), (103, 143), (104, 11), (104, 63), (104, 89), (104, 125), (105, 37), (105, 52), (106, 5), (106, 32), (107, 21), (107, 44), (107, 113), (108, 49), (108, 119), (108, 142), (109, 13), (109, 64), (109, 72), (109, 128), (112, 29), (112, 54), (112, 82), (112, 145), (113, 19), (113, 47), (113, 68), (113, 75), (113, 96), (113, 109), (113, 136), (114, 38), (115, 101), (115, 123), (116, 27), (116, 44), (116, 130), (117, 9), (117, 22), (117, 111), (118, 14), (118, 34), (118, 98), (118, 141), (119, 41), (119, 50), (119, 56), (119, 66), (119, 78), (119, 89), (119, 104), (120, 71), (121, 17), (121, 114), (122, 5), (122, 12), (122, 83), (122, 122), (123, 24), (123, 35), (123, 48), (123, 75), (123, 128), (123, 144), (124, 0), (124, 59), (124, 96), (124, 102), (125, 29), (125, 69), (125, 132), (126, 40), (127, 8), (127, 64), (127, 73), (127, 108), (128, 13), (128, 21), (128, 46), (128, 93), (128, 125), (128, 140), (129, 55), (129, 103), (130, 31), (130, 77), (131, 41), (131, 131), (131, 145), (132, 9), (132, 16), (132, 52), (132, 71), (133, 26), (133, 36), (133, 45), (133, 65), (133, 109), (133, 123), (134, 83), (134, 118), (135, 0), (136, 39), (136, 75), (136, 98), (137, 8), (137, 20), (138, 30), (138, 47), (138, 113), (138, 125), (138, 143), (139, 3), (139, 36), (139, 66), (139, 102), (140, 13), (140, 51), (140, 107), (140, 132), (141, 56), (141, 72), (141, 79), (141, 90), (142, 7), (142, 33), (142, 111), (142, 121), (143, 16), (143, 46), (143, 100), (143, 116), (143, 140), (144, 0), (144, 26), (144, 38), (144, 67), (144, 125), (145, 59), (145, 136), (146, 12), (146, 83), (146, 143), (147, 21), (147, 52), (147, 96), (147, 108)]\n",
      "total distances between all galaxies is 10313550\n"
     ]
    }
   ],
   "source": [
    "import itertools\n",
    "\n",
    "def find_galaxies(line,chr='#'):\n",
    "    return [i for i, ltr in enumerate(line) if ltr == chr]\n",
    "\n",
    "def expand_map(map):\n",
    "    new_map = []\n",
    "    empty_row = ['.' for x in range(len(map[0]))]\n",
    "    for line in map:\n",
    "        if len(find_galaxies(line)) == 0:\n",
    "            new_map.append(empty_row)\n",
    "            new_map.append(line)\n",
    "        else:\n",
    "            new_map.append(line)\n",
    "    return new_map\n",
    "\n",
    "def find_distance(point1,point2):\n",
    "    return abs(point1[0] - point2[0]) + abs(point1[1] - point2[1])\n",
    "\n",
    "# get data\n",
    "#data = [[x for x in line] for line in testData.split('\\n')]\n",
    "with open ('2311input.txt') as f_in: data = [line for line in f_in.read().split('\\n')]\n",
    "\n",
    "# expand galaxy\n",
    "expanded_map = expand_map(data)\n",
    "transposed_map = [list(x) for x in zip(*expanded_map)]\n",
    "final_map = expand_map(transposed_map)\n",
    "\n",
    "# get galaxy coords\n",
    "galaxy_coord =[]\n",
    "for i in range(len(final_map)):\n",
    "    cols = find_galaxies(final_map[i])\n",
    "    if len(cols) > 0:\n",
    "        for col in cols:\n",
    "            galaxy_coord.append((i,col))\n",
    "\n",
    "print(f\"galaxy XY: {galaxy_coord}\")\n",
    "\n",
    "galaxy_pairs = list(itertools.combinations(galaxy_coord,2))\n",
    "\n",
    "# find distances between pairs\n",
    "tally = 0\n",
    "for pairs in galaxy_pairs:\n",
    "    dist = find_distance(pairs[0],pairs[1])\n",
    "    # print(f\"{pairs}, distance {dist}\")\n",
    "    tally += dist\n",
    "\n",
    "print(f\"total distances between all galaxies is {tally}\")"
   ]
  },
  {
   "cell_type": "markdown",
   "metadata": {},
   "source": [
    "$10313550$ is Correct!\n",
    "\n",
    "Part 2: instead of 1 empty row, put in 1M (10**6) empty rows.\n",
    "\n",
    "Solution:\n",
    "* For part 1, I did the easy(?) thing and just inserted the rows. \n",
    "* But I could have found the initial galaxy locations, then looked for empty rows and columns, and incremented their (X,Y) locations accordingly.\n",
    "\n",
    "To solve part 2, I need to do the latter! So let's re-do the code and see if I can get the same result for part 1 and then dump in the extra spaces..."
   ]
  },
  {
   "cell_type": "code",
   "execution_count": 107,
   "metadata": {},
   "outputs": [],
   "source": [
    "import itertools\n",
    "\n",
    "def find_galaxies(line,chr='#'):\n",
    "    return [i for i, ltr in enumerate(line) if ltr == chr]\n",
    "\n",
    "# get data\n",
    "data = [[x for x in line] for line in testData.split('\\n')]\n",
    "#with open ('2311input.txt') as f_in: data = [line for line in f_in.read().split('\\n')]\n",
    "\n",
    "# get galaxy coords\n",
    "galaxy_coord =[]\n",
    "for i in range(len(data)):\n",
    "    cols = find_galaxies(data[i])\n",
    "    if len(cols) > 0:\n",
    "        for col in cols:\n",
    "            galaxy_coord.append([i,col]) # row,col\n",
    "\n",
    "empty_rows = []\n",
    "for i in range(len(data)):\n",
    "    if len(find_galaxies(data[i])) == 0:\n",
    "        empty_rows.append(i)\n",
    "\n",
    "empty_cols =[]\n",
    "data_transposed = [list(x) for x in zip(*data)]\n",
    "for i in range(len(data_transposed)):\n",
    "    if len(find_galaxies(data_transposed[i])) == 0:\n",
    "        empty_cols.append(i)\n",
    "\n",
    "\n"
   ]
  },
  {
   "cell_type": "code",
   "execution_count": 108,
   "metadata": {},
   "outputs": [
    {
     "name": "stdout",
     "output_type": "stream",
     "text": [
      "initial:[[0, 3], [1, 7], [2, 0], [4, 6], [5, 1], [6, 9], [8, 7], [9, 0], [9, 4]]\n",
      "adjusted: [[0, 3], [1, 7], [2, 0], [5, 6], [6, 1], [7, 9], [10, 7], [11, 0], [11, 4]]\n"
     ]
    }
   ],
   "source": [
    "print(f\"initial:{galaxy_coord}\")\n",
    "rowCount = 0\n",
    "for row in empty_rows: # adjust rows first\n",
    "    increment = 1\n",
    "    for pair in galaxy_coord:\n",
    "        if pair[0] > row + rowCount:\n",
    "            pair[0] += increment\n",
    "    rowCount += 1\n",
    "\n",
    "print(f\"adjusted: {galaxy_coord}\")\n"
   ]
  },
  {
   "cell_type": "code",
   "execution_count": null,
   "metadata": {},
   "outputs": [],
   "source": [
    "print(f\"initial:{galaxy_coord}\")\n",
    "colCount = 0\n",
    "for col in empty_cols: # adjust cols next\n",
    "    increment = 1\n",
    "    for pair in galaxy_coord:\n",
    "        if pair[1] > col + colCount :\n",
    "            print(col, pair,pair[1]+increment)\n",
    "            pair[1] += increment\n",
    "    colCount += 1\n",
    "\n",
    "\n",
    "print(f\"adjusted: {galaxy_coord}\")"
   ]
  },
  {
   "cell_type": "code",
   "execution_count": 64,
   "metadata": {},
   "outputs": [
    {
     "name": "stdout",
     "output_type": "stream",
     "text": [
      "total distances between all galaxies is 422\n"
     ]
    }
   ],
   "source": [
    "galaxy_pairs = list(itertools.combinations(galaxy_coord,2))\n",
    "\n",
    "# find distances between pairs\n",
    "tally = 0\n",
    "for pairs in galaxy_pairs:\n",
    "    dist = find_distance(pairs[0],pairs[1])\n",
    "    # print(f\"{pairs}, distance {dist}\")\n",
    "    tally += dist\n",
    "\n",
    "print(f\"total distances between all galaxies is {tally}\")"
   ]
  },
  {
   "cell_type": "code",
   "execution_count": 146,
   "metadata": {},
   "outputs": [
    {
     "name": "stdout",
     "output_type": "stream",
     "text": [
      "empty_rows [3, 7]\n",
      "empty_cols [2, 5, 8]\n",
      "initial [[0, 3], [1, 7], [2, 0], [4, 6], [5, 1], [6, 9], [8, 7], [9, 0], [9, 4]]\n",
      "rows expanded [[0, 3], [1, 7], [2, 0], [5, 6], [6, 1], [7, 9], [10, 7], [11, 0], [11, 4]]\n",
      "cols expanded [[0, 4], [1, 9], [2, 0], [5, 8], [6, 1], [7, 12], [10, 9], [11, 0], [11, 5]]\n",
      "total distances between all galaxies is 374\n"
     ]
    }
   ],
   "source": [
    "import itertools\n",
    "\n",
    "def find_galaxies(line,chr='#'):\n",
    "    return [i for i, ltr in enumerate(line) if ltr == chr]\n",
    "\n",
    "def find_distance(point1,point2):\n",
    "    return abs(point1[0] - point2[0]) + abs(point1[1] - point2[1])\n",
    "\n",
    "# get data\n",
    "data = [[x for x in line] for line in testData.split('\\n')]\n",
    "#with open ('2311input.txt') as f_in: data = [line for line in f_in.read().split('\\n')]\n",
    "\n",
    "# get galaxy coords\n",
    "galaxy_coord =[]\n",
    "for i in range(len(data)):\n",
    "    cols = find_galaxies(data[i])\n",
    "    if len(cols) > 0:\n",
    "        for col in cols:\n",
    "            galaxy_coord.append([i,col]) # row,col\n",
    "\n",
    "empty_rows = []\n",
    "for i in range(len(data)):\n",
    "    if len(find_galaxies(data[i])) == 0:\n",
    "        empty_rows.append(i)\n",
    "\n",
    "empty_cols =[]\n",
    "data_transposed = [list(x) for x in zip(*data)]\n",
    "for i in range(len(data_transposed)):\n",
    "    if len(find_galaxies(data_transposed[i])) == 0:\n",
    "        empty_cols.append(i)\n",
    "\n",
    "# insert the space expansion\n",
    "increment = 1\n",
    "\n",
    "print(f\"empty_rows {empty_rows}\")\n",
    "print(f\"empty_cols {empty_cols}\")\n",
    "\n",
    "print(f\"initial {galaxy_coord}\")\n",
    "\n",
    "for row in empty_rows[::-1]: # adjust rows first\n",
    "    for pair in galaxy_coord:\n",
    "        if pair[0] > row: # as space expands, the empty row number inceases too\n",
    "            pair[0] += increment\n",
    "    rowCount += 1\n",
    "\n",
    "print(f\"rows expanded {galaxy_coord}\")\n",
    "rows_galaxy_expanded = galaxy_coord\n",
    "\n",
    "for col in empty_cols[::-1]: # adjust cols next\n",
    "    for pair in galaxy_coord:\n",
    "        if pair[1] > col:\n",
    "#            print(col,pair)\n",
    "            pair[1] += increment\n",
    "    colCount += 1\n",
    "\n",
    "print(f\"cols expanded {galaxy_coord}\")\n",
    "cols_galaxy_expanded = galaxy_coord\n",
    "\n",
    "galaxy_pairs = list(itertools.combinations(galaxy_coord,2))\n",
    "\n",
    "# find distances between pairs\n",
    "tally = 0\n",
    "for pairs in galaxy_pairs:\n",
    "    dist = find_distance(pairs[0],pairs[1])\n",
    "    #print(f\"{pairs}, distance {dist}\")\n",
    "    tally += dist\n",
    "\n",
    "print(f\"total distances between all galaxies is {tally}\")\n",
    "\n"
   ]
  },
  {
   "cell_type": "markdown",
   "metadata": {},
   "source": [
    "$10313550$ is the same answer as I got with the earlier procedure. Since this new process works with both the test data and the production data:\n",
    "\n",
    "1. change the increment to $10$ and $100$ for the test data to see if we get the expeced values of $1030$ and $8410$\n",
    "\n",
    "1. If so, change the increment to $10^6$ and run the production data. \n"
   ]
  },
  {
   "cell_type": "code",
   "execution_count": 163,
   "metadata": {},
   "outputs": [
    {
     "name": "stdout",
     "output_type": "stream",
     "text": [
      "empty_rows [3, 7]\n",
      "empty_cols [2, 5, 8]\n",
      "initial [[0, 3], [1, 7], [2, 0], [4, 6], [5, 1], [6, 9], [8, 7], [9, 0], [9, 4]]\n",
      "rows expanded [[0, 3], [1, 7], [2, 0], [5, 6], [6, 1], [7, 9], [10, 7], [11, 0], [11, 4]]\n",
      "cols expanded [[0, 4], [1, 9], [2, 0], [5, 8], [6, 1], [7, 12], [10, 9], [11, 0], [11, 5]]\n",
      "([0, 4], [1, 9]), distance 6\n",
      "([0, 4], [2, 0]), distance 6\n",
      "([0, 4], [5, 8]), distance 9\n",
      "([0, 4], [6, 1]), distance 9\n",
      "([0, 4], [7, 12]), distance 15\n",
      "([0, 4], [10, 9]), distance 15\n",
      "([0, 4], [11, 0]), distance 15\n",
      "([0, 4], [11, 5]), distance 12\n",
      "([1, 9], [2, 0]), distance 10\n",
      "([1, 9], [5, 8]), distance 5\n",
      "([1, 9], [6, 1]), distance 13\n",
      "([1, 9], [7, 12]), distance 9\n",
      "([1, 9], [10, 9]), distance 9\n",
      "([1, 9], [11, 0]), distance 19\n",
      "([1, 9], [11, 5]), distance 14\n",
      "([2, 0], [5, 8]), distance 11\n",
      "([2, 0], [6, 1]), distance 5\n",
      "([2, 0], [7, 12]), distance 17\n",
      "([2, 0], [10, 9]), distance 17\n",
      "([2, 0], [11, 0]), distance 9\n",
      "([2, 0], [11, 5]), distance 14\n",
      "([5, 8], [6, 1]), distance 8\n",
      "([5, 8], [7, 12]), distance 6\n",
      "([5, 8], [10, 9]), distance 6\n",
      "([5, 8], [11, 0]), distance 14\n",
      "([5, 8], [11, 5]), distance 9\n",
      "([6, 1], [7, 12]), distance 12\n",
      "([6, 1], [10, 9]), distance 12\n",
      "([6, 1], [11, 0]), distance 6\n",
      "([6, 1], [11, 5]), distance 9\n",
      "([7, 12], [10, 9]), distance 6\n",
      "([7, 12], [11, 0]), distance 16\n",
      "([7, 12], [11, 5]), distance 11\n",
      "([10, 9], [11, 0]), distance 10\n",
      "([10, 9], [11, 5]), distance 5\n",
      "([11, 0], [11, 5]), distance 5\n",
      "total distances between all galaxies is 374\n"
     ]
    }
   ],
   "source": [
    "import itertools\n",
    "\n",
    "def find_galaxies(line,chr='#'):\n",
    "    return [i for i, ltr in enumerate(line) if ltr == chr]\n",
    "\n",
    "def find_distance(point1,point2):\n",
    "    return abs(point1[0] - point2[0]) + abs(point1[1] - point2[1])\n",
    "\n",
    "def find_empty_ranges(data):\n",
    "    empty_list=[]\n",
    "    for i in range(len(data)):\n",
    "        if len(find_galaxies(data[i])) == 0:\n",
    "            empty_list.append(i)\n",
    "    return empty_list\n",
    "\n",
    "def expand_galaxy(galaxy_coords,empty,index):\n",
    "    for row in empty[::-1]:\n",
    "        for pair in galaxy_coords:\n",
    "            if pair[index] > row:\n",
    "                pair[index] += increment\n",
    "    return galaxy_coords\n",
    "\n",
    "# get data\n",
    "data = [[x for x in line] for line in testData.split('\\n')]\n",
    "#with open ('2311input.txt') as f_in: data = [line for line in f_in.read().split('\\n')]\n",
    "\n",
    "# get galaxy coords\n",
    "galaxy_coord =[]\n",
    "for i in range(len(data)):\n",
    "    cols = find_galaxies(data[i])\n",
    "    if len(cols) > 0:\n",
    "        for col in cols:\n",
    "            galaxy_coord.append([i,col]) # row,col\n",
    "\n",
    "empty_rows = find_empty_ranges(data)\n",
    "empty_cols = find_empty_ranges( [list(x) for x in zip(*data)] )\n",
    "\n",
    "# insert the space expansion\n",
    "increment = 1\n",
    "print(f\"empty_rows {empty_rows}\")\n",
    "print(f\"empty_cols {empty_cols}\")\n",
    "print(f\"initial {galaxy_coord}\")\n",
    "\n",
    "galaxy_coord = expand_galaxy(galaxy_coord,empty_rows,0) # expand by rows\n",
    "print(f\"rows expanded {galaxy_coord}\")\n",
    "\n",
    "galaxy_coord = expand_galaxy(galaxy_coord,empty_cols,1) # expand by columns\n",
    "print(f\"cols expanded {galaxy_coord}\")\n",
    "\n",
    "galaxy_pairs = list(itertools.combinations(galaxy_coord,2)) # find the pairs of galaxy locations\n",
    "\n",
    "# find distances between pairs\n",
    "tally = 0\n",
    "for pairs in galaxy_pairs:\n",
    "    dist = find_distance(pairs[0],pairs[1])\n",
    "    print(f\"{pairs}, distance {dist}\")\n",
    "    tally += dist\n",
    "\n",
    "print(f\"total distances between all galaxies is {tally}\")\n",
    "\n"
   ]
  },
  {
   "cell_type": "markdown",
   "metadata": {},
   "source": [
    "Very weird. The optimized (with procedures) code works with both the test and production data if `increment = 1` but when I put in 10 or 100, the test data is consistently 82 higher than what is expected from the puzzle:\n",
    "\n",
    "|increment|expected|generated|\n",
    "|:--|:--|:--|\n",
    "|10|1030|1112|\n",
    "|100|8410|8492|\n",
    "\n",
    "Since each is 82 above the expected value, this is not random.\n",
    "Is it related to the length of the pairs? There are 36 pairs of values.\n"
   ]
  },
  {
   "cell_type": "code",
   "execution_count": 161,
   "metadata": {},
   "outputs": [
    {
     "data": {
      "text/plain": [
       "611998701479"
      ]
     },
     "execution_count": 161,
     "metadata": {},
     "output_type": "execute_result"
    }
   ],
   "source": [
    "611998701561-82\n"
   ]
  }
 ],
 "metadata": {
  "kernelspec": {
   "display_name": "default",
   "language": "python",
   "name": "python3"
  },
  "language_info": {
   "codemirror_mode": {
    "name": "ipython",
    "version": 3
   },
   "file_extension": ".py",
   "mimetype": "text/x-python",
   "name": "python",
   "nbconvert_exporter": "python",
   "pygments_lexer": "ipython3",
   "version": "3.10.13"
  }
 },
 "nbformat": 4,
 "nbformat_minor": 2
}
