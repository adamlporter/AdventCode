{
 "cells": [
  {
   "cell_type": "markdown",
   "metadata": {},
   "source": [
    "AOC [23.10](https://adventofcode.com/2023/day/11) Cosmic Expansion\n",
    "\n",
    "Map of Galaxies:\n",
    "```\n",
    "...#......\n",
    ".......#..\n",
    "#.........\n",
    "..........\n",
    "......#...\n",
    ".#........\n",
    ".........#\n",
    "..........\n",
    ".......#..\n",
    "#...#.....\n",
    "```\n",
    "Need to calculate the sortest path between each pair of galaxies. But in any row or column w/o a galaxy, should be treated as two rows/columns.\n",
    "\n",
    "Suggested steps:\n",
    "1. expand the map\n",
    "1. number the galaxies\n",
    "1. Example shows 9 galaxies --> 36 pairs. Count each pair only once.\n",
    "1. Find shortest path b/w two galaxies moving only up/down/L/R (cannot go diagonally) (City block distance) $D = |X2-X1| + |Y2 - Y1|$\n"
   ]
  },
  {
   "cell_type": "code",
   "execution_count": 24,
   "metadata": {},
   "outputs": [
    {
     "data": {
      "text/plain": [
       "[['.', '.', '.', '#', '.', '.', '.', '.', '.', '.'],\n",
       " ['.', '.', '.', '.', '.', '.', '.', '#', '.', '.'],\n",
       " ['#', '.', '.', '.', '.', '.', '.', '.', '.', '.'],\n",
       " ['.', '.', '.', '.', '.', '.', '.', '.', '.', '.'],\n",
       " ['.', '.', '.', '.', '.', '.', '#', '.', '.', '.'],\n",
       " ['.', '#', '.', '.', '.', '.', '.', '.', '.', '.'],\n",
       " ['.', '.', '.', '.', '.', '.', '.', '.', '.', '#'],\n",
       " ['.', '.', '.', '.', '.', '.', '.', '.', '.', '.'],\n",
       " ['.', '.', '.', '.', '.', '.', '.', '#', '.', '.'],\n",
       " ['#', '.', '.', '.', '#', '.', '.', '.', '.', '.']]"
      ]
     },
     "execution_count": 24,
     "metadata": {},
     "output_type": "execute_result"
    }
   ],
   "source": [
    "testData='''...#......\n",
    ".......#..\n",
    "#.........\n",
    "..........\n",
    "......#...\n",
    ".#........\n",
    ".........#\n",
    "..........\n",
    ".......#..\n",
    "#...#.....'''\n",
    "\n",
    "data = [[x for x in line] for line in testData.split('\\n')]\n",
    "data"
   ]
  },
  {
   "cell_type": "code",
   "execution_count": 33,
   "metadata": {},
   "outputs": [],
   "source": [
    "def find_galaxies(line,chr='#'):\n",
    "    return [i for i, ltr in enumerate(line) if ltr == chr]\n",
    "\n",
    "def expand_map(map):\n",
    "    new_map = []\n",
    "    empty_row = ['.' for x in range(len(map[0]))]\n",
    "    for line in map:\n",
    "        if len(find_galaxies(line)) == 0:\n",
    "            new_map.append(empty_row)\n",
    "            new_map.append(line)\n",
    "        else:\n",
    "            new_map.append(line)\n",
    "    return new_map\n",
    "\n",
    "\n",
    "# expand galaxy\n",
    "expanded_map = expand_map(data)\n",
    "transposed_map = [list(x) for x in zip(*expanded_map)]\n",
    "final_map = expand_map(transposed_map)"
   ]
  },
  {
   "cell_type": "code",
   "execution_count": 20,
   "metadata": {},
   "outputs": [],
   "source": [
    "# https://datagy.io/python-transpose-list-of-lists/\n",
    "# transpose rows and cols and then run the expansion routine again\n",
    "transposed_map = [list(x) for x in zip(*new_map)]\n",
    "final_map = []\n",
    "empty_row = len(transposed_map[0])*'.'\n",
    "for line in transposed_map:\n",
    "    if len(find_galaxies(line)) == 0:\n",
    "        final_map.append(empty_row)\n",
    "        final_map.append(line)\n",
    "    else:\n",
    "        final_map.append(line)\n"
   ]
  },
  {
   "cell_type": "code",
   "execution_count": 35,
   "metadata": {},
   "outputs": [
    {
     "data": {
      "text/plain": [
       "[['.', '.', '#', '.', '.', '.', '.', '.', '.', '.', '.', '#'],\n",
       " ['.', '.', '.', '.', '.', '.', '#', '.', '.', '.', '.', '.'],\n",
       " ['.', '.', '.', '.', '.', '.', '.', '.', '.', '.', '.', '.'],\n",
       " ['.', '.', '.', '.', '.', '.', '.', '.', '.', '.', '.', '.'],\n",
       " ['#', '.', '.', '.', '.', '.', '.', '.', '.', '.', '.', '.'],\n",
       " ['.', '.', '.', '.', '.', '.', '.', '.', '.', '.', '.', '#'],\n",
       " ['.', '.', '.', '.', '.', '.', '.', '.', '.', '.', '.', '.'],\n",
       " ['.', '.', '.', '.', '.', '.', '.', '.', '.', '.', '.', '.'],\n",
       " ['.', '.', '.', '.', '.', '#', '.', '.', '.', '.', '.', '.'],\n",
       " ['.', '#', '.', '.', '.', '.', '.', '.', '.', '.', '#', '.'],\n",
       " ['.', '.', '.', '.', '.', '.', '.', '.', '.', '.', '.', '.'],\n",
       " ['.', '.', '.', '.', '.', '.', '.', '.', '.', '.', '.', '.'],\n",
       " ['.', '.', '.', '.', '.', '.', '.', '#', '.', '.', '.', '.']]"
      ]
     },
     "execution_count": 35,
     "metadata": {},
     "output_type": "execute_result"
    }
   ],
   "source": [
    "final_map"
   ]
  },
  {
   "cell_type": "code",
   "execution_count": 38,
   "metadata": {},
   "outputs": [
    {
     "data": {
      "text/plain": [
       "[(0, 2), (0, 11), (1, 6), (4, 0), (5, 11), (8, 5), (9, 1), (9, 10), (12, 7)]"
      ]
     },
     "execution_count": 38,
     "metadata": {},
     "output_type": "execute_result"
    }
   ],
   "source": [
    "galaxy_coord =[]\n",
    "for i in range(len(final_map)):\n",
    "    cols = find_galaxies(final_map[i])\n",
    "    if len(cols) > 0:\n",
    "        for col in cols:\n",
    "            galaxy_coord.append((i,col))\n",
    "\n",
    "galaxy_coord\n",
    "    "
   ]
  },
  {
   "cell_type": "code",
   "execution_count": 42,
   "metadata": {},
   "outputs": [
    {
     "data": {
      "text/plain": [
       "((0, 2), (0, 11))"
      ]
     },
     "execution_count": 42,
     "metadata": {},
     "output_type": "execute_result"
    }
   ],
   "source": [
    "import itertools\n",
    "galaxy_pairs = list(itertools.combinations(galaxy_coord,2))\n",
    "galaxy_pairs[0]"
   ]
  },
  {
   "cell_type": "code",
   "execution_count": 43,
   "metadata": {},
   "outputs": [
    {
     "data": {
      "text/plain": [
       "(0, 2)"
      ]
     },
     "execution_count": 43,
     "metadata": {},
     "output_type": "execute_result"
    }
   ],
   "source": [
    "galaxy_pairs[0][0]"
   ]
  },
  {
   "cell_type": "code",
   "execution_count": 45,
   "metadata": {},
   "outputs": [
    {
     "name": "stdout",
     "output_type": "stream",
     "text": [
      "((0, 2), (0, 11)), distance 9\n",
      "((0, 2), (1, 6)), distance 5\n",
      "((0, 2), (4, 0)), distance 6\n",
      "((0, 2), (5, 11)), distance 14\n",
      "((0, 2), (8, 5)), distance 11\n",
      "((0, 2), (9, 1)), distance 10\n",
      "((0, 2), (9, 10)), distance 17\n",
      "((0, 2), (12, 7)), distance 17\n",
      "((0, 11), (1, 6)), distance 6\n",
      "((0, 11), (4, 0)), distance 15\n",
      "((0, 11), (5, 11)), distance 5\n",
      "((0, 11), (8, 5)), distance 14\n",
      "((0, 11), (9, 1)), distance 19\n",
      "((0, 11), (9, 10)), distance 10\n",
      "((0, 11), (12, 7)), distance 16\n",
      "((1, 6), (4, 0)), distance 9\n",
      "((1, 6), (5, 11)), distance 9\n",
      "((1, 6), (8, 5)), distance 8\n",
      "((1, 6), (9, 1)), distance 13\n",
      "((1, 6), (9, 10)), distance 12\n",
      "((1, 6), (12, 7)), distance 12\n",
      "((4, 0), (5, 11)), distance 12\n",
      "((4, 0), (8, 5)), distance 9\n",
      "((4, 0), (9, 1)), distance 6\n",
      "((4, 0), (9, 10)), distance 15\n",
      "((4, 0), (12, 7)), distance 15\n",
      "((5, 11), (8, 5)), distance 9\n",
      "((5, 11), (9, 1)), distance 14\n",
      "((5, 11), (9, 10)), distance 5\n",
      "((5, 11), (12, 7)), distance 11\n",
      "((8, 5), (9, 1)), distance 5\n",
      "((8, 5), (9, 10)), distance 6\n",
      "((8, 5), (12, 7)), distance 6\n",
      "((9, 1), (9, 10)), distance 9\n",
      "((9, 1), (12, 7)), distance 9\n",
      "((9, 10), (12, 7)), distance 6\n",
      "374\n"
     ]
    }
   ],
   "source": [
    "def find_distance(point1,point2):\n",
    "    return abs(point1[0] - point2[0]) + abs(point1[1] - point2[1])\n",
    "\n",
    "tally = 0\n",
    "for pairs in galaxy_pairs:\n",
    "    dist = find_distance(pairs[0],pairs[1])\n",
    "    print(f\"{pairs}, distance {dist}\")\n",
    "    tally += dist\n",
    "\n",
    "print(tally)"
   ]
  },
  {
   "cell_type": "markdown",
   "metadata": {},
   "source": [
    "OK, all the little bits work. Let's try it on the production data. . ."
   ]
  },
  {
   "cell_type": "code",
   "execution_count": 48,
   "metadata": {},
   "outputs": [
    {
     "name": "stdout",
     "output_type": "stream",
     "text": [
      "total distances between all galaxies is 10313550\n"
     ]
    }
   ],
   "source": [
    "import itertools\n",
    "\n",
    "def find_galaxies(line,chr='#'):\n",
    "    return [i for i, ltr in enumerate(line) if ltr == chr]\n",
    "\n",
    "def expand_map(map):\n",
    "    new_map = []\n",
    "    empty_row = ['.' for x in range(len(map[0]))]\n",
    "    for line in map:\n",
    "        if len(find_galaxies(line)) == 0:\n",
    "            new_map.append(empty_row)\n",
    "            new_map.append(line)\n",
    "        else:\n",
    "            new_map.append(line)\n",
    "    return new_map\n",
    "\n",
    "def find_distance(point1,point2):\n",
    "    return abs(point1[0] - point2[0]) + abs(point1[1] - point2[1])\n",
    "\n",
    "# get data\n",
    "with open ('2311input.txt') as f_in:\n",
    "    data = [line for line in f_in.read().split('\\n')]\n",
    "\n",
    "# expand galaxy\n",
    "expanded_map = expand_map(data)\n",
    "transposed_map = [list(x) for x in zip(*expanded_map)]\n",
    "final_map = expand_map(transposed_map)\n",
    "\n",
    "# get galaxy coords\n",
    "galaxy_coord =[]\n",
    "for i in range(len(final_map)):\n",
    "    cols = find_galaxies(final_map[i])\n",
    "    if len(cols) > 0:\n",
    "        for col in cols:\n",
    "            galaxy_coord.append((i,col))\n",
    "\n",
    "galaxy_pairs = list(itertools.combinations(galaxy_coord,2))\n",
    "\n",
    "# find distances between pairs\n",
    "tally = 0\n",
    "for pairs in galaxy_pairs:\n",
    "    dist = find_distance(pairs[0],pairs[1])\n",
    "    # print(f\"{pairs}, distance {dist}\")\n",
    "    tally += dist\n",
    "\n",
    "print(f\"total distances between all galaxies is {tally}\")"
   ]
  },
  {
   "cell_type": "markdown",
   "metadata": {},
   "source": [
    "Correct!\n",
    "\n",
    "Part 2: instead of 1 empty row, put in 1M (10**6) empty rows"
   ]
  },
  {
   "cell_type": "code",
   "execution_count": 49,
   "metadata": {},
   "outputs": [
    {
     "data": {
      "text/plain": [
       "146"
      ]
     },
     "execution_count": 49,
     "metadata": {},
     "output_type": "execute_result"
    }
   ],
   "source": [
    "len(final_map[0])"
   ]
  }
 ],
 "metadata": {
  "kernelspec": {
   "display_name": "default",
   "language": "python",
   "name": "python3"
  },
  "language_info": {
   "codemirror_mode": {
    "name": "ipython",
    "version": 3
   },
   "file_extension": ".py",
   "mimetype": "text/x-python",
   "name": "python",
   "nbconvert_exporter": "python",
   "pygments_lexer": "ipython3",
   "version": "3.10.13"
  }
 },
 "nbformat": 4,
 "nbformat_minor": 2
}
