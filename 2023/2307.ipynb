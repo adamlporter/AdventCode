{
 "cells": [
  {
   "cell_type": "markdown",
   "metadata": {},
   "source": [
    "AOC [23.07](https://adventofcode.com/2023/day/7) Camel Cards\n",
    "\n",
    "Poker variation: \n",
    "* cards from A, K, Q, J, T, 9 - 2.\n",
    "* ranks:\n",
    " * 5 of a kind\n",
    " * 4 of a kind\n",
    " * full house: 3 of a kind + pair\n",
    " * three of a kind\n",
    " * two pair\n",
    " * one pair\n",
    " * high card\n",
    "\n",
    "In case of tied hands: look at cards in hand. First card higher = winning hand.\n",
    "* 33332 > 2AAAA b/c 3>2\n",
    "* 77888 < 88877 \n",
    "\n",
    "Given input of hands and bids, put them in rank order (1 = low, N = high). Multply bids by rank. Tally product.\n",
    "\n",
    "Solution:\n",
    "1. create a function to compare two hands and rank one above the other\n",
    "1. sort the list using list.sort and a lambda function that compares the two hands\n"
   ]
  },
  {
   "cell_type": "code",
   "execution_count": 58,
   "metadata": {},
   "outputs": [
    {
     "data": {
      "text/plain": [
       "[('32T3K', '765'),\n",
       " ('T55J5', '684'),\n",
       " ('KK677', '28'),\n",
       " ('KTJJT', '220'),\n",
       " ('QQQJA', '483')]"
      ]
     },
     "execution_count": 58,
     "metadata": {},
     "output_type": "execute_result"
    }
   ],
   "source": [
    "testData = '''32T3K 765\n",
    "T55J5 684\n",
    "KK677 28\n",
    "KTJJT 220\n",
    "QQQJA 483'''\n",
    "\n",
    "data = [tuple(x.split()) for x in testData.split('\\n')]\n",
    "data\n"
   ]
  },
  {
   "cell_type": "code",
   "execution_count": null,
   "metadata": {},
   "outputs": [],
   "source": [
    "# https://codereview.stackexchange.com/questions/144551/find-and-display-best-poker-hand\n",
    "\n",
    "import itertools\n",
    "\n",
    "def numeric_ranks(cards):\n",
    "    suits = get_suits(cards)\n",
    "    face_numbers = {'A': 14, 'J': 11, 'Q': 12, 'K': 13}\n",
    "    for index, card in enumerate(cards):\n",
    "        rank = card[0:-1]\n",
    "        try: int(rank)\n",
    "        except:  # Rank is a letter, not a number\n",
    "            cards[index] = str(face_numbers[rank])+suits[index]\n",
    "    return cards\n",
    "\n",
    "def get_ranks(cards):\n",
    "    cards = numeric_ranks(cards) # Convert rank letters to numbers (e.g. J to 11)\n",
    "    return [int(card[0:-1]) for card in cards]\n",
    "\n",
    "def get_suits(cards):\n",
    "    return [card[-1] for card in cards]\n",
    "\n",
    "def evaluate_hand(hand):\n",
    "    hand = numeric_ranks(hand)\n",
    "    ranks = get_ranks(hand)\n",
    "    suits = get_suits(hand)\n",
    "    if len(set(hand)) < len(hand) or max(ranks) > 14 or min(ranks) < 1:  # There is a duplicate\n",
    "        return 'Invalid hand'\n",
    "    if isconsecutive(ranks):  # The hand is a type of straight\n",
    "        if all_equal(suits):  # Hand is a flush\n",
    "            if max(ranks) == 14:  # Highest card is an ace\n",
    "                return 'Royal flush'\n",
    "            return 'Straight flush'\n",
    "        return 'Straight'\n",
    "    if all_equal(suits):\n",
    "        return 'Flush'\n",
    "    total = sum([ranks.count(x) for x in ranks])\n",
    "    hand_names = {\n",
    "        17: 'Four of a kind',\n",
    "        13: 'Full house',\n",
    "        11: 'Three of a kind',\n",
    "        9: 'Two pair',\n",
    "        7: 'One pair',\n",
    "        5: 'High card'\n",
    "    }\n",
    "    return hand_names[total]\n",
    "\n",
    "def all_equal(lst):\n",
    "    return len(set(lst)) == 1\n"
   ]
  },
  {
   "cell_type": "code",
   "execution_count": 101,
   "metadata": {},
   "outputs": [
    {
     "name": "stdout",
     "output_type": "stream",
     "text": [
      "[([3, 2, 10, 3, 13], 765, 2), ([10, 5, 5, 11, 5], 684, 4), ([13, 13, 6, 7, 7], 28, 3), ([13, 10, 11, 11, 10], 220, 3), ([12, 12, 12, 11, 14], 483, 4)]\n"
     ]
    }
   ],
   "source": [
    "import itertools\n",
    "\n",
    "def numeric_ranks(cards): # input string of five characters; return list of 5 integers representing the cards\n",
    "    face_numbers = {'A': 14, 'J': 11, 'Q': 12, 'K': 13, 'T':10}\n",
    "    intCards = []\n",
    "    for card in cards: # look at each card and assign numberic value\n",
    "        if card.isdigit():\n",
    "            intCards.append(int(card))\n",
    "        else:\n",
    "            intCards.append(face_numbers[card])\n",
    "    return intCards\n",
    "\n",
    "def evaluate_hand(ranks):\n",
    "    #ranks = numeric_ranks(hand)\n",
    "    total = [ranks.count(x) for x in set(ranks)]\n",
    "    #print(total)\n",
    "    if 5 in total: return 7 # five of a kind\n",
    "    elif 4 in total: return 6\n",
    "    elif (3 in total) and (2 in total): return 5\n",
    "    elif 3 in total: return 4\n",
    "    elif len([i for i in total if i == 2]) == 2: return 3\n",
    "    elif 2 in total: return 2\n",
    "    else: return 1\n",
    "\n",
    "valued_hands = []\n",
    "hands = [(numeric_ranks(x[0]),int(x[1])) for x in data]\n",
    "\n",
    "for hand in hands:\n",
    "    valued_hands.append(hand + (evaluate_hand(hand[0]),))\n"
   ]
  },
  {
   "cell_type": "code",
   "execution_count": 111,
   "metadata": {},
   "outputs": [
    {
     "data": {
      "text/plain": [
       "[([3, 2, 10, 3, 13], 765),\n",
       " ([10, 5, 5, 11, 5], 684),\n",
       " ([13, 13, 6, 7, 7], 28),\n",
       " ([13, 10, 11, 11, 10], 220),\n",
       " ([12, 12, 12, 11, 14], 483)]"
      ]
     },
     "execution_count": 111,
     "metadata": {},
     "output_type": "execute_result"
    }
   ],
   "source": [
    "hands"
   ]
  },
  {
   "cell_type": "code",
   "execution_count": 126,
   "metadata": {},
   "outputs": [
    {
     "name": "stdout",
     "output_type": "stream",
     "text": [
      "[([3, 2, 10, 3, 13], 765, 2), ([13, 13, 6, 7, 7], 28, 3), ([13, 10, 11, 11, 10], 220, 3), ([10, 5, 5, 11, 5], 684, 4), ([12, 12, 12, 11, 14], 483, 4)]\n",
      "6632\n"
     ]
    }
   ],
   "source": [
    "def bubbleSort(arr):\n",
    "    n = len(arr)\n",
    "    swapped = False\n",
    "    for i in range(n-1):\n",
    "        for j in range(0, n-i-1):\n",
    "            if arr[j][2] > arr[j + 1][2]: # look at ranked scored\n",
    "                swapped = True\n",
    "                arr[j], arr[j + 1] = arr[j + 1], arr[j]\n",
    "            elif arr[j][2] == arr[j+1][2]: # if scores are equal, look at card values\n",
    "                for k in range(4):\n",
    "                    if arr[j][0][k] > arr[j+1][0][k]:\n",
    "                        swapped = True\n",
    "                        arr[j], arr[j+1] =  arr[j+1], arr[j] \n",
    "                        break\n",
    "                    else: continue\n",
    "        if not swapped:\n",
    "            break\n",
    "    return arr\n",
    "\n",
    "sorted_arr = bubbleSort(valued_hands)\n",
    "\n",
    "#print(sorted_arr)\n",
    "\n",
    "tally = 0\n",
    "for i in range(0,len(sorted_arr)):\n",
    "    tally += (i+1) * sorted_arr[i][1]\n",
    "\n",
    "print(tally)"
   ]
  },
  {
   "cell_type": "markdown",
   "metadata": {},
   "source": [
    "OK,got the test data to work correctly. Let's try it on the real data."
   ]
  },
  {
   "cell_type": "code",
   "execution_count": 206,
   "metadata": {},
   "outputs": [
    {
     "name": "stdout",
     "output_type": "stream",
     "text": [
      "250988697\n"
     ]
    }
   ],
   "source": [
    "def numeric_ranks(cards): # input string of five characters; return list of 5 integers representing the cards\n",
    "    face_numbers = {'A': 14, 'J': 11, 'Q': 12, 'K': 13, 'T':10}\n",
    "    intCards = []\n",
    "    for card in cards: # look at each card and assign numberic value\n",
    "        if card.isdigit():\n",
    "            intCards.append(int(card))\n",
    "        else:\n",
    "            intCards.append(face_numbers[card])\n",
    "    return intCards\n",
    "\n",
    "def evaluate_hand(ranks):\n",
    "    #ranks = numeric_ranks(hand)\n",
    "    total = [ranks.count(x) for x in set(ranks)]\n",
    "    #print(total)\n",
    "    if 5 in total: return 7 # five of a kind\n",
    "    elif 4 in total: return 6\n",
    "    elif (3 in total) and (2 in total): return 5\n",
    "    elif 3 in total: return 4\n",
    "    elif len([i for i in total if i == 2]) == 2: return 3\n",
    "    elif 2 in total: return 2\n",
    "    else: return 1\n",
    "\n",
    "def compareCards(card1,card2): # compare two cards; if card 1 indexes > card 2, return True\n",
    "    swap = False\n",
    "    if card1[0] > card2[0] : return True\n",
    "    for i in range(1,len(card)):\n",
    "        if (card1[i-1] == card2[i-1]) and (card1[i] > card2[i]):\n",
    "            swap = True\n",
    "            break\n",
    "    if swap: return True\n",
    "    else: return False\n",
    "\n",
    "def bubbleSort(arr):\n",
    "    n = len(arr)\n",
    "    swapped = False\n",
    "    for i in range(n-1):\n",
    "        for j in range(0, n-i-1):\n",
    "            if arr[j][2] > arr[j + 1][2]: # look at ranked scored\n",
    "                swapped = True\n",
    "                arr[j], arr[j + 1] = arr[j + 1], arr[j]\n",
    "            elif arr[j][2] == arr[j+1][2]: # if scores are equal, look at card values\n",
    "                if compareCards(arr[j][0],arr[j+1][0]):\n",
    "                    swapped = True\n",
    "                    arr[j], arr[j + 1] = arr[j + 1], arr[j]\n",
    "        if not swapped:\n",
    "            break\n",
    "    return arr\n",
    "\n",
    "with open ('2307input.txt') as f_in:\n",
    "    data = [tuple(x.split()) for x in f_in.read().split('\\n')]\n",
    "#data = [tuple(x.split()) for x in testData.split('\\n')]\n",
    "\n",
    "hands = [(numeric_ranks(x[0]),int(x[1])) for x in data] # convert the hands into tuples of numbered hands + wager ([3,2,10,3,13], 765)\n",
    "\n",
    "valued_hands = []\n",
    "for hand in hands: # evaluate the hands and create new list of tuples with the value as third element ([x,x,x,x,x],wager,value)\n",
    "    valued_hands.append(hand + (evaluate_hand(hand[0]),))\n",
    "\n",
    "sorted_hands = bubbleSort(valued_hands)\n",
    "\n",
    "\n",
    "tally = 0\n",
    "for i in range(0,len(sorted_hands)):\n",
    "    #print(f\"{i+1}, {sorted_hands[i][1]}\")\n",
    "    tally += (i+1) * sorted_hands[i][1]\n",
    "\n",
    "print(tally)\n"
   ]
  },
  {
   "cell_type": "markdown",
   "metadata": {},
   "source": [
    "This value is too low. I think my sort routine isn't working properly. Let's dump it and use the sort routines in the python library. Rather than doing one sort, let's split the sort process into two steps:\n",
    "1. sort the list of hands by their numeric values --> this will create 7 groups of cards (values 1, 2, 3)\n",
    "1. sort each group of card by their lists -- the python sort is smart enough to sort them pairwise\n",
    "\n",
    "And now that I've written this, I realize I can skip the first sort. If I just iterate through the list, select those with hand value = 1, then 2 etc., I just need to call the second sort!"
   ]
  },
  {
   "cell_type": "code",
   "execution_count": 223,
   "metadata": {},
   "outputs": [
    {
     "name": "stdout",
     "output_type": "stream",
     "text": [
      "250946742\n"
     ]
    }
   ],
   "source": [
    "def numeric_ranks(cards): # input string of five characters; return list of 5 integers representing the cards\n",
    "    face_numbers = {'A': 14, 'J': 11, 'Q': 12, 'K': 13, 'T':10}\n",
    "    intCards = []\n",
    "    for card in cards: # look at each card and assign numberic value\n",
    "        if card.isdigit():\n",
    "            intCards.append(int(card))\n",
    "        else:\n",
    "            intCards.append(face_numbers[card])\n",
    "    return intCards\n",
    "\n",
    "def evaluate_hand(ranks):\n",
    "    #ranks = numeric_ranks(hand)\n",
    "    total = [ranks.count(x) for x in set(ranks)]\n",
    "    #print(total)\n",
    "    if 5 in total: return 7 # five of a kind\n",
    "    elif 4 in total: return 6\n",
    "    elif (3 in total) and (2 in total): return 5\n",
    "    elif 3 in total: return 4\n",
    "    elif len([i for i in total if i == 2]) == 2: return 3\n",
    "    elif 2 in total: return 2\n",
    "    else: return 1\n",
    "\n",
    "def compareCards(card1,card2): # compare two cards; if card 1 indexes > card 2, return True\n",
    "    swap = False\n",
    "    if card1[0] > card2[0] : return True\n",
    "    for i in range(1,len(card)):\n",
    "        if (card1[i-1] == card2[i-1]) and (card1[i] > card2[i]):\n",
    "            swap = True\n",
    "            break\n",
    "    if swap: return True\n",
    "    else: return False\n",
    "\n",
    "with open ('2307input.txt') as f_in:\n",
    "    data = [tuple(x.split()) for x in f_in.read().split('\\n')]\n",
    "#data = [tuple(x.split()) for x in testData.split('\\n')]\n",
    "\n",
    "hands = [(numeric_ranks(x[0]),int(x[1])) for x in data] # convert the hands into tuples of numbered hands + wager ([3,2,10,3,13], 765)\n",
    "\n",
    "valued_hands = []\n",
    "for hand in hands: # evaluate the hands and create new list of tuples with the value as third element ([x,x,x,x,x],wager,value)\n",
    "    valued_hands.append(hand + (evaluate_hand(hand[0]),))\n",
    "\n",
    "#sorted_hands = sorted(valued_hands, key = lambda index: index[2]) # sort by the hand value; this will create 7 \"piles\" of hands\n",
    "\n",
    "finalList = []\n",
    "for i in range(1,8):\n",
    "    tempList = []\n",
    "    for k in range(len(valued_hands)):\n",
    "        if valued_hands[k][2] == i: tempList.append(valued_hands[k])\n",
    "    finalList.extend(sorted(tempList,key = lambda index: index[0]))\n",
    "\n",
    "tally = 0\n",
    "for i in range(0,len(finalList)):\n",
    "    #print(f\"{i+1}, {finalList[i]}\")\n",
    "    tally += (i+1) * finalList[i][1]\n",
    "\n",
    "print(tally)\n"
   ]
  },
  {
   "cell_type": "markdown",
   "metadata": {},
   "source": [
    "250946742 is correct! On to part 2!\n",
    "\n",
    "In part 1, J = Jack = 11.\n",
    "\n",
    "In part 2, J = Joker = wild card -- it can be any card that would maximize the hand's value.\n",
    "\n",
    "In determining ties between cards, it is the lowest value card (lower than $2$).\n",
    "\n",
    "Solution:\n",
    "1. I can change the procedure to turn the letters into number and make J = 1\n",
    "1. Keep the same valuation, but \n",
    "    1. remove the 1s for the initial count & valuation\n",
    "    1. Count the number of 1s. For each 1, increase the rank by appropriately.\n"
   ]
  },
  {
   "cell_type": "code",
   "execution_count": 277,
   "metadata": {},
   "outputs": [
    {
     "name": "stdout",
     "output_type": "stream",
     "text": [
      "251,824,095, 251824095\n"
     ]
    }
   ],
   "source": [
    "def numeric_ranks(cards): # input string of five characters; return list of 5 integers representing the cards\n",
    "    face_numbers = {'A': 14, 'J': 1, 'Q': 12, 'K': 13, 'T':10}\n",
    "    intCards = []\n",
    "    for card in cards: # look at each card and assign numberic value\n",
    "        if card.isdigit():\n",
    "            intCards.append(int(card))\n",
    "        else:\n",
    "            intCards.append(face_numbers[card])\n",
    "    return intCards\n",
    "\n",
    "def evaluate_hand(card_list):\n",
    "    ones = card_list.count(1) # how many 1s are in hand? (0 to 5)\n",
    "    high_card_dict = {0:1,1:2,2:4,3:6,4:7,5:7}\n",
    "    three_kind_dict = {0:4,1:6,2:7}\n",
    "    pair_dict = {0:2,1:4,2:6,3:7}\n",
    "\n",
    "    card_set = set(card_list) # create my set of card values, but get rid of 1s (Jokers)\n",
    "    card_set.discard(1)\n",
    "\n",
    "    total = [card_list.count(x) for x in card_set]\n",
    "    #print(total)\n",
    "    if 5 in total: return 7 # five of a kind\n",
    "    elif (3 in total) and (2 in total): return 5 # 5 cards accounted for, no Js\n",
    "    elif 4 in total: return 6 + ones # four of a kind = 6, five of a kind = 7\n",
    "    elif 3 in total: return three_kind_dict[ones] # 3 of a kind = 4; 4 of a kind = 6; 5 of a kind = 7\n",
    "    elif len([i for i in total if i == 2]) == 2: return 3 + ones*2 # two pair = 2; full house = 5\n",
    "    elif 2 in total: return pair_dict[ones] # pair = 2; 3kind = +2; 3kind +4; 5 kind+5\n",
    "    else: return high_card_dict[ones] # high = 1; pair = 2; 3kind = 4; 4kind = 6; 5kind = 7  \n",
    "\n",
    "with open ('2307input.txt') as f_in:\n",
    "    data = [tuple(x.split()) for x in f_in.read().split('\\n')]\n",
    "#data = [tuple(x.split()) for x in testData.split('\\n')]\n",
    "\n",
    "hands = [(numeric_ranks(x[0]),int(x[1])) for x in data] # convert the hands into tuples of numbered hands + wager ([3,2,10,3,13], 765)\n",
    "\n",
    "valued_hands = []\n",
    "for hand in hands: # evaluate the hands and create new list of tuples with the value as third element ([x,x,x,x,x],wager,value)\n",
    "    valued_hands.append(hand + (evaluate_hand(hand[0]),))\n",
    "\n",
    "finalList = []\n",
    "for i in range(1,8):\n",
    "    tempList = []\n",
    "    for k in range(len(valued_hands)):\n",
    "        if valued_hands[k][2] == i: tempList.append(valued_hands[k])\n",
    "    finalList.extend(sorted(tempList,key = lambda index: index[0]))\n",
    "\n",
    "tally = 0\n",
    "for i in range(0,len(finalList)):\n",
    "    #print(f\"{i+1}, {finalList[i]}\")\n",
    "    tally += (i+1) * finalList[i][1]\n",
    "\n",
    "print(f\"{tally:,}, {tally}\")\n"
   ]
  },
  {
   "cell_type": "markdown",
   "metadata": {},
   "source": [
    "Test data works (5909). Try with production data.\n",
    "\n",
    "First run  245134884 is too low.\n",
    "Second run 245100059 is lower than the first one!\n",
    "\n",
    "Third run: added dictionaries for different hand values.\n",
    "251824095 is the correct answer!"
   ]
  }
 ],
 "metadata": {
  "kernelspec": {
   "display_name": "default",
   "language": "python",
   "name": "python3"
  },
  "language_info": {
   "codemirror_mode": {
    "name": "ipython",
    "version": 3
   },
   "file_extension": ".py",
   "mimetype": "text/x-python",
   "name": "python",
   "nbconvert_exporter": "python",
   "pygments_lexer": "ipython3",
   "version": "3.10.13"
  }
 },
 "nbformat": 4,
 "nbformat_minor": 2
}
