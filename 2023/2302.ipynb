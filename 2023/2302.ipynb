{
 "cells": [
  {
   "cell_type": "markdown",
   "metadata": {},
   "source": [
    "AOC [23.02](https://adventofcode.com/2023/day/2)\n",
    "\n",
    "Elf plays a game with you. Pulls cubes from bag. Each game has XXX samples from bag.\n",
    "\n",
    "Game XX: sample1; sample2; . . . sampleN\n",
    "samples separated by semicolon\n",
    "\n",
    "Which games possible with a bag of 12 red, 13 green, 14 blue?\n",
    "\n",
    "To solve: look at each game XX and see if it has fewer than the number of possible cubes\n",
    "\n",
    "1. read line\n",
    "1. split at colon (get game N)\n",
    "1. split game data at semicolons (get sample)\n",
    "1. split samples at comma - get color data & cube N data\n"
   ]
  },
  {
   "cell_type": "code",
   "execution_count": 1,
   "metadata": {},
   "outputs": [
    {
     "name": "stdout",
     "output_type": "stream",
     "text": [
      "Game 1  3 blue, 4 red; 1 red, 2 green, 6 blue; 2 green\n"
     ]
    }
   ],
   "source": [
    "line = 'Game 1: 3 blue, 4 red; 1 red, 2 green, 6 blue; 2 green'\n",
    "head,_,tail = line.partition(':')\n",
    "print(head,tail)\n"
   ]
  },
  {
   "cell_type": "code",
   "execution_count": 2,
   "metadata": {},
   "outputs": [
    {
     "name": "stdout",
     "output_type": "stream",
     "text": [
      "1\n"
     ]
    }
   ],
   "source": [
    "import re\n",
    "findNumbers  = re.compile(r'\\d')\n",
    "findColors = re.compile(r'(red)|(green)|(blue)')\n",
    "\n",
    "\n",
    "gameNum = re.findall(findNumbers,head)[0]\n",
    "print(gameNum)"
   ]
  },
  {
   "cell_type": "code",
   "execution_count": 3,
   "metadata": {},
   "outputs": [
    {
     "name": "stdout",
     "output_type": "stream",
     "text": [
      "[' 3 blue, 4 red', ' 1 red, 2 green, 6 blue', ' 2 green']\n"
     ]
    }
   ],
   "source": [
    "samples = tail.split(';')\n",
    "print(samples)"
   ]
  },
  {
   "cell_type": "code",
   "execution_count": 4,
   "metadata": {},
   "outputs": [
    {
     "name": "stdout",
     "output_type": "stream",
     "text": [
      "[' 3 blue', ' 4 red']\n",
      "[' 1 red', ' 2 green', ' 6 blue']\n",
      "[' 2 green']\n"
     ]
    }
   ],
   "source": [
    "for sample in samples:\n",
    "    sampData = sample.split(',')\n",
    "    print(sampData)"
   ]
  },
  {
   "cell_type": "code",
   "execution_count": 5,
   "metadata": {},
   "outputs": [
    {
     "data": {
      "text/plain": [
       "'green'"
      ]
     },
     "execution_count": 5,
     "metadata": {},
     "output_type": "execute_result"
    }
   ],
   "source": [
    "re.search(findColors,'2 green')[0]"
   ]
  },
  {
   "cell_type": "code",
   "execution_count": 8,
   "metadata": {},
   "outputs": [
    {
     "name": "stdout",
     "output_type": "stream",
     "text": [
      "[' 3 blue', ' 4 red'] True\n",
      "[' 1 red', ' 2 green', ' 6 blue'] True\n",
      "[' 2 green'] True\n"
     ]
    }
   ],
   "source": [
    "maxVals = {'red':12,'green':13,'blue':14}\n",
    "\n",
    "for sample in samples:\n",
    "    drawGroup = sample.split(',')\n",
    "    for draw in drawGroup:\n",
    "        nCubes = int(re.search(findNumbers,draw)[0])\n",
    "        color = re.search(findColors,draw)[0]\n",
    "        if nCubes < maxVals[color]:\n",
    "            impossible = True\n",
    "        else:\n",
    "            impossible = False\n",
    "    print(drawGroup,impossible)\n",
    "\n"
   ]
  },
  {
   "cell_type": "markdown",
   "metadata": {},
   "source": [
    "OK, I've got each of the bits sorted. Let's put it together. . . \n",
    "\n",
    "I will createa a function for the test sample: as soon as one of the values > maxValues, it will return false -- that way we can stop testing as soon as the sample is unviable."
   ]
  },
  {
   "cell_type": "code",
   "execution_count": 10,
   "metadata": {},
   "outputs": [
    {
     "name": "stdout",
     "output_type": "stream",
     "text": [
      "8\n"
     ]
    }
   ],
   "source": [
    "testData='''Game 1: 3 blue, 4 red; 1 red, 2 green, 6 blue; 2 green\n",
    "Game 2: 1 blue, 2 green; 3 green, 4 blue, 1 red; 1 green, 1 blue\n",
    "Game 3: 8 green, 6 blue, 20 red; 5 blue, 4 red, 13 green; 5 green, 1 red\n",
    "Game 4: 1 green, 3 red, 6 blue; 3 green, 6 red; 3 green, 15 blue, 14 red\n",
    "Game 5: 6 red, 1 blue, 3 green; 2 blue, 1 red, 2 green'''\n",
    "import re\n",
    "findNumbers  = re.compile(r'\\d+')\n",
    "findColors = re.compile(r'(red)|(green)|(blue)')\n",
    "\n",
    "def testSample(samples):\n",
    "    for sample in samples.split(';'):\n",
    "        drawGroup = sample.split(',')\n",
    "        for draw in drawGroup:\n",
    "            nCubes = int(re.search(findNumbers,draw)[0])\n",
    "            color = re.search(findColors,draw)[0]\n",
    "            if nCubes > maxVals[color]:\n",
    "                return False\n",
    "    return True\n",
    "\n",
    "maxVals = {'red':12,'green':13,'blue':14}\n",
    "tally = 0\n",
    "\n",
    "for line in testData.split('\\n'):\n",
    "    head,_,tail = line.partition(':')\n",
    "    gameNum = re.search(findNumbers,head)[0]\n",
    "    samples = tail.split(';')\n",
    "    if testSample(tail):\n",
    "        tally += int(gameNum)\n",
    "\n",
    "print(tally)      \n",
    "    \n",
    "    \n",
    "\n"
   ]
  },
  {
   "cell_type": "markdown",
   "metadata": {},
   "source": [
    "test works, run it on the data"
   ]
  },
  {
   "cell_type": "code",
   "execution_count": 11,
   "metadata": {},
   "outputs": [
    {
     "name": "stdout",
     "output_type": "stream",
     "text": [
      "2593\n"
     ]
    }
   ],
   "source": [
    "with open ('2302input.txt') as f_in:\n",
    "    data = f_in.read().split('\\n')\n",
    "\n",
    "import re\n",
    "findNumbers  = re.compile(r'\\d+')\n",
    "findColors = re.compile(r'(red)|(green)|(blue)')\n",
    "\n",
    "maxVals = {'red':12,'green':13,'blue':14}\n",
    "\n",
    "def testSample(samples):\n",
    "    for sample in samples.split(';'):\n",
    "        drawGroup = sample.split(',')\n",
    "        for draw in drawGroup:\n",
    "            nCubes = int(re.search(findNumbers,draw)[0])\n",
    "            color = re.search(findColors,draw)[0]\n",
    "            if nCubes > maxVals[color]:\n",
    "                return False\n",
    "    return True\n",
    "\n",
    "tally = 0\n",
    "\n",
    "for line in data:\n",
    "    head,_,tail = line.partition(':')\n",
    "    gameNum = re.search(findNumbers,head)[0]\n",
    "    samples = tail.split(';')\n",
    "    if testSample(tail):\n",
    "        tally += int(gameNum)\n",
    "\n",
    "print(tally)      \n",
    "    \n",
    "    \n",
    "\n"
   ]
  },
  {
   "cell_type": "markdown",
   "metadata": {},
   "source": [
    "2593 is correct.\n",
    "\n",
    "Part II:\n",
    "Now we need to find the max value for each color for each game:\n",
    "* Game 1: 3 blue, 4 red; 1 red, 2 green, 6 blue; 2 green\n",
    "* In game 1, the game could have been played with as few as 4 red, 2 green, and 6 blue cubes.\n",
    "\n",
    "Find the product of the max values for each game and tally them.\n",
    "\n",
    "I can reuse most of the code. But the test function will create a dictionary and update it with the max values for each sample. After looking at all the samples, it will return the product.\n",
    "\n"
   ]
  },
  {
   "cell_type": "code",
   "execution_count": 74,
   "metadata": {},
   "outputs": [
    {
     "name": "stdout",
     "output_type": "stream",
     "text": [
      " 3 blue, 4 red; 1 red, 2 green, 6 blue; 2 green 48\n",
      " 1 blue, 2 green; 3 green, 4 blue, 1 red; 1 green, 1 blue 12\n",
      " 8 green, 6 blue, 20 red; 5 blue, 4 red, 13 green; 5 green, 1 red 1560\n",
      " 1 green, 3 red, 6 blue; 3 green, 6 red; 3 green, 15 blue, 14 red 630\n",
      " 6 red, 1 blue, 3 green; 2 blue, 1 red, 2 green 36\n",
      "2286\n"
     ]
    }
   ],
   "source": [
    "testData='''Game 1: 3 blue, 4 red; 1 red, 2 green, 6 blue; 2 green\n",
    "Game 2: 1 blue, 2 green; 3 green, 4 blue, 1 red; 1 green, 1 blue\n",
    "Game 3: 8 green, 6 blue, 20 red; 5 blue, 4 red, 13 green; 5 green, 1 red\n",
    "Game 4: 1 green, 3 red, 6 blue; 3 green, 6 red; 3 green, 15 blue, 14 red\n",
    "Game 5: 6 red, 1 blue, 3 green; 2 blue, 1 red, 2 green'''\n",
    "import re\n",
    "findNumbers  = re.compile(r'\\d+')\n",
    "findColors = re.compile(r'(red)|(green)|(blue)')\n",
    "\n",
    "def testSample(samples):\n",
    "    maxVals = {'red':1,'green':1,'blue':1} # setting to 1 because if 0, it would make product 0\n",
    "    for sample in samples.split(';'):\n",
    "        drawGroup = sample.split(',')\n",
    "        for draw in drawGroup:\n",
    "            nCubes = int(re.search(findNumbers,draw)[0])\n",
    "            color = re.search(findColors,draw)[0]\n",
    "            if nCubes > maxVals[color]:\n",
    "                maxVals[color] = nCubes\n",
    "    \n",
    "    return maxVals['red'] * maxVals['blue'] * maxVals['green']\n",
    "\n",
    "tally = 0\n",
    "\n",
    "for line in testData.split('\\n'):\n",
    "    head,_,tail = line.partition(':')\n",
    "    gameNum = re.search(findNumbers,head)[0]\n",
    "    samples = tail.split(';')\n",
    "    tally += testSample(tail)\n",
    "    print(tail,testSample(tail))\n",
    "\n",
    "print(tally)"
   ]
  },
  {
   "cell_type": "markdown",
   "metadata": {},
   "source": [
    "Ok, test data works. (that was easy)\n",
    "On to the actual data..."
   ]
  },
  {
   "cell_type": "code",
   "execution_count": 76,
   "metadata": {},
   "outputs": [
    {
     "name": "stdout",
     "output_type": "stream",
     "text": [
      "54699\n"
     ]
    }
   ],
   "source": [
    "with open ('2302input.txt') as f_in:\n",
    "    data = f_in.read().split('\\n')\n",
    "\n",
    "import re\n",
    "findNumbers  = re.compile(r'\\d+')\n",
    "findColors = re.compile(r'(red)|(green)|(blue)')\n",
    "\n",
    "def testSample(samples):\n",
    "    maxVals = {'red':1,'green':1,'blue':1} # setting to 1 because if 0, it would make product 0\n",
    "    for sample in samples.split(';'):\n",
    "        drawGroup = sample.split(',')\n",
    "        for draw in drawGroup:\n",
    "            nCubes = int(re.search(findNumbers,draw)[0])\n",
    "            color = re.search(findColors,draw)[0]\n",
    "            if nCubes > maxVals[color]:\n",
    "                maxVals[color] = nCubes\n",
    "    \n",
    "    return maxVals['red'] * maxVals['blue'] * maxVals['green']\n",
    "\n",
    "tally = 0\n",
    "\n",
    "for line in data:\n",
    "    head,_,tail = line.partition(':')\n",
    "    gameNum = re.search(findNumbers,head)[0]\n",
    "    samples = tail.split(';')\n",
    "    tally += testSample(tail)\n",
    "\n",
    "print(tally)"
   ]
  },
  {
   "cell_type": "markdown",
   "metadata": {},
   "source": [
    "54699 is correct for my set of data."
   ]
  }
 ],
 "metadata": {
  "kernelspec": {
   "display_name": "default",
   "language": "python",
   "name": "python3"
  },
  "language_info": {
   "codemirror_mode": {
    "name": "ipython",
    "version": 3
   },
   "file_extension": ".py",
   "mimetype": "text/x-python",
   "name": "python",
   "nbconvert_exporter": "python",
   "pygments_lexer": "ipython3",
   "version": "3.12.2"
  }
 },
 "nbformat": 4,
 "nbformat_minor": 2
}
