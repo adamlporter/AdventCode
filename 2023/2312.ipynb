{
 "cells": [
  {
   "cell_type": "code",
   "execution_count": null,
   "metadata": {},
   "outputs": [],
   "source": []
  },
  {
   "cell_type": "markdown",
   "metadata": {},
   "source": [
    "AOC [23.12](https://adventofcode.com/2023/day/12) Hot Springs\n",
    "\n",
    "Map of hot springs. Operational = `.` damaged = `#` unknown = `?`\n"
   ]
  }
 ],
 "metadata": {
  "language_info": {
   "name": "python"
  }
 },
 "nbformat": 4,
 "nbformat_minor": 2
}
