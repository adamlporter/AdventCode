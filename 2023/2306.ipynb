{
 "cells": [
  {
   "cell_type": "markdown",
   "metadata": {},
   "source": [
    "AOC [23.06](https://adventofcode.com/2023/day/6) Wait For It\n",
    "\n",
    "Boat race -- need to go furhter than each race than current record.\n",
    "Charge boat by pushing on button; every ms button is pushed, boat's speed increases by 1 mm/ms. So pushing the button --\n",
    "* 1 ms --> speed of 1 mm/ms\n",
    "* 2 ms --> 2mm/ms\n",
    "* 3 ms --> 3mm/ms\n",
    "\n",
    "Time pushing button counts towards race time. So goal is to maximize total distance:\n",
    "\n",
    "$d = (TotalTime - tPush) * tPush$\n",
    "\n",
    "$d = TotalTime * tPush - tPush^2$\n",
    "\n",
    "For each race, there are multiple push times that can win. For each, figure out the number of possible winning numbers.\n",
    "\n",
    "The product of the winning numbers is the answer.\n",
    "\n",
    "Solution:\n",
    "1. read the input. I think I can do the .partition function and .split() to generate a list of numbers.\n",
    "1. Zip the two lists together to get the time/distance for each race.\n",
    "1. For each race, run the equation above and find the number of possible wins."
   ]
  },
  {
   "cell_type": "code",
   "execution_count": 1,
   "metadata": {},
   "outputs": [],
   "source": [
    "testData = '''Time:      7  15   30\n",
    "Distance:  9  40  200'''"
   ]
  },
  {
   "cell_type": "code",
   "execution_count": 8,
   "metadata": {},
   "outputs": [
    {
     "data": {
      "text/plain": [
       "[(7, 9), (15, 40), (30, 200)]"
      ]
     },
     "execution_count": 8,
     "metadata": {},
     "output_type": "execute_result"
    }
   ],
   "source": [
    "data = [x for x in testData.split('\\n')]\n",
    "head,_,tail = data[0].partition(':')\n",
    "times = [int(x) for x in tail.split()]\n",
    "head,_,tail = data[1].partition(':')\n",
    "dists = [int(x) for x in tail.split()]\n",
    "\n",
    "raceData = list(zip(times,dists))\n",
    "raceData\n",
    "    "
   ]
  },
  {
   "cell_type": "code",
   "execution_count": 10,
   "metadata": {},
   "outputs": [
    {
     "name": "stdout",
     "output_type": "stream",
     "text": [
      "(7, 9) 4\n",
      "(15, 40) 8\n",
      "(30, 200) 9\n",
      "288\n"
     ]
    }
   ],
   "source": [
    "product = 1\n",
    "for race in raceData:\n",
    "    nWins = 0\n",
    "    tTot = race[0] # time\n",
    "    goal = race[1] # dist\n",
    "    for tPush in range(tTot):\n",
    "        if tTot * tPush - tPush**2 > goal:\n",
    "            nWins += 1\n",
    "    print(race,nWins)\n",
    "    product *= nWins\n",
    "print(product)"
   ]
  },
  {
   "cell_type": "markdown",
   "metadata": {},
   "source": [
    "test data works. Let's look at the real data."
   ]
  },
  {
   "cell_type": "code",
   "execution_count": 11,
   "metadata": {},
   "outputs": [
    {
     "name": "stdout",
     "output_type": "stream",
     "text": [
      "(60, 475) 41\n",
      "(94, 2138) 17\n",
      "(78, 1015) 45\n",
      "(82, 1650) 11\n",
      "345015\n"
     ]
    }
   ],
   "source": [
    "input ='''Time:        60     94     78     82\n",
    "Distance:   475   2138   1015   1650'''\n",
    "\n",
    "data = [x for x in input.split('\\n')]\n",
    "head,_,tail = data[0].partition(':')\n",
    "times = [int(x) for x in tail.split()]\n",
    "head,_,tail = data[1].partition(':')\n",
    "dists = [int(x) for x in tail.split()]\n",
    "\n",
    "raceData = list(zip(times,dists))\n",
    "\n",
    "product = 1\n",
    "for race in raceData:\n",
    "    nWins = 0\n",
    "    tTot = race[0] # time\n",
    "    goal = race[1] # dist\n",
    "    for tPush in range(tTot):\n",
    "        if tTot * tPush - tPush**2 > goal:\n",
    "            nWins += 1\n",
    "    print(race,nWins)\n",
    "    product *= nWins\n",
    "print(product)                \n",
    "            \n"
   ]
  },
  {
   "cell_type": "markdown",
   "metadata": {},
   "source": [
    "Correct.\n",
    "Part 2:\n",
    "\n",
    "Eliminate spaces in the input!"
   ]
  },
  {
   "cell_type": "code",
   "execution_count": 13,
   "metadata": {},
   "outputs": [
    {
     "name": "stdout",
     "output_type": "stream",
     "text": [
      "(71530, 940200) 71503\n",
      "71503\n"
     ]
    }
   ],
   "source": [
    "raceData = [(71530,940200)]\n",
    "product = 1\n",
    "for race in raceData:\n",
    "    nWins = 0\n",
    "    tTot = race[0] # time\n",
    "    goal = race[1] # dist\n",
    "    for tPush in range(tTot):\n",
    "        if tTot * tPush - tPush**2 > goal:\n",
    "            nWins += 1\n",
    "    print(race,nWins)\n",
    "    product *= nWins\n",
    "print(product)"
   ]
  },
  {
   "cell_type": "code",
   "execution_count": 14,
   "metadata": {},
   "outputs": [
    {
     "name": "stdout",
     "output_type": "stream",
     "text": [
      "42588603\n"
     ]
    }
   ],
   "source": [
    "raceData = [(60947882,475213810151650)]\n",
    "product = 1\n",
    "for race in raceData:\n",
    "    nWins = 0\n",
    "    tTot = race[0] # time\n",
    "    goal = race[1] # dist\n",
    "    for tPush in range(tTot):\n",
    "        if tTot * tPush - tPush**2 > goal:\n",
    "            nWins += 1\n",
    "    #print(race,nWins)\n",
    "    product *= nWins\n",
    "print(product)"
   ]
  }
 ],
 "metadata": {
  "kernelspec": {
   "display_name": "default",
   "language": "python",
   "name": "python3"
  },
  "language_info": {
   "codemirror_mode": {
    "name": "ipython",
    "version": 3
   },
   "file_extension": ".py",
   "mimetype": "text/x-python",
   "name": "python",
   "nbconvert_exporter": "python",
   "pygments_lexer": "ipython3",
   "version": "3.10.13"
  }
 },
 "nbformat": 4,
 "nbformat_minor": 2
}
