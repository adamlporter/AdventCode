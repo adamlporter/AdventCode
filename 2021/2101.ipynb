{
 "cells": [
  {
   "cell_type": "code",
   "execution_count": 3,
   "metadata": {},
   "outputs": [
    {
     "name": "stdout",
     "output_type": "stream",
     "text": [
      "1692\n"
     ]
    }
   ],
   "source": [
    "#f=open('Day01Input.txt','r')\n",
    "#lines = f.readlines()\n",
    "\n",
    "with open ('Day01Input.txt') as f_in:\n",
    "    data = f_in.read().split('\\n')\n",
    "\n",
    "depths = []\n",
    "for line in data:\n",
    "    depths.append(int(line))\n",
    "\n",
    "increases = 0\n",
    "for i in range (0,len(depths)-1):\n",
    "    d1 = depths[i]\n",
    "    d2 = depths[i+1]\n",
    "    if d2 > d1:\n",
    "        increases += 1\n",
    "\n",
    "print(increases)"
   ]
  },
  {
   "cell_type": "code",
   "execution_count": 5,
   "metadata": {},
   "outputs": [
    {
     "name": "stdout",
     "output_type": "stream",
     "text": [
      "1724\n"
     ]
    }
   ],
   "source": [
    "\n",
    "increases = 0\n",
    "for i in range (0,len(depths)-3):\n",
    "    d1 = depths[i]\n",
    "    #d2 = depths[i+1]\n",
    "    #d3 = depths[i+2]\n",
    "    d4 = depths[i+3]\n",
    "    \n",
    "    if d1 < d4:\n",
    "        increases += 1\n",
    "\n",
    "print(increases)"
   ]
  }
 ],
 "metadata": {
  "kernelspec": {
   "display_name": "default",
   "language": "python",
   "name": "python3"
  },
  "language_info": {
   "codemirror_mode": {
    "name": "ipython",
    "version": 3
   },
   "file_extension": ".py",
   "mimetype": "text/x-python",
   "name": "python",
   "nbconvert_exporter": "python",
   "pygments_lexer": "ipython3",
   "version": "3.10.13"
  }
 },
 "nbformat": 4,
 "nbformat_minor": 2
}
