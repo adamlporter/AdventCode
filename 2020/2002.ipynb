{
 "cells": [
  {
   "cell_type": "markdown",
   "metadata": {},
   "source": [
    "AOC [20.02](https://adventofcode.com/2020/day/2)\n",
    "\n",
    "Puzzle 1: corrupted password database\n",
    "\n",
    "Given list of inputs:\n",
    "pt1: policy (min-max number of character)\n",
    "pt2: password\n",
    "\n",
    "For each line, is the password meet the criteria of the policy?\n",
    "\n",
    "How many PWs meet the criteria?\n",
    "\n",
    "Solution:\n",
    "1. Read each line and split on \":\" char\n",
    "1. Read the head and look for min/max/char\n",
    "1. read the pw and count the number of instances of the char: is it between min and max?"
   ]
  },
  {
   "cell_type": "code",
   "execution_count": 10,
   "metadata": {},
   "outputs": [
    {
     "name": "stdout",
     "output_type": "stream",
     "text": [
      "1 3 a\n",
      "PW invalid\n"
     ]
    }
   ],
   "source": [
    "line = '1-3 a: abaaade'\n",
    "\n",
    "head,_,tail = line.partition(':')\n",
    "head,_,testChar = head.partition(' ')\n",
    "minVal,_,maxVal = head.partition('-')\n",
    "\n",
    "print(minVal,maxVal,testChar)\n",
    "countChar = int(tail.count(testChar))\n",
    "if (int(minVal) < countChar < int(maxVal)):\n",
    "    print('PW valid')\n",
    "else:\n",
    "    print('PW invalid')\n"
   ]
  },
  {
   "cell_type": "code",
   "execution_count": 13,
   "metadata": {},
   "outputs": [
    {
     "name": "stdout",
     "output_type": "stream",
     "text": [
      "1 3 a 1\n",
      "1 3 b 0\n",
      "2 9 c 9\n",
      "2 valid PWs found\n"
     ]
    }
   ],
   "source": [
    "testData = '''1-3 a: abcde\n",
    "1-3 b: cdefg\n",
    "2-9 c: ccccccccc'''\n",
    "\n",
    "validPWs = 0\n",
    "\n",
    "for line in testData.split('\\n'):\n",
    "    head,_,tail = line.partition(':')\n",
    "    head,_,testChar = head.partition(' ')\n",
    "    minVal,_,maxVal = head.partition('-')\n",
    "    countChar = int(tail.count(testChar))\n",
    "    \n",
    "    print(minVal,maxVal,testChar,countChar)\n",
    "    if (int(minVal) <= countChar <= int(maxVal)):\n",
    "        validPWs += 1\n",
    "\n",
    "print(f\"{validPWs} valid PWs found\")"
   ]
  },
  {
   "cell_type": "code",
   "execution_count": 14,
   "metadata": {},
   "outputs": [
    {
     "name": "stdout",
     "output_type": "stream",
     "text": [
      "569 valid PWs found\n"
     ]
    }
   ],
   "source": [
    "with open ('2002input.txt') as f_in:\n",
    "    data = [line for line in f_in.read().split('\\n')]\n",
    "\n",
    "validPWs = 0\n",
    "\n",
    "for line in data:\n",
    "    head,_,tail = line.partition(':')\n",
    "    head,_,testChar = head.partition(' ')\n",
    "    minVal,_,maxVal = head.partition('-')\n",
    "\n",
    "    countChar = int(tail.count(testChar))\n",
    "    if (int(minVal) <= countChar <= int(maxVal)):\n",
    "        validPWs += 1\n",
    "\n",
    "print(f\"{validPWs} valid PWs found\")\n"
   ]
  },
  {
   "cell_type": "markdown",
   "metadata": {},
   "source": [
    "569 is correct.\n",
    "\n",
    "Puzzle 2:\n",
    "The two digits don't indicate min/max values, but index positions (indexing beg at 1 not zero!). PW is valid if the testChar appears in the string at either of the positions (but not both).\n",
    "\n",
    "Solution:\n",
    "1. keep all the code, but change the test!"
   ]
  },
  {
   "cell_type": "code",
   "execution_count": 20,
   "metadata": {},
   "outputs": [
    {
     "name": "stdout",
     "output_type": "stream",
     "text": [
      "abcde a c a\n",
      "cdefg c e b\n",
      "ccccccccc c c c\n",
      "2 valid PWs found\n"
     ]
    }
   ],
   "source": [
    "testData = '''1-3 a: abcde\n",
    "1-3 b: cdefg\n",
    "2-9 c: ccccccccc'''\n",
    "\n",
    "validPWs = 0\n",
    "\n",
    "for line in testData.split('\\n'):\n",
    "    head,_,tail = line.partition(':')\n",
    "    head,_,testChar = head.partition(' ')\n",
    "    minVal,_,maxVal = head.partition('-')\n",
    "    tail = tail.strip()\n",
    "    \n",
    "    print(tail.strip(),tail[int(minVal)-1],tail[int(maxVal)-1],testChar)\n",
    "\n",
    "    if (tail[int(minVal)-1] == testChar) or (tail[int(maxVal)-1] == testChar):\n",
    "        validPWs += 1\n",
    "\n",
    "print(f\"{validPWs} valid PWs found\")"
   ]
  },
  {
   "cell_type": "code",
   "execution_count": 21,
   "metadata": {},
   "outputs": [
    {
     "name": "stdout",
     "output_type": "stream",
     "text": [
      "671 valid PWs found\n"
     ]
    }
   ],
   "source": [
    "with open ('2002input.txt') as f_in:\n",
    "    data = [line for line in f_in.read().split('\\n')]\n",
    "\n",
    "validPWs = 0\n",
    "\n",
    "for line in data:\n",
    "    head,_,tail = line.partition(':')\n",
    "    head,_,testChar = head.partition(' ')\n",
    "    minVal,_,maxVal = head.partition('-')\n",
    "    tail = tail.strip()\n",
    "    \n",
    "    #print(tail.strip(),tail[int(minVal)-1],tail[int(maxVal)-1],testChar)\n",
    "\n",
    "    if (tail[int(minVal)-1] == testChar) or (tail[int(maxVal)-1] == testChar):\n",
    "        validPWs += 1\n",
    "\n",
    "print(f\"{validPWs} valid PWs found\")"
   ]
  },
  {
   "cell_type": "markdown",
   "metadata": {},
   "source": [
    "Too many. This is because the OR is finding some PWs where BOTH indexes have the test character. "
   ]
  },
  {
   "cell_type": "code",
   "execution_count": 22,
   "metadata": {},
   "outputs": [
    {
     "name": "stdout",
     "output_type": "stream",
     "text": [
      "346 valid PWs found\n"
     ]
    }
   ],
   "source": [
    "with open ('2002input.txt') as f_in:\n",
    "    data = [line for line in f_in.read().split('\\n')]\n",
    "\n",
    "validPWs = 0\n",
    "\n",
    "for line in data:\n",
    "    head,_,tail = line.partition(':')\n",
    "    head,_,testChar = head.partition(' ')\n",
    "    minVal,_,maxVal = head.partition('-')\n",
    "    tail = tail.strip()\n",
    "    \n",
    "    testString = tail[int(minVal)-1] + tail[int(maxVal)-1] # pull out the two index characters\n",
    "    if int(testString.count(testChar)) == 1: # count how many match the test character\n",
    "        validPWs += 1\n",
    "\n",
    "print(f\"{validPWs} valid PWs found\")"
   ]
  },
  {
   "cell_type": "markdown",
   "metadata": {},
   "source": [
    "That's correct."
   ]
  }
 ],
 "metadata": {
  "kernelspec": {
   "display_name": "default",
   "language": "python",
   "name": "python3"
  },
  "language_info": {
   "codemirror_mode": {
    "name": "ipython",
    "version": 3
   },
   "file_extension": ".py",
   "mimetype": "text/x-python",
   "name": "python",
   "nbconvert_exporter": "python",
   "pygments_lexer": "ipython3",
   "version": "3.10.13"
  }
 },
 "nbformat": 4,
 "nbformat_minor": 2
}
