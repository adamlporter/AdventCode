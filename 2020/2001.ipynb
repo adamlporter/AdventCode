{
 "cells": [
  {
   "cell_type": "markdown",
   "metadata": {},
   "source": [
    "AOC [20.01](https://adventofcode.com/2020/day/1)\n",
    "\n",
    "Puzzle 1:\n",
    "Find two numbers in a list that sum to 2020.\n",
    "Their product is the answer to the question.\n",
    "\n",
    "Solution:\n",
    "1. I could use combinatics to find all the pairs of numbers and add them, but that seems overly complex.\n",
    "1. Easier: put all numbers in a list and go through it.\n",
    "1. For each number, look at all subsequent numbers and if they add to 2020, we've found the match.\n",
    "1. Or, easier, for each number, find the target (2020-num) and just check to see if target is in the list.\n",
    "\n"
   ]
  },
  {
   "cell_type": "code",
   "execution_count": 1,
   "metadata": {},
   "outputs": [
    {
     "name": "stdout",
     "output_type": "stream",
     "text": [
      "1721\n",
      "979\n",
      "366\n",
      "299\n",
      "675\n",
      "1456\n"
     ]
    }
   ],
   "source": [
    "data='''1721\n",
    "979\n",
    "366\n",
    "299\n",
    "675\n",
    "1456'''\n",
    "\n",
    "for line in data.split('\\n'):\n",
    "    print(line)"
   ]
  },
  {
   "cell_type": "code",
   "execution_count": 5,
   "metadata": {},
   "outputs": [
    {
     "name": "stdout",
     "output_type": "stream",
     "text": [
      "1721x299=514579\n"
     ]
    }
   ],
   "source": [
    "numlist = [int(num) for num in data.split('\\n')]\n",
    "for num in numlist:\n",
    "    target = 2020-num\n",
    "    if target in numlist:\n",
    "        print(f\"{num}x{target}={num*target}\")\n",
    "        break"
   ]
  },
  {
   "cell_type": "code",
   "execution_count": 10,
   "metadata": {},
   "outputs": [
    {
     "name": "stdout",
     "output_type": "stream",
     "text": [
      "447x1573=703131\n"
     ]
    }
   ],
   "source": [
    "# easy peasy -- let's get the data and test it!\n",
    "with open ('2001input.txt') as f_in:\n",
    "    #data = f_in.read().split('\\n')\n",
    "    numlist = [int(num) for num in f_in.readlines()]\n",
    "\n",
    "for num in numlist:\n",
    "    target = 2020-num\n",
    "    if target in numlist:\n",
    "        print(f\"{num}x{target}={num*target}\")\n",
    "        break"
   ]
  },
  {
   "cell_type": "markdown",
   "metadata": {},
   "source": [
    "703131 is correct for my data.\n",
    "\n",
    "Part 2: using the same data, find three numbers that add to 2020.\n",
    "\n",
    "Solution:\n",
    "1. This is trickier. I think I will use the combinatics library this time to find all the possible pairs of numbers. Then I can do the same thing I did above: find the sum of each pair and look for a target."
   ]
  },
  {
   "cell_type": "code",
   "execution_count": 14,
   "metadata": {},
   "outputs": [
    {
     "data": {
      "text/plain": [
       "[('1721', '979'),\n",
       " ('1721', '366'),\n",
       " ('1721', '299'),\n",
       " ('1721', '675'),\n",
       " ('1721', '1456'),\n",
       " ('979', '366'),\n",
       " ('979', '299'),\n",
       " ('979', '675'),\n",
       " ('979', '1456'),\n",
       " ('366', '299'),\n",
       " ('366', '675'),\n",
       " ('366', '1456'),\n",
       " ('299', '675'),\n",
       " ('299', '1456'),\n",
       " ('675', '1456')]"
      ]
     },
     "execution_count": 14,
     "metadata": {},
     "output_type": "execute_result"
    }
   ],
   "source": [
    "from itertools import combinations\n",
    "[numpair for numpair in combinations(data.split('\\n'),2)]\n"
   ]
  },
  {
   "cell_type": "code",
   "execution_count": 21,
   "metadata": {},
   "outputs": [
    {
     "name": "stdout",
     "output_type": "stream",
     "text": [
      "(979, 366) 675 241861950\n",
      "(979, 675) 366 241861950\n",
      "(366, 675) 979 241861950\n"
     ]
    }
   ],
   "source": [
    "numlist = [int(num) for num in data.split('\\n')]\n",
    "numpairs = [numpair for numpair in combinations(numlist,2)]\n",
    "\n",
    "for pair in numpairs:\n",
    "    target = 2020 - (pair[0] + pair[1])\n",
    "    #print(pair,target)\n",
    "    if target in numlist:\n",
    "        print(pair,target,pair[0]*pair[1]*target)"
   ]
  },
  {
   "cell_type": "code",
   "execution_count": 22,
   "metadata": {},
   "outputs": [
    {
     "name": "stdout",
     "output_type": "stream",
     "text": [
      "(930, 609) 481 272423970\n",
      "(930, 481) 609 272423970\n",
      "(609, 481) 930 272423970\n"
     ]
    }
   ],
   "source": [
    "# Ok, that works. Now to the big data list\n",
    "with open ('2001input.txt') as f_in:\n",
    "    #data = f_in.read().split('\\n')\n",
    "    numlist = [int(num) for num in f_in.readlines()]\n",
    "\n",
    "numpairs = [numpair for numpair in combinations(numlist,2)]\n",
    "\n",
    "for pair in numpairs:\n",
    "    target = 2020 - (pair[0] + pair[1])\n",
    "    #print(pair,target)\n",
    "    if target in numlist:\n",
    "        print(pair,target,pair[0]*pair[1]*target)\n",
    "\n"
   ]
  }
 ],
 "metadata": {
  "kernelspec": {
   "display_name": "default",
   "language": "python",
   "name": "python3"
  },
  "language_info": {
   "codemirror_mode": {
    "name": "ipython",
    "version": 3
   },
   "file_extension": ".py",
   "mimetype": "text/x-python",
   "name": "python",
   "nbconvert_exporter": "python",
   "pygments_lexer": "ipython3",
   "version": "3.10.13"
  }
 },
 "nbformat": 4,
 "nbformat_minor": 2
}
