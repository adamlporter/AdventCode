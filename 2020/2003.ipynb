{
 "cells": [
  {
   "cell_type": "markdown",
   "metadata": {},
   "source": [
    "AOC [20.03](https://adventofcode.com/2020/day/3)\n",
    "\n",
    "Puzzle 1:\n",
    "Given a diagram of trees (#) and open spaces (.), starting at 0,0 (x axis,line number), how many trees would be encountered on a straight line X+3,y+1?\n",
    "\n",
    "Solution:\n",
    "1. read in data\n",
    "1. iterate over slope of the line\n",
    "1. when reach the max X value, go back to the beg of the line\n",
    "1. continue until reach bottom line"
   ]
  },
  {
   "cell_type": "code",
   "execution_count": 3,
   "metadata": {},
   "outputs": [
    {
     "name": "stdout",
     "output_type": "stream",
     "text": [
      "number of trees encountered was 7\n"
     ]
    }
   ],
   "source": [
    "testData = '''..##.......\n",
    "#...#...#..\n",
    ".#....#..#.\n",
    "..#.#...#.#\n",
    ".#...##..#.\n",
    "..#.##.....\n",
    ".#.#.#....#\n",
    ".#........#\n",
    "#.##...#...\n",
    "#...##....#\n",
    ".#..#...#.#'''\n",
    "\n",
    "\n",
    "data = [line for line in testData.split('\\n')]\n",
    "xPos = 0\n",
    "lineNum = 0\n",
    "if data[0][0] == '#':\n",
    "    nTrees = 1\n",
    "else:\n",
    "    nTrees = 0\n",
    "\n",
    "for line in data[1:]:   # start with line 1 and iterate to end of the list\n",
    "    xPos += 3           # increment Xpos by slope\n",
    "    if xPos >= len(line): # check to see if beyond bound and if so, subtract lenght of line\n",
    "        xPos -= len(line)\n",
    "    if line[xPos] == \"#\" : nTrees += 1\n",
    "\n",
    "print(f\"number of trees encountered was {nTrees}\")"
   ]
  },
  {
   "cell_type": "code",
   "execution_count": 4,
   "metadata": {},
   "outputs": [
    {
     "name": "stdout",
     "output_type": "stream",
     "text": [
      "number of trees encountered was 153\n"
     ]
    }
   ],
   "source": [
    "with open ('2003input.txt') as f_in:\n",
    "    data = [line for line in f_in.read().split('\\n')]\n",
    "\n",
    "xPos = 0\n",
    "lineNum = 0\n",
    "if data[0][0] == '#':\n",
    "    nTrees = 1\n",
    "else:\n",
    "    nTrees = 0\n",
    "\n",
    "for line in data[1:]:   # start with line 1 and iterate to end of the list\n",
    "    xPos += 3           # increment Xpos by slope\n",
    "    if xPos >= len(line): # check to see if beyond bound and if so, subtract lenght of line\n",
    "        xPos -= len(line)\n",
    "    if line[xPos] == \"#\" : nTrees += 1\n",
    "\n",
    "print(f\"number of trees encountered was {nTrees}\")\n"
   ]
  },
  {
   "cell_type": "markdown",
   "metadata": {},
   "source": [
    "This is correct!\n",
    "\n",
    "Part 2:\n",
    "They give us a variety of different slopes for right,down (1,1),(3,1),(5,1),(7,1),(1,2)\n",
    "Find the number of trees on each slope and multiply them together.\n",
    "\n",
    "Solution:\n",
    "1. Move the test into a procedure that reports N trees.\n",
    "1. Rewrite it so it doesn't cycle thru the lines but jumps through the data by x,y coordinates."
   ]
  },
  {
   "cell_type": "code",
   "execution_count": 31,
   "metadata": {},
   "outputs": [
    {
     "name": "stdout",
     "output_type": "stream",
     "text": [
      "(1, 1) 2\n",
      "(3, 1) 7\n",
      "(5, 1) 3\n",
      "(7, 1) 4\n",
      "(1, 2) 2\n",
      "-----------\n",
      "(1, 1) 2\n",
      "(3, 1) 7\n",
      "(5, 1) 3\n",
      "(7, 1) 4\n",
      "(1, 2) 2\n"
     ]
    }
   ],
   "source": [
    "def countTrees(slope,data):\n",
    "    xPos = 0\n",
    "    nTrees = 0\n",
    "    for line in data[1:]:\n",
    "        xPos += slope[0]\n",
    "        if xPos >= len(line): # check to see if beyond bound and if so, subtract lenght of line\n",
    "            xPos -= len(line)\n",
    "        if line[xPos] == \"#\" : nTrees += 1\n",
    "    return nTrees\n",
    "\n",
    "def countTrees2(slope,data):\n",
    "    xPos = 0\n",
    "    nTrees = 0\n",
    "    for yPos in range(slope[1],len(data),slope[1]):\n",
    "        xPos += slope[0]\n",
    "        if xPos >= len(line): # check to see if beyond bound and if so, subtract lenght of line\n",
    "            xPos -= len(line)\n",
    "        if data[yPos][xPos] == \"#\" : nTrees += 1\n",
    "    return nTrees\n",
    "        \n",
    "data = [line for line in testData.split('\\n')]\n",
    "\n",
    "slopes = [(1,1),(3,1),(5,1),(7,1),(1,2)]\n",
    "for slope in slopes:\n",
    "    print(slope,countTrees(slope,data))\n",
    "print('-----------')\n",
    "for slope in slopes:\n",
    "    print(slope,countTrees2(slope,data))\n"
   ]
  },
  {
   "cell_type": "markdown",
   "metadata": {},
   "source": [
    "All the test values work, let's use the real data"
   ]
  },
  {
   "cell_type": "code",
   "execution_count": 32,
   "metadata": {},
   "outputs": [
    {
     "name": "stdout",
     "output_type": "stream",
     "text": [
      "(1, 1) 94\n",
      "(3, 1) 74\n",
      "(5, 1) 93\n",
      "(7, 1) 82\n",
      "(1, 2) 39\n",
      "product of trees is 1\n"
     ]
    }
   ],
   "source": [
    "def countTrees2(slope,data):\n",
    "    xPos = 0\n",
    "    nTrees = 0\n",
    "    for yPos in range(slope[1],len(data),slope[1]):\n",
    "        xPos += slope[0]\n",
    "        if xPos >= len(line): # check to see if beyond bound and if so, subtract lenght of line\n",
    "            xPos -= len(line)\n",
    "        if data[yPos][xPos] == \"#\" : nTrees += 1\n",
    "    return nTrees\n",
    "\n",
    "with open ('2003input.txt') as f_in:\n",
    "    data = [line for line in f_in.read().split('\\n')]\n",
    "\n",
    "product = 1\n",
    "slopes = [(1,1),(3,1),(5,1),(7,1),(1,2)]\n",
    "for slope in slopes:\n",
    "    print(slope,countTrees2(slope,data))\n",
    "    #product *= \n",
    "\n",
    "print(f\"product of trees is {product}\")\n"
   ]
  },
  {
   "cell_type": "code",
   "execution_count": 33,
   "metadata": {},
   "outputs": [
    {
     "name": "stdout",
     "output_type": "stream",
     "text": [
      "(1, 1) 66\n",
      "(3, 1) 153\n",
      "(5, 1) 79\n",
      "(7, 1) 92\n"
     ]
    }
   ],
   "source": [
    "slopes = [(1,1),(3,1),(5,1),(7,1)]\n",
    "for slope in slopes:\n",
    "    print(slope,countTrees(slope,data))"
   ]
  },
  {
   "cell_type": "markdown",
   "metadata": {},
   "source": [
    "That value is too low! (!!!)"
   ]
  }
 ],
 "metadata": {
  "kernelspec": {
   "display_name": "default",
   "language": "python",
   "name": "python3"
  },
  "language_info": {
   "codemirror_mode": {
    "name": "ipython",
    "version": 3
   },
   "file_extension": ".py",
   "mimetype": "text/x-python",
   "name": "python",
   "nbconvert_exporter": "python",
   "pygments_lexer": "ipython3",
   "version": "3.10.13"
  }
 },
 "nbformat": 4,
 "nbformat_minor": 2
}
