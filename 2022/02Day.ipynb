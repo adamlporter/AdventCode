{
 "cells": [
  {
   "attachments": {},
   "cell_type": "markdown",
   "metadata": {},
   "source": [
    "https://adventofcode.com/2022/day/2"
   ]
  },
  {
   "cell_type": "code",
   "execution_count": 13,
   "metadata": {},
   "outputs": [],
   "source": [
    "wdir = '/home/alp/Google Drive/Python/AdventCode/2022'"
   ]
  },
  {
   "cell_type": "code",
   "execution_count": 18,
   "metadata": {},
   "outputs": [],
   "source": [
    "with open (f\"{wdir}/02input.txt\") as f_in:\n",
    "    data = f_in.read().split('\\n')\n"
   ]
  },
  {
   "cell_type": "code",
   "execution_count": 19,
   "metadata": {},
   "outputs": [
    {
     "data": {
      "text/plain": [
       "['C Y', 'B Z', 'B Z', 'C Y', 'B Y']"
      ]
     },
     "execution_count": 19,
     "metadata": {},
     "output_type": "execute_result"
    }
   ],
   "source": [
    "data[0:5]"
   ]
  },
  {
   "cell_type": "code",
   "execution_count": 23,
   "metadata": {},
   "outputs": [
    {
     "data": {
      "text/plain": [
       "'C Y'"
      ]
     },
     "execution_count": 23,
     "metadata": {},
     "output_type": "execute_result"
    }
   ],
   "source": [
    "data[0]"
   ]
  },
  {
   "cell_type": "code",
   "execution_count": 64,
   "metadata": {},
   "outputs": [],
   "source": [
    "scoreShape={'A':1,'B':2,'C':3}"
   ]
  },
  {
   "cell_type": "code",
   "execution_count": 44,
   "metadata": {},
   "outputs": [],
   "source": [
    "respConvert={'Z':'C','Y':'B','X':'A'}"
   ]
  },
  {
   "attachments": {},
   "cell_type": "markdown",
   "metadata": {},
   "source": [
    "A(rock) > Z (scissors)\n",
    "B(paper) > X (rock)\n",
    "C(scissors) > Y (paper)\n",
    "\n",
    "1 > 3\n",
    "2 > 1\n",
    "3 > 2"
   ]
  },
  {
   "cell_type": "code",
   "execution_count": 34,
   "metadata": {},
   "outputs": [],
   "source": [
    "def result(b,a):\n",
    "    if a == b:\n",
    "        return 3\n",
    "    # wins (A = rock, B = paper, C = Scissors)\n",
    "    if a == 'A' and b == 'C':\n",
    "        return 6\n",
    "    if a == 'B' and b == 'A':\n",
    "        return 6\n",
    "    if a == 'C' and b == 'B':\n",
    "        return 6\n",
    "    # loses\n",
    "    if a == 'A' and b == 'B':\n",
    "        return 0\n",
    "    if a == 'B' and b == 'C':\n",
    "        return 0\n",
    "    if a == 'C' and b == 'A':\n",
    "        return 0"
   ]
  },
  {
   "cell_type": "code",
   "execution_count": 40,
   "metadata": {},
   "outputs": [
    {
     "data": {
      "text/plain": [
       "6"
      ]
     },
     "execution_count": 40,
     "metadata": {},
     "output_type": "execute_result"
    }
   ],
   "source": [
    "result('C',respConvert['Z']) + shape[respConvert['Z']]"
   ]
  },
  {
   "cell_type": "code",
   "execution_count": 49,
   "metadata": {},
   "outputs": [
    {
     "name": "stdout",
     "output_type": "stream",
     "text": [
      "13268\n"
     ]
    }
   ],
   "source": [
    "tot = 0\n",
    "for pair in data:\n",
    "    resp = respConvert[pair[-1]]\n",
    "    tot += result(pair[0],resp) + shape[resp]\n",
    "    #print(f\"{pair[0]} vs {resp}\")\n",
    "print(tot)"
   ]
  },
  {
   "cell_type": "code",
   "execution_count": 58,
   "metadata": {},
   "outputs": [],
   "source": [
    "# Part 2 -- game changes\n",
    "# second value = game outcome (X lose, Y tie, z win)\n",
    "def response(a,b): # a = attack, b= game goal\n",
    "    if b == 'Y':\n",
    "        return a\n",
    "    if b == 'X' and a == 'A': return 'C' # rock (a) beats C \n",
    "    if b == 'X' and a == 'B': return 'A' # paper (b) beats A \n",
    "    if b == 'X' and a == 'C': return 'B' # cissors C beats B\n",
    "    # wins\n",
    "    if b == 'Z' and a == 'A': return 'B' # rock loses to paper\n",
    "    if b == 'Z' and a == 'B': return 'C'\n",
    "    if b == 'Z' and a == 'C': return 'A'"
   ]
  },
  {
   "cell_type": "code",
   "execution_count": 67,
   "metadata": {},
   "outputs": [],
   "source": [
    "scoreGame ={'X':0,'Y':3,'Z':6}"
   ]
  },
  {
   "cell_type": "code",
   "execution_count": 63,
   "metadata": {},
   "outputs": [
    {
     "data": {
      "text/plain": [
       "'A'"
      ]
     },
     "execution_count": 63,
     "metadata": {},
     "output_type": "execute_result"
    }
   ],
   "source": [
    "response('A','Y')"
   ]
  },
  {
   "cell_type": "code",
   "execution_count": 73,
   "metadata": {},
   "outputs": [
    {
     "data": {
      "text/plain": [
       "1"
      ]
     },
     "execution_count": 73,
     "metadata": {},
     "output_type": "execute_result"
    }
   ],
   "source": [
    "scoreShape[response('B','X')] + scoreGame['X']"
   ]
  },
  {
   "cell_type": "code",
   "execution_count": 74,
   "metadata": {},
   "outputs": [
    {
     "name": "stdout",
     "output_type": "stream",
     "text": [
      "15508\n"
     ]
    }
   ],
   "source": [
    "tot = 0\n",
    "for pair in data:\n",
    "    tot += scoreShape[response(pair[0],pair[-1])] + scoreGame[pair[-1]]\n",
    "    #print(f\"{pair[0]} vs {resp}\")\n",
    "print(tot)"
   ]
  }
 ],
 "metadata": {
  "kernelspec": {
   "display_name": "Python 3.10.6 64-bit",
   "language": "python",
   "name": "python3"
  },
  "language_info": {
   "codemirror_mode": {
    "name": "ipython",
    "version": 3
   },
   "file_extension": ".py",
   "mimetype": "text/x-python",
   "name": "python",
   "nbconvert_exporter": "python",
   "pygments_lexer": "ipython3",
   "version": "3.10.6"
  },
  "orig_nbformat": 4,
  "vscode": {
   "interpreter": {
    "hash": "916dbcbb3f70747c44a77c7bcd40155683ae19c65e1c03b4aa3499c5328201f1"
   }
  }
 },
 "nbformat": 4,
 "nbformat_minor": 2
}
