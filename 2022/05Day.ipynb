{
 "cells": [
  {
   "cell_type": "markdown",
   "metadata": {},
   "source": [
    "https://adventofcode.com/2022/day/5"
   ]
  },
  {
   "cell_type": "code",
   "execution_count": 1,
   "metadata": {},
   "outputs": [],
   "source": [
    "start = ['ZPBQMDN','VHDMQZLC','GZFVDRHQ','NFDGH','QFN','TBFZVQD','HSVDZTMQ','QNPFGM','MRWB']"
   ]
  },
  {
   "cell_type": "code",
   "execution_count": 2,
   "metadata": {},
   "outputs": [
    {
     "data": {
      "text/plain": [
       "['move 3 from 2 to 5', 'move 2 from 9 to 6', 'move 4 from 7 to 1']"
      ]
     },
     "execution_count": 2,
     "metadata": {},
     "output_type": "execute_result"
    }
   ],
   "source": [
    "wdir = '/home/alp/Google Drive/Python/AdventCode/2022'\n",
    "with open (f\"{wdir}/05input.txt\") as f_in:\n",
    "    #data = f_in.readlines()\n",
    "    data = f_in.read().split('\\n')\n",
    "data[0:3]"
   ]
  },
  {
   "cell_type": "code",
   "execution_count": 2,
   "metadata": {},
   "outputs": [
    {
     "data": {
      "text/plain": [
       "'ZPBQMDN'"
      ]
     },
     "execution_count": 2,
     "metadata": {},
     "output_type": "execute_result"
    }
   ],
   "source": [
    "start[1]"
   ]
  },
  {
   "cell_type": "code",
   "execution_count": 22,
   "metadata": {},
   "outputs": [
    {
     "name": "stdout",
     "output_type": "stream",
     "text": [
      "[31, 222, 5]\n"
     ]
    }
   ],
   "source": [
    "import re\n",
    "result = [int(x) for x in re.findall(r\"\\d+\",'move 31 from 222 to 5')]\n",
    "print(result)"
   ]
  },
  {
   "cell_type": "code",
   "execution_count": 17,
   "metadata": {},
   "outputs": [
    {
     "name": "stdout",
     "output_type": "stream",
     "text": [
      "move 2 from 9 to 1 \n",
      " 2 9 1\n",
      "move 4 from 5 to 3 \n",
      " 4 5 3\n",
      "move 2 from 7 to 3 \n",
      " 2 7 3\n",
      "move 40 from 1 to 2 \n",
      " 40 1 2\n",
      "move 24 from 2 to 9 \n",
      " 24 2 9\n",
      "move 1 from 5 to 6 \n",
      " 1 5 6\n",
      "move 11 from 2 to 3 \n",
      " 11 2 3\n",
      "move 9 from 3 to 5 \n",
      " 9 3 5\n",
      "move 12 from 9 to 4 \n",
      " 12 9 4\n",
      "move 6 from 5 to 7 \n",
      " 6 5 7\n"
     ]
    }
   ],
   "source": [
    "for line in data[40:50]:\n",
    "    number, stack1, stack2 = re.findall(r\"\\d+\",line)\n",
    "    print(line,'\\n',number,stack1,stack2)\n"
   ]
  },
  {
   "cell_type": "code",
   "execution_count": 18,
   "metadata": {},
   "outputs": [
    {
     "name": "stdout",
     "output_type": "stream",
     "text": [
      "MRWB\n",
      "MR\n"
     ]
    }
   ],
   "source": [
    "print(start[9])\n",
    "print(start[9][0:2])"
   ]
  },
  {
   "cell_type": "code",
   "execution_count": 28,
   "metadata": {},
   "outputs": [
    {
     "name": "stdout",
     "output_type": "stream",
     "text": [
      "['', 'ZTMQHSVDZPBQMDN', '', '', 'QGZFVDRHNFDGH', 'LCMQZVHDQFN', 'MRTBFZVQD', '', 'WBQNPFGM', '']\n"
     ]
    }
   ],
   "source": [
    "print(start)"
   ]
  },
  {
   "cell_type": "code",
   "execution_count": 10,
   "metadata": {},
   "outputs": [],
   "source": [
    "start = ['','ZPBQMDN','VHDMQZLC','GZFVDRHQ','NFDGH','QFN','TBFZVQD','HSVDZTMQ','QNPFGM','MRWB']"
   ]
  },
  {
   "cell_type": "code",
   "execution_count": 34,
   "metadata": {},
   "outputs": [
    {
     "name": "stdout",
     "output_type": "stream",
     "text": [
      "H\n",
      "M\n",
      "G\n",
      "N\n",
      "V\n",
      "M\n",
      "Z\n",
      "Q\n",
      "W\n"
     ]
    }
   ],
   "source": [
    "for word in start[1:]:\n",
    "    print(word[0])"
   ]
  },
  {
   "cell_type": "code",
   "execution_count": 8,
   "metadata": {},
   "outputs": [],
   "source": [
    "start2 = ['','NZ','DCM','P']\n",
    "test = ['move 1 from 2 to 1','move 3 from 1 to 3','move 2 from 2 to 1','move 1 from 1 to 2']"
   ]
  },
  {
   "cell_type": "code",
   "execution_count": 6,
   "metadata": {},
   "outputs": [
    {
     "name": "stdout",
     "output_type": "stream",
     "text": [
      "QGTHFZBHV\n"
     ]
    }
   ],
   "source": [
    "import re\n",
    "work = start.copy()\n",
    "#print(work)\n",
    "for line in data:\n",
    "    #print(line)\n",
    "    number, stack1, stack2 = [int(x) for x in re.findall(r\"\\d+\",line)] \n",
    "    #print(number, stack1, stack2)\n",
    "    chunk = work[stack1][0:number] # find the chunk to move\n",
    "    #print(chunk)\n",
    "    work[stack1] = work[stack1][number:] # get rid of chunk on source\n",
    "    work[stack2] = chunk[::-1] + work[stack2]\n",
    "    #print(work)\n",
    "    #print('\\n')\n",
    "\n",
    "result = ''\n",
    "for word in work[1:]:\n",
    "    result+=word[0]\n",
    "print(result)\n",
    "    "
   ]
  },
  {
   "attachments": {},
   "cell_type": "markdown",
   "metadata": {},
   "source": [
    "guesses:\n",
    "QGTHFZBHV\n",
    "\n",
    "This is correct.\n"
   ]
  },
  {
   "cell_type": "code",
   "execution_count": 11,
   "metadata": {},
   "outputs": [
    {
     "name": "stdout",
     "output_type": "stream",
     "text": [
      "MGDMPSZTM\n"
     ]
    }
   ],
   "source": [
    "import re\n",
    "work = start.copy()\n",
    "#print(work)\n",
    "for line in data:\n",
    "    #print(line)\n",
    "    number, stack1, stack2 = [int(x) for x in re.findall(r\"\\d+\",line)] \n",
    "    #print(number, stack1, stack2)\n",
    "    chunk = work[stack1][0:number] # find the chunk to move\n",
    "    #print(chunk)\n",
    "    work[stack1] = work[stack1][number:] # get rid of chunk on source\n",
    "    work[stack2] = chunk + work[stack2]\n",
    "    #print(work)\n",
    "    #print('\\n')\n",
    "\n",
    "result = ''\n",
    "for word in work[1:]:\n",
    "    result+=word[0]\n",
    "print(result)\n",
    "    "
   ]
  },
  {
   "cell_type": "code",
   "execution_count": null,
   "metadata": {},
   "outputs": [],
   "source": [
    "start = ['','ZPBQMDN','VHDMQZLC','GZFVDRHQ','NFDGH','QFN','TBFZVQD','HSVDZTMQ','QNPFGM','MRWB']\n",
    "data = ['move 3 from 2 to 5', 'move 2 from 9 to 6', 'move 4 from 7 to 1', . . . ]\n",
    "import re\n",
    "stacks = start.copy()\n",
    "\n",
    "for line in data:\n",
    "    cratesToMove, source, target = [int(x) for x in re.findall(r\"\\d+\",line)] \n",
    "    chunk = stacks[source][0:cratesToMove] # find the chunk to move\n",
    "    stacks[source] = stacks[source][cratesToMove:] # get rid of chunk on source\n",
    "    stacks[target] = chunk[::-1] + stacks[target] # stack chunk in reverse order\n",
    "\n",
    "result = ''\n",
    "for stack in stacks[1:]:\n",
    "    result += stack[0] # get the first letter in each stack\n",
    "print(result)\n"
   ]
  },
  {
   "cell_type": "code",
   "execution_count": 8,
   "metadata": {},
   "outputs": [
    {
     "name": "stdout",
     "output_type": "stream",
     "text": [
      "27.0\n"
     ]
    }
   ],
   "source": [
    "import math\n",
    "x = 3\n",
    "n = 2\n",
    "tot = 0\n",
    "for i in range(0,n+1):\n",
    "    tot += ((x**2)*(i**2)) / math.factorial(i)\n",
    "print(tot)"
   ]
  }
 ],
 "metadata": {
  "kernelspec": {
   "display_name": "Python 3.10.6 ('default')",
   "language": "python",
   "name": "python3"
  },
  "language_info": {
   "codemirror_mode": {
    "name": "ipython",
    "version": 3
   },
   "file_extension": ".py",
   "mimetype": "text/x-python",
   "name": "python",
   "nbconvert_exporter": "python",
   "pygments_lexer": "ipython3",
   "version": "3.10.6 (main, Oct  7 2022, 20:19:58) [GCC 11.2.0]"
  },
  "orig_nbformat": 4,
  "vscode": {
   "interpreter": {
    "hash": "3fd9bb179558f52c0fd35b67e8bb6d5d0ecd33ead53ba97d5f52ce04240a2830"
   }
  }
 },
 "nbformat": 4,
 "nbformat_minor": 2
}
