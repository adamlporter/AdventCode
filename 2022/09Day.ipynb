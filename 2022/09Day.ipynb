{
 "cells": [
  {
   "cell_type": "markdown",
   "metadata": {},
   "source": [
    "https://adventofcode.com/2022/day/9\n",
    "\n",
    "How to keep track of the locations the \"tail\" has passed through?\n",
    "This might be another case for a numpy array of zeros and ones.\n",
    "\n",
    "But how big does it need to be?\n",
    "\n",
    "Let's run through the instructions to move the \"head\" from (0,0) and see how big the field needs to be..."
   ]
  },
  {
   "cell_type": "code",
   "execution_count": 1,
   "metadata": {},
   "outputs": [
    {
     "name": "stdout",
     "output_type": "stream",
     "text": [
      "R 4\n",
      "U 4\n",
      "L 3\n",
      "D 1\n",
      "R 4\n",
      "D 1\n",
      "L 5\n",
      "R 2\n"
     ]
    }
   ],
   "source": [
    "input = \"\"\"R 4\n",
    "U 4\n",
    "L 3\n",
    "D 1\n",
    "R 4\n",
    "D 1\n",
    "L 5\n",
    "R 2\"\"\"\n",
    "instructions = input.split('\\n')\n",
    "for i in instructions:\n",
    "    print(i)"
   ]
  },
  {
   "cell_type": "code",
   "execution_count": 2,
   "metadata": {},
   "outputs": [
    {
     "name": "stdout",
     "output_type": "stream",
     "text": [
      "R 2 R 2\n"
     ]
    }
   ],
   "source": [
    "dir,amt = i.split(' ')\n",
    "print(i,dir,amt)"
   ]
  },
  {
   "cell_type": "code",
   "execution_count": 5,
   "metadata": {},
   "outputs": [
    {
     "name": "stdout",
     "output_type": "stream",
     "text": [
      "2 1\n"
     ]
    }
   ],
   "source": [
    "point = [1,2]\n",
    "x,y = point\n",
    "print(y,x)"
   ]
  },
  {
   "cell_type": "code",
   "execution_count": 7,
   "metadata": {},
   "outputs": [],
   "source": [
    "def move_head(point,instruction):\n",
    "    dir,amt = instruction.split(' ')\n",
    "    x,y = point\n",
    "    if dir == 'U': y += int(amt)\n",
    "    if dir == 'D': y -= int(amt)\n",
    "    if dir == 'L': x -= int(amt)\n",
    "    if dir == 'R': x += int(amt)\n",
    "    return [x,y]"
   ]
  },
  {
   "cell_type": "code",
   "execution_count": 9,
   "metadata": {},
   "outputs": [
    {
     "name": "stdout",
     "output_type": "stream",
     "text": [
      "[5, 2]\n"
     ]
    }
   ],
   "source": [
    "point = move_head(point,'R 4')\n",
    "print(point)"
   ]
  },
  {
   "cell_type": "code",
   "execution_count": 11,
   "metadata": {},
   "outputs": [
    {
     "name": "stdout",
     "output_type": "stream",
     "text": [
      "[1, 1]\n",
      "[5, 1]\n",
      "[5, 5]\n",
      "[2, 5]\n",
      "[2, 4]\n",
      "[6, 4]\n",
      "[6, 3]\n",
      "[1, 3]\n",
      "end location: [3, 3]\n"
     ]
    }
   ],
   "source": [
    "point=[1,1]\n",
    "instructions = input.split('\\n')\n",
    "for i in instructions:\n",
    "    print(point)\n",
    "    point = move_head(point,i)\n",
    "print(f\"end location: {point}\")"
   ]
  },
  {
   "cell_type": "markdown",
   "metadata": {},
   "source": [
    "So this won't work -- we need to keep track of each square the tail moves through, so we need to do something a little different.\n",
    "\n",
    "This woudl allow us to find the max values for the grid, though. . . "
   ]
  },
  {
   "cell_type": "code",
   "execution_count": 13,
   "metadata": {},
   "outputs": [
    {
     "name": "stdout",
     "output_type": "stream",
     "text": [
      "1 1 6 5\n"
     ]
    }
   ],
   "source": [
    "maxX, maxY, minX, minY = 1, 1, 1, 1 # set to the initial point\n",
    "point=[1,1]\n",
    "instructions = input.split('\\n')\n",
    "for i in instructions:\n",
    "    point = move_head(point,i)\n",
    "    x,y = point\n",
    "    if x > maxX : maxX = x\n",
    "    if x < minX : minX = x\n",
    "    if y > maxY : maxY = y\n",
    "    if y < minY : minY = y\n",
    "\n",
    "print(minX,minY,maxX,maxY)"
   ]
  },
  {
   "cell_type": "markdown",
   "metadata": {},
   "source": [
    "Let's see about figuring out where the tail goes. . ."
   ]
  },
  {
   "cell_type": "code",
   "execution_count": 15,
   "metadata": {},
   "outputs": [
    {
     "name": "stdout",
     "output_type": "stream",
     "text": [
      "1 0 5\n"
     ]
    }
   ],
   "source": [
    "headPos = tailPos = [1,1] # initial setup\n",
    "# move head\n",
    "# check tail ; record position\n",
    "# move tail\n",
    "def parseInstruction(ins):\n",
    "    dir,amt = ins.split(' ')\n",
    "    if dir == 'U': \n",
    "        h = 0\n",
    "        v = -1\n",
    "    if dir == 'D': \n",
    "        h = 0\n",
    "        v = -1 \n",
    "    if dir == 'L': \n",
    "        h = -1\n",
    "        v = 0 \n",
    "    if dir == 'R': \n",
    "        h = 1\n",
    "        v = 0\n",
    "    return h,v,int(amt)\n"
   ]
  },
  {
   "cell_type": "code",
   "execution_count": null,
   "metadata": {},
   "outputs": [],
   "source": [
    "headPos = tailPos = [1,1] # initial setup\n",
    "x,y,dist = parseInstruction('R 5')\n",
    "print(x,y,dist)"
   ]
  },
  {
   "cell_type": "code",
   "execution_count": 18,
   "metadata": {},
   "outputs": [
    {
     "data": {
      "text/plain": [
       "array([[0, 0, 0, 0, 0, 0, 0, 0, 0, 0],\n",
       "       [0, 0, 0, 0, 0, 0, 0, 0, 0, 0],\n",
       "       [0, 0, 0, 0, 0, 0, 0, 0, 0, 0],\n",
       "       [0, 0, 0, 0, 0, 0, 0, 0, 0, 0],\n",
       "       [0, 0, 0, 0, 0, 0, 0, 0, 0, 0],\n",
       "       [0, 0, 0, 0, 0, 0, 0, 0, 0, 0],\n",
       "       [0, 0, 0, 0, 0, 0, 0, 0, 0, 0],\n",
       "       [0, 0, 0, 0, 0, 0, 0, 0, 0, 0],\n",
       "       [0, 0, 0, 0, 0, 0, 0, 0, 0, 0],\n",
       "       [0, 0, 0, 0, 0, 0, 0, 0, 0, 0]])"
      ]
     },
     "execution_count": 18,
     "metadata": {},
     "output_type": "execute_result"
    }
   ],
   "source": [
    "import numpy as np\n",
    "tailRecord = np.zeros((10,10),dtype = int)\n",
    "tailRecord"
   ]
  },
  {
   "cell_type": "code",
   "execution_count": null,
   "metadata": {},
   "outputs": [],
   "source": [
    "# get an instruction\n",
    "x,y,dist = parseInstruction('R 5')\n",
    "    b[tailPos] = 1\n",
    "    if "
   ]
  }
 ],
 "metadata": {
  "kernelspec": {
   "display_name": "Python 3.10.6 64-bit",
   "language": "python",
   "name": "python3"
  },
  "language_info": {
   "codemirror_mode": {
    "name": "ipython",
    "version": 3
   },
   "file_extension": ".py",
   "mimetype": "text/x-python",
   "name": "python",
   "nbconvert_exporter": "python",
   "pygments_lexer": "ipython3",
   "version": "3.10.6"
  },
  "orig_nbformat": 4,
  "vscode": {
   "interpreter": {
    "hash": "916dbcbb3f70747c44a77c7bcd40155683ae19c65e1c03b4aa3499c5328201f1"
   }
  }
 },
 "nbformat": 4,
 "nbformat_minor": 2
}
