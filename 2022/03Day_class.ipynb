{
 "cells": [
  {
   "cell_type": "code",
   "execution_count": 3,
   "metadata": {},
   "outputs": [],
   "source": [
    "class Elf:\n",
    "    def __init__(self,pocket1:str,pocket2:str) -> None:\n",
    "        self.pocket1 = pocket1\n",
    "        self.pocket2 = pocket2\n",
    "\n",
    "    def find_unique(self) -> str:\n",
    "        s1 = set(self.pocket1)\n",
    "        s2 = set(self.pocket2)\n",
    "        intersection = s1 & s2\n",
    "        return list(intersection)[0]\n"
   ]
  },
  {
   "cell_type": "code",
   "execution_count": 4,
   "metadata": {},
   "outputs": [
    {
     "data": {
      "text/plain": [
       "['PnJJfVPBcfVnnPnBFFcggttrtgCrjDtSjzSS',\n",
       " 'llWlLbmmdLLwLbqGdmTmbZfCQtzrMQfrjSzrtSrMqgMt',\n",
       " 'sHlZTsWZwGGlZmGTmdlZbhJNRPphVfRvVnRBsRsJJV']"
      ]
     },
     "execution_count": 4,
     "metadata": {},
     "output_type": "execute_result"
    }
   ],
   "source": [
    "wdir = '/home/alp/Google Drive/Python/AdventCode/2022'\n",
    "with open (f\"{wdir}/03input.txt\") as f_in:\n",
    "    data = f_in.read().split('\\n')\n",
    "data[0:3]"
   ]
  },
  {
   "cell_type": "code",
   "execution_count": 5,
   "metadata": {},
   "outputs": [],
   "source": [
    "elves = []\n",
    "for word in data:\n",
    "    mid = int( len(word) / 2 )\n",
    "    elf = Elf(word[0:mid],word[mid:])\n",
    "    elves.append(elf)\n"
   ]
  },
  {
   "cell_type": "code",
   "execution_count": 6,
   "metadata": {},
   "outputs": [
    {
     "data": {
      "text/plain": [
       "'c'"
      ]
     },
     "execution_count": 6,
     "metadata": {},
     "output_type": "execute_result"
    }
   ],
   "source": [
    "elves[0].find_unique()"
   ]
  },
  {
   "cell_type": "code",
   "execution_count": 7,
   "metadata": {},
   "outputs": [],
   "source": [
    "def find_priority(letter):\n",
    "    if letter == letter.upper():\n",
    "        return ord(letter) - 38\n",
    "    else:\n",
    "        return ord(letter) - 96"
   ]
  },
  {
   "cell_type": "code",
   "execution_count": 8,
   "metadata": {},
   "outputs": [
    {
     "name": "stdout",
     "output_type": "stream",
     "text": [
      "7875\n"
     ]
    }
   ],
   "source": [
    "tot = 0\n",
    "for elf in elves:\n",
    "    tot += find_priority(elf.find_unique() )\n",
    "print(tot)\n",
    "    "
   ]
  },
  {
   "cell_type": "code",
   "execution_count": 12,
   "metadata": {},
   "outputs": [
    {
     "data": {
      "text/plain": [
       "'cggttrtgCrjDtSjzSS'"
      ]
     },
     "execution_count": 12,
     "metadata": {},
     "output_type": "execute_result"
    }
   ],
   "source": [
    "elves[0].pocket2"
   ]
  },
  {
   "cell_type": "code",
   "execution_count": null,
   "metadata": {},
   "outputs": [
    {
     "name": "stdout",
     "output_type": "stream",
     "text": [
      "2479\n"
     ]
    }
   ],
   "source": [
    "total = 0\n",
    "for group in range(0,int(len(elves)/3)):\n",
    "    offset = group * 3\n",
    "    elf1 = set(elves[offset + 0].pocket1+elves[offset + 0].pocket2)\n",
    "    elf2 = set(elves[offset + 1].pocket1+elves[offset + 1].pocket2)\n",
    "    elf3 = set(elves[offset + 2].pocket1+elves[offset + 2].pocket2)\n",
    "    item = list(elf1 & elf2 & elf3)[0]\n",
    "\n",
    "    total += find_priority(item)\n",
    "\n",
    "print(total)"
   ]
  }
 ],
 "metadata": {
  "kernelspec": {
   "display_name": "Python 3",
   "language": "python",
   "name": "python3"
  },
  "language_info": {
   "codemirror_mode": {
    "name": "ipython",
    "version": 3
   },
   "file_extension": ".py",
   "mimetype": "text/x-python",
   "name": "python",
   "nbconvert_exporter": "python",
   "pygments_lexer": "ipython3",
   "version": "3.10.6"
  },
  "orig_nbformat": 4,
  "vscode": {
   "interpreter": {
    "hash": "916dbcbb3f70747c44a77c7bcd40155683ae19c65e1c03b4aa3499c5328201f1"
   }
  }
 },
 "nbformat": 4,
 "nbformat_minor": 2
}
