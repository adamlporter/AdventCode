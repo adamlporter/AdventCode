{
 "cells": [
  {
   "cell_type": "markdown",
   "metadata": {},
   "source": [
    "https://adventofcode.com/2022/day/11\n",
    "\n",
    "trying with classes. . . \n",
    "\n",
    "Monkey#\n",
    "    Has items (list) (of WL number)\n",
    "    Has operation (fn) (on WLN )\n",
    "    Has test (fn,target)\n",
    "\n",
    "M:\n",
    "1. inspects item\n",
    "1. worry level / 3 round down to integer\n",
    "    * import math\n",
    "    * WL = math.floor(WL/3)\n",
    "\n",
    "Monkeys go in numerical order:\n",
    "1. inspect each item in list order\n",
    "1. throws item to other monkey\n",
    "    * item added to end of target M list of items\n",
    "\n"
   ]
  },
  {
   "cell_type": "code",
   "execution_count": 99,
   "metadata": {},
   "outputs": [],
   "source": [
    "import re\n",
    "import operator\n",
    "import copy\n",
    "\n",
    "\n",
    "class Monkey:\n",
    "    def __init__(self, monkey_id:int, items:list, worry_op:str, div:int, throw_to:list) -> None:\n",
    "        self.monkey_id = monkey_id\n",
    "        self.start_items =  items\n",
    "        self._worry_op = worry_op # operation on worry number ( * / + Num)\n",
    "        self.divisor = div # test division\n",
    "        self._throw_to = throw_to # test target\n",
    "        self.inspection_count = 0 # how many loops to go through?\n",
    "\n",
    "    def add_item(self, item:int):\n",
    "        self.start_items.append(item)\n",
    "    \n",
    "    def inspect(self) -> int: # after updating all the internal variables, returns the monkey # to throw item to\n",
    "        self.inspection_count += 1\n",
    "        self._worry_op.replace('old',str(self.start_items[0])) # _worry_op has the string from the input after '=':  'old * N'\n",
    "            # so this replaces the word \"old\" with the current value in the worry list: \"32 * N\"\n",
    "        first, the_op, second = re.findall(r\"(\\w+) (.) (\\w+)\",worry_op)[0]\n",
    "            # search the worry_op string (32 * N). Findall returns a list [(32,*,N)] of tuples\n",
    "            # list[0] returns the tuple, which is assigned to the variables\n",
    "        ops_dict = {\n",
    "            '+' : operator.add,\n",
    "            '*' : operator.mul\n",
    "        }\n",
    "            # https://docs.python.org/3/library/operator.html\n",
    "            # operator.XXX is list of functions in std library\n",
    "            # operator.add(x,y) is the same as x+y\n",
    "\n",
    "        self.start_items[0] = ops_dict[the_op](int(first),int(second))\n",
    "            # replace the first WL item with the value of the equation\n",
    "            # item[0] = operator.add(firstVal,secondVal)\n",
    "\n",
    "        self.start_items[0] //= 3 # divide by 3 and round down\n",
    "\n",
    "        return self._throw_to[0] if self.start_items[0] % self.divisor == 0 \\\n",
    "                                 else self._throw_to[1]\n",
    "                                 \n",
    "    def throw_to(self,other: Monkey):\n",
    "        other.add_item(self.start_items.pop(0))\n",
    "            # .pop removes item from list at given index and RETURNS the item\n",
    "            # so this takes item[0] from self and sends it to other\n",
    "            # other adds the item using fn above (take item and append to end of list)\n",
    "\n",
    "    def __repr__(self) -> str:\n",
    "        return f\"Monkey:(id={self.monkey_id}, items={self.start_items}, \" \\\n",
    "                + f\"inspect_count=({self.inspection_count})\"\n",
    "      \n"
   ]
  },
  {
   "cell_type": "code",
   "execution_count": 134,
   "metadata": {},
   "outputs": [],
   "source": [
    "class Monkey:\n",
    "    \"\"\" The monkey has a bunch of my things. \n",
    "    start_items = worry level for each item, in the order they will be inspectd\n",
    "    worry_op = how worry level changes as the monkey inspects the item\n",
    "    \"\"\"\n",
    "    def __init__(self, monkey_id: int, items: list, worry_op: str, div: int, throw_to: list) -> None:\n",
    "        self.monkey_id = monkey_id # E.g. 0\n",
    "        self.start_items = items # E.g. [79, 98]\n",
    "        self._worry_op = worry_op  # E.g. old * 19\n",
    "        self.divisor = div  # E.g. 13\n",
    "        self._throw_to = throw_to # E.g. [2, 3]\n",
    "        self.inspect_count = 0\n",
    "    \n",
    "    def add_item(self, item:int):\n",
    "        self.start_items.append(item)\n",
    "        \n",
    "    def inspect(self) -> int:\n",
    "        \"\"\" Inspects the next item in the list. \n",
    "        Inspecting causes our worry level to go up, as given by worry_op. \n",
    "        If relief enabled, we then reduce our worry level by //3.\n",
    "        Then we work out who to throw to, by dividing by a divisor.\n",
    "        \n",
    "        In part 2:\n",
    "          - relief is disabled and worry level can get VERY LARGE!!\n",
    "          - We can significantly reduce this number by using LCM trick.\n",
    "         \"\"\"\n",
    "        \n",
    "        self.inspect_count += 1\n",
    "        \n",
    "        # turn \"old * 19\" into \"79 * 19\"\n",
    "        worry_op = self._worry_op.replace(\"old\", str(self.start_items[0]))\n",
    "        \n",
    "        first, the_op, second = re.findall(r\"(\\w+) (.) (\\w+)\", worry_op)[0]\n",
    "        ops_dict = {\n",
    "            \"+\": operator.add,\n",
    "            \"*\": operator.mul\n",
    "        }\n",
    "        \n",
    "        self.start_items[0] = ops_dict[the_op](int(first), int(second))\n",
    "    \n",
    "        # Relief. Rule = divide by three and round down\n",
    "        self.start_items[0] //= 3\n",
    "        \n",
    "        return self._throw_to[0] if self.start_items[0] % self.divisor == 0 \\\n",
    "                                 else self._throw_to[1]\n",
    "    \n",
    "    def throw_to(self, other: Monkey):\n",
    "        other.add_item(self.start_items.pop(0))\n",
    "        \n",
    "    def __repr__(self) -> str:\n",
    "        return f\"Monkey:(id={self.monkey_id}, items={self.start_items}, \" \\\n",
    "                + f\"inspect_count={self.inspect_count})\"\n"
   ]
  },
  {
   "cell_type": "code",
   "execution_count": 135,
   "metadata": {},
   "outputs": [],
   "source": [
    "def parse_input(data:str) -> dict[int,Monkey]:\n",
    "    blocks = data.split('\\n\\n')\n",
    "\n",
    "    monkeys = {}\n",
    "    for block in blocks:\n",
    "        #print(block)\n",
    "        for line in block.splitlines():\n",
    "            if line.startswith(\"Monkey\"):\n",
    "                monkey_id = int(re.findall(r\"(\\d+)\", line)[0])\n",
    "                \n",
    "            if \"items:\" in line:\n",
    "                items = list(map(int, re.findall(r\"(\\d+)\", line)))\n",
    "                    # map(fn,iterable) applies the function to each value in the iterable\n",
    "                    # returns the results\n",
    "                    # list() converts the results into a list\n",
    "\n",
    "            if \"Operation:\" in line:\n",
    "                worry_op = line.split(\"=\")[-1].strip()\n",
    "                    # split the line at '=' and return second half ([-1])\n",
    "                    # new = old * 3 --> 'old * 3'\n",
    "            \n",
    "            if \"Test:\" in line:\n",
    "                divisor = int(re.findall(r\"\\d+\", line)[0])\n",
    "            \n",
    "            if \"true:\" in line:\n",
    "                to_monkey_true = int(re.findall(r\"\\d+\", line)[0])\n",
    "            \n",
    "            if \"false:\" in line:\n",
    "                to_monkey_false = int(re.findall(r\"\\d+\", line)[0])\n",
    "\n",
    "        #print(monkey_id, items, worry_op, divisor, to_monkey_true, to_monkey_false)\n",
    "\n",
    "        monkey = Monkey(monkey_id = monkey_id,\n",
    "                        items = items, \n",
    "                        worry_op = worry_op,\n",
    "                        div = divisor,\n",
    "                        throw_to = [to_monkey_true,to_monkey_false]\n",
    "                        )\n",
    "            # create a monkey instance\n",
    "\n",
    "        monkeys[monkey_id] = monkey\n",
    "            # add the monkey instance to the dictionary; key = id num, val = monkey instance\n",
    "    #for i in monkeys.values():\n",
    "    #    print(i)\n",
    "    \n",
    "    return monkeys # return dictionary\n",
    "\n",
    "\n"
   ]
  },
  {
   "cell_type": "code",
   "execution_count": 136,
   "metadata": {},
   "outputs": [],
   "source": [
    "data = \"\"\"Monkey 0:\n",
    "  Starting items: 75, 63\n",
    "  Operation: new = old * 3\n",
    "  Test: divisible by 11\n",
    "    If true: throw to monkey 7\n",
    "    If false: throw to monkey 2\n",
    "\n",
    "Monkey 1:\n",
    "  Starting items: 65, 79, 98, 77, 56, 54, 83, 94\n",
    "  Operation: new = old + 3\n",
    "  Test: divisible by 2\n",
    "    If true: throw to monkey 2\n",
    "    If false: throw to monkey 0\n",
    "\n",
    "Monkey 2:\n",
    "  Starting items: 66\n",
    "  Operation: new = old + 5\n",
    "  Test: divisible by 5\n",
    "    If true: throw to monkey 7\n",
    "    If false: throw to monkey 5\n",
    "\n",
    "Monkey 3:\n",
    "  Starting items: 51, 89, 90\n",
    "  Operation: new = old * 19\n",
    "  Test: divisible by 7\n",
    "    If true: throw to monkey 6\n",
    "    If false: throw to monkey 4\n",
    "\n",
    "Monkey 4:\n",
    "  Starting items: 75, 94, 66, 90, 77, 82, 61\n",
    "  Operation: new = old + 1\n",
    "  Test: divisible by 17\n",
    "    If true: throw to monkey 6\n",
    "    If false: throw to monkey 1\n",
    "\n",
    "Monkey 5:\n",
    "  Starting items: 53, 76, 59, 92, 95\n",
    "  Operation: new = old + 2\n",
    "  Test: divisible by 19\n",
    "    If true: throw to monkey 4\n",
    "    If false: throw to monkey 3\n",
    "\n",
    "Monkey 6:\n",
    "  Starting items: 81, 61, 75, 89, 70, 92\n",
    "  Operation: new = old * old\n",
    "  Test: divisible by 3\n",
    "    If true: throw to monkey 0\n",
    "    If false: throw to monkey 1\n",
    "\n",
    "Monkey 7:\n",
    "  Starting items: 81, 86, 62, 87\n",
    "  Operation: new = old + 8\n",
    "  Test: divisible by 13\n",
    "    If true: throw to monkey 3\n",
    "    If false: throw to monkey 5\n",
    "    \"\"\""
   ]
  },
  {
   "cell_type": "code",
   "execution_count": 141,
   "metadata": {},
   "outputs": [],
   "source": [
    "monkeys = parse_input(data)"
   ]
  },
  {
   "cell_type": "code",
   "execution_count": 140,
   "metadata": {},
   "outputs": [],
   "source": [
    "from collections import Counter\n",
    "\n",
    "def play(monkeys: dict[int, Monkey], rounds_to_play: int) -> int:\n",
    "    \"\"\" Play required number of rounds.\n",
    "    Returns 'Monkey Business' = product of the top two inspection counts \"\"\"\n",
    "    for _ in range(1, rounds_to_play+1):\n",
    "        for monkey in monkeys.values(): # Iterator through monkeys in order\n",
    "            while monkey.start_items: # Monkey inspects and throws until it has no more items\n",
    "                to_monkey = monkeys[monkey.inspect()]\n",
    "                monkey.throw_to(to_monkey)\n",
    "    \n",
    "    # Get the two monkeys that have inspected the most\n",
    "    monkey_inspect = Counter({monkey.monkey_id: monkey.inspect_count for monkey in monkeys.values()})\n",
    "    two_most_common = monkey_inspect.most_common(2)\n",
    "    return two_most_common[0][1] * two_most_common[1][1]\n"
   ]
  },
  {
   "cell_type": "code",
   "execution_count": 142,
   "metadata": {},
   "outputs": [
    {
     "data": {
      "text/plain": [
       "62491"
      ]
     },
     "execution_count": 142,
     "metadata": {},
     "output_type": "execute_result"
    }
   ],
   "source": [
    "play(monkeys,20)"
   ]
  },
  {
   "cell_type": "code",
   "execution_count": 143,
   "metadata": {},
   "outputs": [
    {
     "name": "stdout",
     "output_type": "stream",
     "text": [
      "Monkey:(id=0, items=[1, 1, 1, 1, 1, 1, 1, 1, 1, 1, 1], inspect_count=194)\n",
      "Monkey:(id=1, items=[2, 2, 2, 2, 2, 2, 2, 2, 2, 2, 2, 2, 2], inspect_count=242)\n",
      "Monkey:(id=2, items=[], inspect_count=240)\n",
      "Monkey:(id=3, items=[1, 1, 1, 1, 1, 1, 1, 1, 1, 1, 1, 12], inspect_count=243)\n",
      "Monkey:(id=4, items=[], inspect_count=247)\n",
      "Monkey:(id=5, items=[], inspect_count=253)\n",
      "Monkey:(id=6, items=[], inspect_count=17)\n",
      "Monkey:(id=7, items=[], inspect_count=17)\n"
     ]
    }
   ],
   "source": [
    "for i in monkeys.values():\n",
    "    print(i)"
   ]
  },
  {
   "cell_type": "markdown",
   "metadata": {},
   "source": [
    "submitted 129600 - incorrect, too high.\n",
    "submitted 32,400 -- incorrect too low. (I just re-ran it without doing any inspections / calls on moneky, since that affects what is in the lists. . . )\n",
    "\n"
   ]
  },
  {
   "cell_type": "code",
   "execution_count": 86,
   "metadata": {},
   "outputs": [
    {
     "data": {
      "text/plain": [
       "7"
      ]
     },
     "execution_count": 86,
     "metadata": {},
     "output_type": "execute_result"
    }
   ],
   "source": [
    "monkeys[0].inspect()"
   ]
  },
  {
   "cell_type": "code",
   "execution_count": 15,
   "metadata": {},
   "outputs": [],
   "source": [
    "inputT = \"\"\"Monkey 0:\n",
    "  Starting items: 75, 63\n",
    "  Operation: new = old * 3\n",
    "  Test: divisible by 11\n",
    "    If true: throw to monkey 7\n",
    "    If false: throw to monkey 2\n",
    "\n",
    "Monkey 1:\n",
    "  Starting items: 65, 79, 98, 77, 56, 54, 83, 94\n",
    "  Operation: new = old + 3\n",
    "  Test: divisible by 2\n",
    "    If true: throw to monkey 2\n",
    "    If false: throw to monkey 0\"\"\""
   ]
  },
  {
   "cell_type": "code",
   "execution_count": 34,
   "metadata": {},
   "outputs": [
    {
     "data": {
      "text/plain": [
       "['65', '79', '98', '77', '56', '54', '83', '94']"
      ]
     },
     "execution_count": 34,
     "metadata": {},
     "output_type": "execute_result"
    }
   ],
   "source": [
    "re.findall(r\"(\\d+)\", \"Starting items: 65, 79, 98, 77, 56, 54, 83, 94\")"
   ]
  },
  {
   "cell_type": "code",
   "execution_count": 37,
   "metadata": {},
   "outputs": [
    {
     "data": {
      "text/plain": [
       "<map at 0x7f477a418cd0>"
      ]
     },
     "execution_count": 37,
     "metadata": {},
     "output_type": "execute_result"
    }
   ],
   "source": [
    "map(int,re.findall(r\"(\\d+)\", \"Starting items: 65, 79, 98, 77, 56, 54, 83, 94\"))\n"
   ]
  },
  {
   "cell_type": "code",
   "execution_count": 3,
   "metadata": {},
   "outputs": [],
   "source": [
    "inputGroups = inputT.split('\\n\\n')"
   ]
  },
  {
   "cell_type": "code",
   "execution_count": 12,
   "metadata": {},
   "outputs": [
    {
     "data": {
      "text/plain": [
       "[['0', ('*', 3), (11, '7', '2')], ['1', ('+', 3), (2, '2', '0')]]"
      ]
     },
     "execution_count": 12,
     "metadata": {},
     "output_type": "execute_result"
    }
   ],
   "source": [
    "import re\n",
    "input_data = []\n",
    "\n",
    "for blob in inputGroups:\n",
    "    monkeyNum = re.findall(r\"Monkey (\\d)\",blob)[0]\n",
    "    temp = re.findall(r\"new = old (\\S) (\\d)\",blob)\n",
    "    op_vals = (temp[0][0],int(temp[0][1]))\n",
    "    #op_str = f\"x {opvals[0][0]}= {opvals[0][1]}\"\n",
    "    testDiv = re.findall(r\"by (\\d+)\",blob)[0]\n",
    "    testTrueTarg = re.findall(r\"true: throw to monkey (\\d+)\",blob)[0]\n",
    "    testFalseTarg = re.findall(r\"false: throw to monkey (\\d+)\",blob)[0]\n",
    "    test_vals = (int(testDiv),testTrueTarg,testFalseTarg)\n",
    "    #test_str = f\"if (math.floor(numb / 3) % {testDiv}: == 0: throwTo {testTrueTarg} else throwTo {testFalseTarg}\"\n",
    "    input_data.append([monkeyNum,op_vals,test_vals])\n",
    "\n",
    "input_data"
   ]
  },
  {
   "cell_type": "code",
   "execution_count": 25,
   "metadata": {},
   "outputs": [
    {
     "data": {
      "text/plain": [
       "'old + 3'"
      ]
     },
     "execution_count": 25,
     "metadata": {},
     "output_type": "execute_result"
    }
   ],
   "source": [
    "worry_op = \" Operation: new = old + 3\".split(\"=\")[-1].strip()\n",
    "worry_op"
   ]
  },
  {
   "cell_type": "code",
   "execution_count": 32,
   "metadata": {},
   "outputs": [
    {
     "name": "stdout",
     "output_type": "stream",
     "text": [
      "32 + 3\n"
     ]
    },
    {
     "data": {
      "text/plain": [
       "('32', '+', '3')"
      ]
     },
     "execution_count": 32,
     "metadata": {},
     "output_type": "execute_result"
    }
   ],
   "source": [
    "worry_op = worry_op.replace('old',str('32'))\n",
    "print(worry_op)\n",
    "re.findall(r\"(\\w+) (.) (\\w+)\",worry_op)[0]\n"
   ]
  },
  {
   "cell_type": "code",
   "execution_count": 144,
   "metadata": {},
   "outputs": [
    {
     "data": {
      "text/plain": [
       "2"
      ]
     },
     "execution_count": 144,
     "metadata": {},
     "output_type": "execute_result"
    }
   ],
   "source": [
    "12%5"
   ]
  },
  {
   "cell_type": "code",
   "execution_count": 145,
   "metadata": {},
   "outputs": [
    {
     "data": {
      "text/plain": [
       "3"
      ]
     },
     "execution_count": 145,
     "metadata": {},
     "output_type": "execute_result"
    }
   ],
   "source": [
    "18%5"
   ]
  },
  {
   "cell_type": "code",
   "execution_count": 151,
   "metadata": {},
   "outputs": [
    {
     "data": {
      "text/plain": [
       "True"
      ]
     },
     "execution_count": 151,
     "metadata": {},
     "output_type": "execute_result"
    }
   ],
   "source": [
    "1 % 10 == 101 % 10"
   ]
  }
 ],
 "metadata": {
  "kernelspec": {
   "display_name": "Python 3.10.6 64-bit",
   "language": "python",
   "name": "python3"
  },
  "language_info": {
   "codemirror_mode": {
    "name": "ipython",
    "version": 3
   },
   "file_extension": ".py",
   "mimetype": "text/x-python",
   "name": "python",
   "nbconvert_exporter": "python",
   "pygments_lexer": "ipython3",
   "version": "3.10.6 (main, Nov 14 2022, 16:10:14) [GCC 11.3.0]"
  },
  "orig_nbformat": 4,
  "vscode": {
   "interpreter": {
    "hash": "916dbcbb3f70747c44a77c7bcd40155683ae19c65e1c03b4aa3499c5328201f1"
   }
  }
 },
 "nbformat": 4,
 "nbformat_minor": 2
}
