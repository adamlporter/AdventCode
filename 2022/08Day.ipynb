{
 "cells": [
  {
   "cell_type": "markdown",
   "metadata": {},
   "source": [
    "https://adventofcode.com/2022/day/8"
   ]
  },
  {
   "cell_type": "code",
   "execution_count": 138,
   "metadata": {},
   "outputs": [
    {
     "data": {
      "text/plain": [
       "array([[ 1,  2,  3,  4, 13],\n",
       "       [ 5,  6,  7,  8, 14],\n",
       "       [ 9, 10, 11, 12, 15],\n",
       "       [16, 17, 18, 19, 20]])"
      ]
     },
     "execution_count": 138,
     "metadata": {},
     "output_type": "execute_result"
    }
   ],
   "source": [
    "import numpy as np\n",
    "a= np.array([[1, 2, 3, 4,13], [5, 6, 7, 8,14], [9, 10, 11, 12,15],[16,17,18,19,20]])\n",
    "a"
   ]
  },
  {
   "cell_type": "code",
   "execution_count": 28,
   "metadata": {},
   "outputs": [
    {
     "name": "stdout",
     "output_type": "stream",
     "text": [
      "[ 1  5  9 16] [ 5  6  7  8 14]\n"
     ]
    }
   ],
   "source": [
    "c1 = a[:,0] # all column values in row value 0 --> column of values\n",
    "r1 = a[1,:] # all row values in with column value 1 --> row of values\n",
    "print(c1,r1)"
   ]
  },
  {
   "cell_type": "code",
   "execution_count": 15,
   "metadata": {},
   "outputs": [
    {
     "name": "stdout",
     "output_type": "stream",
     "text": [
      "[1]|5|[ 9 16]\n",
      "hidden from right\n",
      "[1 5]|9|[16]\n",
      "hidden from right\n"
     ]
    }
   ],
   "source": [
    "for n in range(1,len(c1)-1): # go through all values in the row/col\n",
    "    tree = c1[n]\n",
    "    left = c1[:n]\n",
    "    right = c1[n+1:]\n",
    "    print(f\"{left}|{tree}|{right}\")\n",
    "    if tree < left.max():\n",
    "        print(\"hidden from left\")\n",
    "    if tree < right.max():\n",
    "        print('hidden from right')\n",
    "    "
   ]
  },
  {
   "cell_type": "markdown",
   "metadata": {},
   "source": [
    "OK, here's the strategy:\n",
    "1. read in the data, create an np.matrix\n",
    "1. create a second matrix of the same size, all TRUE\n",
    "1. go thru the matrix, creating arrays for each row and column\n",
    "1. for each value in the maxtrix, see if it is hidden from left and right (=up/down)\n",
    "1. if hidden, change TRUE to FALSE (Visible?)\n",
    "1. count N False"
   ]
  },
  {
   "cell_type": "code",
   "execution_count": 146,
   "metadata": {},
   "outputs": [],
   "source": [
    "test = '''30373\n",
    "25512\n",
    "65332\n",
    "33549\n",
    "35390'''\n"
   ]
  },
  {
   "cell_type": "code",
   "execution_count": 147,
   "metadata": {},
   "outputs": [
    {
     "data": {
      "text/plain": [
       "[[3, 0, 3, 7, 3],\n",
       " [2, 5, 5, 1, 2],\n",
       " [6, 5, 3, 3, 2],\n",
       " [3, 3, 5, 4, 9],\n",
       " [3, 5, 3, 9, 0]]"
      ]
     },
     "execution_count": 147,
     "metadata": {},
     "output_type": "execute_result"
    }
   ],
   "source": [
    "input =[]\n",
    "for line in test.split('\\n'):\n",
    "    line_lst = []\n",
    "    for n in line:\n",
    "        line_lst.append(int(n))\n",
    "    input.append(line_lst)\n",
    "input"
   ]
  },
  {
   "cell_type": "code",
   "execution_count": 148,
   "metadata": {},
   "outputs": [
    {
     "data": {
      "text/plain": [
       "array([[3, 0, 3, 7, 3],\n",
       "       [2, 5, 5, 1, 2],\n",
       "       [6, 5, 3, 3, 2],\n",
       "       [3, 3, 5, 4, 9],\n",
       "       [3, 5, 3, 9, 0]])"
      ]
     },
     "execution_count": 148,
     "metadata": {},
     "output_type": "execute_result"
    }
   ],
   "source": [
    "a=np.array(input)\n",
    "a"
   ]
  },
  {
   "cell_type": "code",
   "execution_count": 30,
   "metadata": {},
   "outputs": [
    {
     "name": "stdout",
     "output_type": "stream",
     "text": [
      "(5, 5)\n"
     ]
    }
   ],
   "source": [
    "print(a.shape)\n"
   ]
  },
  {
   "cell_type": "code",
   "execution_count": 75,
   "metadata": {},
   "outputs": [
    {
     "data": {
      "text/plain": [
       "array([[0, 0, 0, 0, 0],\n",
       "       [0, 0, 0, 0, 0],\n",
       "       [0, 0, 0, 0, 0],\n",
       "       [0, 0, 0, 0, 0],\n",
       "       [0, 0, 0, 0, 0]])"
      ]
     },
     "execution_count": 75,
     "metadata": {},
     "output_type": "execute_result"
    }
   ],
   "source": [
    "b=np.zeros(a.shape,dtype = int)\n",
    "b"
   ]
  },
  {
   "cell_type": "code",
   "execution_count": 16,
   "metadata": {},
   "outputs": [
    {
     "data": {
      "text/plain": [
       "array([[0, 0, 0, 0, 0],\n",
       "       [0, 0, 0, 1, 0],\n",
       "       [0, 0, 0, 0, 0],\n",
       "       [0, 0, 0, 0, 0],\n",
       "       [0, 0, 0, 0, 0]])"
      ]
     },
     "execution_count": 16,
     "metadata": {},
     "output_type": "execute_result"
    }
   ],
   "source": [
    "b[1,3] = 1\n",
    "b"
   ]
  },
  {
   "cell_type": "code",
   "execution_count": 33,
   "metadata": {},
   "outputs": [
    {
     "data": {
      "text/plain": [
       "array([[1, 1, 1, 1, 1],\n",
       "       [1, 0, 0, 0, 1],\n",
       "       [1, 0, 0, 0, 1],\n",
       "       [1, 0, 0, 0, 1],\n",
       "       [1, 1, 1, 1, 1]])"
      ]
     },
     "execution_count": 33,
     "metadata": {},
     "output_type": "execute_result"
    }
   ],
   "source": [
    "b[0,:] = 1\n",
    "b[4,:] = 1\n",
    "b[:,0] = 1\n",
    "b[:,4] = 1\n",
    "b"
   ]
  },
  {
   "cell_type": "code",
   "execution_count": null,
   "metadata": {},
   "outputs": [],
   "source": [
    "maxRow, maxCol = a.shape\n",
    "for i in range(1,maxRow):\n",
    "    testRow = a[i,:]\n",
    "    for j in range(1,len(testRow)-1):\n",
    "        tree = testRow[j]\n",
    "        left = testRow[:j]\n",
    "        right = testRow[j+1:]\n",
    "        print(f\"({i},{j})  |  {left.max()} |{tree}| {right.max()}\")\n",
    "        if tree > left.max() or tree > right.max():\n",
    "            b[i,j] = 1\n",
    "b"
   ]
  },
  {
   "cell_type": "code",
   "execution_count": 55,
   "metadata": {},
   "outputs": [
    {
     "data": {
      "text/plain": [
       "array([[1, 1, 1, 1, 1],\n",
       "       [1, 1, 1, 0, 1],\n",
       "       [1, 1, 0, 1, 1],\n",
       "       [1, 0, 1, 0, 1],\n",
       "       [1, 1, 1, 1, 1]])"
      ]
     },
     "execution_count": 55,
     "metadata": {},
     "output_type": "execute_result"
    }
   ],
   "source": [
    "maxRow, maxCol = a.shape\n",
    "for i in range(1,maxCol):\n",
    "    testRow = a[:,i]\n",
    "    for j in range(1,len(testRow)-1):\n",
    "        tree = testRow[j]\n",
    "        left = testRow[:j]\n",
    "        right = testRow[j+1:]\n",
    "        if tree > left.max() or tree > right.max():\n",
    "            b[i,j] = 1\n",
    "b"
   ]
  },
  {
   "cell_type": "code",
   "execution_count": 64,
   "metadata": {},
   "outputs": [
    {
     "data": {
      "text/plain": [
       "1560"
      ]
     },
     "execution_count": 64,
     "metadata": {},
     "output_type": "execute_result"
    }
   ],
   "source": [
    "a=np.array(input)\n",
    "b=np.zeros(a.shape,dtype = int)\n",
    "maxRow, maxCol = a.shape\n",
    "b[0,:], b[maxRow-1,:],b[:,0], b[:,maxCol-1] = 1, 1, 1, 1 # edges are visible (=1)\n",
    "\n",
    "for col in range(1,maxCol-1):\n",
    "    for row in range(1,maxRow-1):\n",
    "        test_row = a[:,row] \n",
    "        test_col = a[col,:]\n",
    "        tree = a[col,row]\n",
    "        above = test_col[:row]\n",
    "        below = test_col[row+1:]\n",
    "        left = test_row[:col]\n",
    "        right = test_row[col+1:]\n",
    "        #print(f\"({col},{row}) T:{tree} A:{above} B:{below} L:{left} R:{right}\")\n",
    "        if tree > above.max() or tree.max() > below.max() or tree > left.max() or tree > right.max():\n",
    "            b[col,row] = 1\n",
    "            #print('visible')\n",
    "        #else:\n",
    "            #b[col,row] = 0\n",
    "            #print('not visible')\n",
    "\n",
    "np.count_nonzero(b)"
   ]
  },
  {
   "cell_type": "code",
   "execution_count": 55,
   "metadata": {},
   "outputs": [
    {
     "data": {
      "text/plain": [
       "array([[0, 0, 0, 0, 0],\n",
       "       [0, 1, 1, 0, 0],\n",
       "       [0, 1, 0, 0, 0],\n",
       "       [0, 1, 0, 0, 0],\n",
       "       [0, 0, 0, 0, 0]])"
      ]
     },
     "execution_count": 55,
     "metadata": {},
     "output_type": "execute_result"
    }
   ],
   "source": [
    "b"
   ]
  },
  {
   "cell_type": "code",
   "execution_count": 56,
   "metadata": {},
   "outputs": [
    {
     "data": {
      "text/plain": [
       "21"
      ]
     },
     "execution_count": 56,
     "metadata": {},
     "output_type": "execute_result"
    }
   ],
   "source": [
    "np.count_nonzero(b)"
   ]
  },
  {
   "cell_type": "markdown",
   "metadata": {},
   "source": [
    "OK, the test works. Now let's try it with the actual data. . . "
   ]
  },
  {
   "cell_type": "code",
   "execution_count": 157,
   "metadata": {},
   "outputs": [],
   "source": [
    "wdir = '/home/alp/Google Drive/Python/AdventCode/2022'\n",
    "with open (f\"{wdir}/08input.txt\") as f_in:\n",
    "    data = f_in.read().split('\\n')\n",
    "\n",
    "input =[]\n",
    "for line in data:\n",
    "    line_lst = []\n",
    "    for n in line:\n",
    "        line_lst.append(int(n))\n",
    "    input.append(line_lst)\n",
    "#input"
   ]
  },
  {
   "cell_type": "code",
   "execution_count": 26,
   "metadata": {},
   "outputs": [
    {
     "data": {
      "text/plain": [
       "6945"
      ]
     },
     "execution_count": 26,
     "metadata": {},
     "output_type": "execute_result"
    }
   ],
   "source": [
    "import numpy as np\n",
    "\n",
    "a=np.array(input)\n",
    "b=np.zeros(a.shape,dtype = int)\n",
    "maxRow, maxCol = a.shape\n",
    "b[0,:], b[maxRow-1,:],b[:,0], b[:,maxCol-1] = 1, 1, 1, 1 # edges are visible (=1)\n",
    "# check rows:\n",
    "for row_num in range(1,maxRow): # i = row number\n",
    "    test_array = a[row_num,:]\n",
    "    for col_num in range(1,len(testRow)-1): # j = column number\n",
    "        tree = test_array[j]\n",
    "        left = test_array[:j]\n",
    "        right = test_array[j+1:]\n",
    "        if tree > left.max() or tree > right.max(): # if taller than trees to left or right, it's visible (=1)\n",
    "            b[col_num,row_num] = 1\n",
    "\n",
    "# check cols:\n",
    "for col_num in range(1,maxCol): # i = col number\n",
    "    test_array = a[:,col_num]\n",
    "    for row_num in range(1,len(testRow)-1): # j = row number\n",
    "        tree = test_array[j]\n",
    "        left = test_array[:j]\n",
    "        right = test_array[j+1:]\n",
    "        if tree > left.max() or tree > right.max():\n",
    "            b[col_num,row_num] = 1\n",
    "\n",
    "np.count_nonzero(b)"
   ]
  },
  {
   "cell_type": "markdown",
   "metadata": {},
   "source": [
    "Solutions:\n",
    "Submitted 1132 (wrong)\n",
    "  I realized that I wasn't referencing the B matrix correctly (a,b) = (row,col). \n",
    "  \n",
    "  (WTF would they do this when all math grid systems are x,y == col,row?)\n",
    "  \n",
    "  So in the #check rows routine, the b matrix needs to be referenced as b[j,i], but in the #check cols, it needs to be b[i,j]\n",
    "Submitted 1801 (wrong)\n",
    "  This value is too high. \n",
    "\n",
    "How numpy addresses columns and rows is confusing me.\n",
    "I rewrote the code to use one loop and better variable names, to help make things clearer.\n",
    "And I got the right value:\n",
    "  1560"
   ]
  },
  {
   "cell_type": "code",
   "execution_count": 160,
   "metadata": {},
   "outputs": [
    {
     "data": {
      "text/plain": [
       "1560"
      ]
     },
     "execution_count": 160,
     "metadata": {},
     "output_type": "execute_result"
    }
   ],
   "source": [
    "a=np.array(input)\n",
    "b=np.zeros(a.shape,dtype = int)\n",
    "maxRow, maxCol = a.shape\n",
    "b[0,:], b[maxRow-1,:],b[:,0], b[:,maxCol-1] = 1, 1, 1, 1 # edges are visible (=1)\n",
    "\n",
    "for col in range(1,maxCol-1):\n",
    "    for row in range(1,maxRow-1):\n",
    "        test_row = a[row,:] \n",
    "        test_col = a[:,col]\n",
    "        tree = a[row,col]\n",
    "        \n",
    "        above = test_col[:row]\n",
    "        below = test_col[row+1:]\n",
    "        left = test_row[:col]\n",
    "        right = test_row[col+1:]\n",
    "        #print(f\"({col},{row}) T:{tree} A:{above} B:{below} L:{left} R:{right}\")\n",
    "        if tree > above.max() or tree.max() > below.max() or tree > left.max() or tree > right.max():\n",
    "            b[row,col] = 1\n",
    "            #print('visible')\n",
    "        #else:\n",
    "            #b[col,row] = 0\n",
    "            #print('not visible')\n",
    "\n",
    "np.count_nonzero(b)"
   ]
  },
  {
   "cell_type": "markdown",
   "metadata": {},
   "source": [
    "Part two: for a tree, how far is it to the edge of the map or to a tree of equal or greater height?\n",
    "\n",
    "1. Same input and data matrix\n",
    "1. Basic algorythm is the same (look at each tree).\n",
    "1. test conditions are different: from tree, how far is it to a tree of equal or greater height?"
   ]
  },
  {
   "cell_type": "markdown",
   "metadata": {},
   "source": [
    "The trick here is that\n",
    "1. we need to reverse the lists when looking up and left, since we need to think about what can be seen from the tree\n",
    "1. We need to create a function that counts how far it is to the next tree of equal height"
   ]
  },
  {
   "cell_type": "code",
   "execution_count": 151,
   "metadata": {},
   "outputs": [
    {
     "name": "stdout",
     "output_type": "stream",
     "text": [
      "(2,3) T:5 A:[3 5 3] B:[3] L:[3 3] R:[4 9]\n"
     ]
    }
   ],
   "source": [
    "col = 2\n",
    "row = 3\n",
    "#test_row = a[:,row] \n",
    "#test_col = a[col,:]\n",
    "test_row = a[row,:] \n",
    "test_col = a[:,col]\n",
    "tree = a[row,col]\n",
    "above = test_col[row-1::-1]\n",
    "below = test_col[row+1:]\n",
    "left = test_row[col-1::-1]\n",
    "right = test_row[col+1:]\n",
    "print(f\"({col},{row}) T:{tree} A:{above} B:{below} L:{left} R:{right}\")"
   ]
  },
  {
   "cell_type": "code",
   "execution_count": 139,
   "metadata": {},
   "outputs": [
    {
     "data": {
      "text/plain": [
       "array([[ 1,  2,  3,  4, 13],\n",
       "       [ 5,  6,  7,  8, 14],\n",
       "       [ 9, 10, 11, 12, 15],\n",
       "       [16, 17, 18, 19, 20]])"
      ]
     },
     "execution_count": 139,
     "metadata": {},
     "output_type": "execute_result"
    }
   ],
   "source": [
    "a"
   ]
  },
  {
   "cell_type": "code",
   "execution_count": 144,
   "metadata": {},
   "outputs": [],
   "source": [
    "def dist_of_view(tree,view):\n",
    "    for i in range(len(view)):\n",
    "        if tree <= view[i]:\n",
    "            #print(i)\n",
    "            return i+1\n",
    "    return i+1"
   ]
  },
  {
   "cell_type": "code",
   "execution_count": 152,
   "metadata": {},
   "outputs": [
    {
     "name": "stdout",
     "output_type": "stream",
     "text": [
      "[3 5 3] 2\n",
      "[3] 1\n",
      "[3 3] 2\n",
      "[4 9] 2\n",
      "8\n"
     ]
    }
   ],
   "source": [
    "views = [above,below,left,right]\n",
    "product = 1\n",
    "for view in views:\n",
    "    print(view,dist_of_view(tree,view))\n",
    "    product *= dist_of_view(tree,view)\n",
    "\n",
    "print(product)"
   ]
  },
  {
   "cell_type": "markdown",
   "metadata": {},
   "source": [
    "OK, now I've got the syntax down and the testing working.\n",
    "\n",
    "(Again, WTF is the address (row,col)? Stupid)"
   ]
  },
  {
   "cell_type": "code",
   "execution_count": 158,
   "metadata": {},
   "outputs": [
    {
     "data": {
      "text/plain": [
       "252000"
      ]
     },
     "execution_count": 158,
     "metadata": {},
     "output_type": "execute_result"
    }
   ],
   "source": [
    "a=np.array(input)\n",
    "b=np.zeros(a.shape,dtype = int)\n",
    "maxRow, maxCol = a.shape\n",
    "b[0,:], b[maxRow-1,:],b[:,0], b[:,maxCol-1] = 1, 1, 1, 1 # edges are visible (=1)\n",
    "\n",
    "def dist_of_view(tree,view):\n",
    "    for i in range(len(view)):\n",
    "        if tree <= view[i]:\n",
    "            #print(i)\n",
    "            return i+1 # b/c indexing is zero based!\n",
    "    return i+1 # this is for the edges\n",
    "\n",
    "for col in range(1,maxCol-1):\n",
    "    for row in range(1,maxRow-1):\n",
    "        test_row = a[row,:] \n",
    "        test_col = a[:,col]\n",
    "        tree = a[row,col]\n",
    "        \n",
    "        above = test_col[row-1::-1]\n",
    "        below = test_col[row+1:]\n",
    "        left = test_row[col-1::-1]\n",
    "        right = test_row[col+1:]\n",
    "        \n",
    "        views = [above,below,left,right]\n",
    "        product = 1\n",
    "        for view in views:\n",
    "            #print(view,dist_of_view(tree,view))\n",
    "            product *= dist_of_view(tree,view)\n",
    "        b[row,col] = product\n",
    "\n",
    "b.max()"
   ]
  },
  {
   "cell_type": "markdown",
   "metadata": {},
   "source": [
    "Go it correct on first attempt!"
   ]
  }
 ],
 "metadata": {
  "kernelspec": {
   "display_name": "Python 3.10.6 64-bit",
   "language": "python",
   "name": "python3"
  },
  "language_info": {
   "codemirror_mode": {
    "name": "ipython",
    "version": 3
   },
   "file_extension": ".py",
   "mimetype": "text/x-python",
   "name": "python",
   "nbconvert_exporter": "python",
   "pygments_lexer": "ipython3",
   "version": "3.10.6"
  },
  "orig_nbformat": 4,
  "vscode": {
   "interpreter": {
    "hash": "916dbcbb3f70747c44a77c7bcd40155683ae19c65e1c03b4aa3499c5328201f1"
   }
  }
 },
 "nbformat": 4,
 "nbformat_minor": 2
}
