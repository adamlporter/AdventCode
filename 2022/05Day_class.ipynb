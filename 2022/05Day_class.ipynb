{
 "cells": [
  {
   "cell_type": "code",
   "execution_count": 107,
   "metadata": {},
   "outputs": [],
   "source": [
    "class Stack:\n",
    "    def __init__(self,stack_id:int,crates:list) -> None:\n",
    "        self.stack_id = stack_id\n",
    "        self.crates = crates\n",
    "    \n",
    "    def add_crate(self,crate:str):\n",
    "        self.crates.append(crate)\n",
    "\n",
    "    def move_to(self, other: Stack):\n",
    "        other.add_crate(self.crates.pop(-1))\n",
    "\n",
    "    def batch_move_to(self,num_crates:int,other:Stack):\n",
    "            chunk = self.crates[len(self.crates)-num_crates:] # find the chunk of crates to move\n",
    "            del self.crates[len(self.crates)-num_crates:] # remove the chunk from self\n",
    "            other.crates.extend(chunk) # add chunk of crates to target\n",
    "\n"
   ]
  },
  {
   "cell_type": "code",
   "execution_count": 40,
   "metadata": {},
   "outputs": [],
   "source": [
    "cargo = []\n",
    "stack_id = 1\n",
    "sample = ['NZ','DCM','P']\n",
    "for samp in sample:\n",
    "    stack = Stack(stack_id=stack_id, crates = [letter for letter in samp] )\n",
    "    cargo.append(stack)\n",
    "    stack_id += 1"
   ]
  },
  {
   "cell_type": "code",
   "execution_count": 41,
   "metadata": {},
   "outputs": [
    {
     "name": "stdout",
     "output_type": "stream",
     "text": [
      "1 ['N', 'Z']\n",
      "2 ['D', 'C', 'M']\n",
      "3 ['P']\n"
     ]
    }
   ],
   "source": [
    "for car in cargo:\n",
    "    print(car.stack_id,car.crates)"
   ]
  },
  {
   "cell_type": "code",
   "execution_count": 42,
   "metadata": {},
   "outputs": [],
   "source": [
    "cargo[1].move_to(cargo[0])"
   ]
  },
  {
   "cell_type": "code",
   "execution_count": 43,
   "metadata": {},
   "outputs": [
    {
     "name": "stdout",
     "output_type": "stream",
     "text": [
      "1 ['N', 'Z', 'M']\n",
      "2 ['D', 'C']\n",
      "3 ['P']\n"
     ]
    }
   ],
   "source": [
    "for car in cargo:\n",
    "    print(car.stack_id,car.crates)"
   ]
  },
  {
   "cell_type": "code",
   "execution_count": 44,
   "metadata": {},
   "outputs": [],
   "source": [
    "for i in range(0,2):\n",
    "    cargo[1].move_to(cargo[2])"
   ]
  },
  {
   "cell_type": "code",
   "execution_count": 45,
   "metadata": {},
   "outputs": [
    {
     "name": "stdout",
     "output_type": "stream",
     "text": [
      "1 ['N', 'Z', 'M']\n",
      "2 []\n",
      "3 ['P', 'C', 'D']\n"
     ]
    }
   ],
   "source": [
    "for car in cargo:\n",
    "    print(car.stack_id,car.crates)"
   ]
  },
  {
   "attachments": {},
   "cell_type": "markdown",
   "metadata": {},
   "source": [
    "OK, so I think I've got all the individual steps worked out. Let's put it together...."
   ]
  },
  {
   "cell_type": "code",
   "execution_count": 68,
   "metadata": {},
   "outputs": [],
   "source": [
    "# load the initial crate state\n",
    "#start = ['ZPBQMDN','VHDMQZLC','GZFVDRHQ','NFDGH','QFN','TBFZVQD','HSVDZTMQ','QNPFGM','MRWB']\n",
    "sample = ['NZ','DCM','P']\n",
    "\n",
    "\n",
    "cargo = []\n",
    "stack_id = 1\n",
    "#sample = ['NZ','DCM','P']\n",
    "for samp in sample:\n",
    "    stack = Stack(stack_id=stack_id, crates = [letter for letter in samp])\n",
    "    cargo.append(stack)\n",
    "    stack_id += 1"
   ]
  },
  {
   "cell_type": "code",
   "execution_count": 71,
   "metadata": {},
   "outputs": [],
   "source": [
    "# get the movement list\n",
    "wdir = '/home/alp/Google Drive/Python/AdventCode/2022'\n",
    "with open (f\"{wdir}/05input.txt\") as f_in:\n",
    "    #data = f_in.readlines()\n",
    "    move_list = f_in.read().split('\\n')"
   ]
  },
  {
   "cell_type": "code",
   "execution_count": 69,
   "metadata": {},
   "outputs": [
    {
     "name": "stdout",
     "output_type": "stream",
     "text": [
      "1 ['Z', 'N']\n",
      "2 ['M', 'C', 'D']\n",
      "3 ['P']\n",
      "move 1 from 2 to 1\n",
      "1 ['Z', 'N', 'D']\n",
      "2 ['M', 'C']\n",
      "3 ['P']\n",
      "move 3 from 1 to 3\n",
      "1 []\n",
      "2 ['M', 'C']\n",
      "3 ['P', 'D', 'N', 'Z']\n",
      "move 2 from 2 to 1\n",
      "1 ['C', 'M']\n",
      "2 []\n",
      "3 ['P', 'D', 'N', 'Z']\n",
      "move 1 from 1 to 2\n",
      "1 ['C']\n",
      "2 ['M']\n",
      "3 ['P', 'D', 'N', 'Z']\n"
     ]
    }
   ],
   "source": [
    "test_moves = ['move 1 from 2 to 1','move 3 from 1 to 3','move 2 from 2 to 1','move 1 from 1 to 2']\n",
    "\n",
    "for car in cargo:\n",
    "    print(car.stack_id,car.crates)\n",
    "\n",
    "for move in test_moves:\n",
    "    #result = [int(x) for x in re.findall(r\"\\d+\",'move 31 from 222 to 5')]\n",
    "    number, stack1, stack2 = [int(x) for x in re.findall(r\"\\d+\",move)]\n",
    "    print(move)\n",
    "    for i in range(0,number):\n",
    "        cargo[stack1-1].move_to(cargo[stack2-1])\n",
    "\n",
    "    for car in cargo:\n",
    "        print(car.stack_id,car.crates)\n",
    "\n"
   ]
  },
  {
   "cell_type": "code",
   "execution_count": 50,
   "metadata": {},
   "outputs": [
    {
     "name": "stdout",
     "output_type": "stream",
     "text": [
      "1 ['N']\n",
      "2 ['D', 'F', 'V', 'Q']\n",
      "3 ['D', 'Q', 'B', 'D']\n",
      "4 ['N']\n",
      "5 ['R']\n",
      "6 ['R', 'H']\n",
      "7 ['Z', 'L', 'Z', 'W', 'N', 'P', 'M', 'H', 'D', 'D', 'M', 'Z', 'Z', 'V', 'F', 'F', 'V', 'S', 'V', 'H', 'H', 'G', 'Z', 'T', 'M']\n",
      "8 ['F', 'D', 'B', 'M', 'M', 'N', 'G', 'Q', 'B', 'Q', 'Q', 'G', 'Q', 'P', 'Q']\n",
      "9 ['T', 'F', 'C']\n",
      "NQDNRHMQC\n"
     ]
    }
   ],
   "source": [
    "# process the list\n",
    "import re\n",
    "#result = [int(x) for x in re.findall(r\"\\d+\",'move 31 from 222 to 5')]\n",
    "for move in move_list:\n",
    "    #print(line)\n",
    "    number, stack1, stack2 = [int(x) for x in re.findall(r\"\\d+\",move)]\n",
    "    for i in range(0,number):\n",
    "        cargo[stack1-1].move_to(cargo[stack2-1])\n",
    "\n",
    "result = ''\n",
    "for car in cargo:\n",
    "    print(car.stack_id,car.crates)\n",
    "    result += car.crates[-1]\n",
    "\n",
    "print(result)\n"
   ]
  },
  {
   "attachments": {},
   "cell_type": "markdown",
   "metadata": {},
   "source": [
    "This is incorrect -- the problem is that I'm loading the crates backwards. My system expects the top crate to be at the end of the list, so I need to reverse the list as I read in the initial data."
   ]
  },
  {
   "cell_type": "code",
   "execution_count": 80,
   "metadata": {},
   "outputs": [],
   "source": [
    "# load the initial crate state\n",
    "start = ['ZPBQMDN','VHDMQZLC','GZFVDRHQ','NFDGH','QFN','TBFZVQD','HSVDZTMQ','QNPFGM','MRWB']\n",
    "\n",
    "cargo = []\n",
    "stack_id = 1\n",
    "for samp in start:\n",
    "    stack = Stack(stack_id=stack_id, crates = [letter for letter in samp][::-1] )\n",
    "    cargo.append(stack)\n",
    "    stack_id += 1"
   ]
  },
  {
   "cell_type": "code",
   "execution_count": 82,
   "metadata": {},
   "outputs": [],
   "source": [
    "# get the movement list\n",
    "wdir = '/home/alp/Google Drive/Python/AdventCode/2022'\n",
    "with open (f\"{wdir}/05input.txt\") as f_in:\n",
    "    #data = f_in.readlines()\n",
    "    move_list = f_in.read().split('\\n')"
   ]
  },
  {
   "cell_type": "code",
   "execution_count": 83,
   "metadata": {},
   "outputs": [
    {
     "name": "stdout",
     "output_type": "stream",
     "text": [
      "1 ['Q']\n",
      "2 ['Z', 'R', 'T', 'G']\n",
      "3 ['P', 'Q', 'M', 'T']\n",
      "4 ['H']\n",
      "5 ['F']\n",
      "6 ['W', 'Z']\n",
      "7 ['D', 'H', 'D', 'R', 'Z', 'F', 'Q', 'Q', 'V', 'D', 'Q', 'N', 'Z', 'F', 'V', 'F', 'D', 'M', 'C', 'L', 'N', 'N', 'H', 'V', 'B']\n",
      "8 ['P', 'Z', 'M', 'B', 'S', 'G', 'F', 'B', 'Q', 'N', 'M', 'Q', 'M', 'D', 'H']\n",
      "9 ['D', 'G', 'V']\n",
      "QGTHFZBHV\n"
     ]
    }
   ],
   "source": [
    "# process the list\n",
    "import re\n",
    "for move in move_list:\n",
    "    number, stack1, stack2 = [int(x) for x in re.findall(r\"\\d+\",move)]\n",
    "    for i in range(0,number):\n",
    "        cargo[stack1-1].move_to(cargo[stack2-1])\n",
    "\n",
    "result = ''\n",
    "for car in cargo:\n",
    "    print(car.stack_id,car.crates)\n",
    "    result += car.crates[-1]\n",
    "\n",
    "print(result)\n"
   ]
  },
  {
   "attachments": {},
   "cell_type": "markdown",
   "metadata": {},
   "source": [
    "Instead of moving letters individually, now can move as groups.\n",
    "\n",
    "I will edit the Stack class to add:\n",
    "```\n",
    "    def batch_move_to(self,num_crates:int,other:Stack):\n",
    "        chunk = self.crates[len(self.crates)-num_crates:] # find the chunk of crates to move\n",
    "        del self.crates[len(self.crates)-num_crates:] # remove the chunk from self\n",
    "        other.crates.extend(chunk) # add chunk of crates to target\n",
    "```"
   ]
  },
  {
   "cell_type": "code",
   "execution_count": 108,
   "metadata": {},
   "outputs": [],
   "source": [
    "# load the initial crate state\n",
    "#start = ['ZPBQMDN','VHDMQZLC','GZFVDRHQ','NFDGH','QFN','TBFZVQD','HSVDZTMQ','QNPFGM','MRWB']\n",
    "sample = ['NZ','DCM','P']\n",
    "\n",
    "\n",
    "cargo = []\n",
    "stack_id = 1\n",
    "#sample = ['NZ','DCM','P']\n",
    "for samp in sample:\n",
    "    stack = Stack(stack_id=stack_id, crates = [letter for letter in samp][::-1])\n",
    "    cargo.append(stack)\n",
    "    stack_id += 1"
   ]
  },
  {
   "cell_type": "code",
   "execution_count": 109,
   "metadata": {},
   "outputs": [
    {
     "name": "stdout",
     "output_type": "stream",
     "text": [
      "1 ['Z', 'N']\n",
      "2 ['M', 'C', 'D']\n",
      "3 ['P']\n",
      "move 1 from 2 to 1\n",
      "1 ['Z', 'N', 'D']\n",
      "2 ['M', 'C']\n",
      "3 ['P']\n",
      "move 3 from 1 to 3\n",
      "1 []\n",
      "2 ['M', 'C']\n",
      "3 ['P', 'Z', 'N', 'D']\n",
      "move 2 from 2 to 1\n",
      "1 ['M', 'C']\n",
      "2 []\n",
      "3 ['P', 'Z', 'N', 'D']\n",
      "move 1 from 1 to 2\n",
      "1 ['M']\n",
      "2 ['C']\n",
      "3 ['P', 'Z', 'N', 'D']\n"
     ]
    }
   ],
   "source": [
    "test_moves = ['move 1 from 2 to 1','move 3 from 1 to 3','move 2 from 2 to 1','move 1 from 1 to 2']\n",
    "\n",
    "for car in cargo:\n",
    "    print(car.stack_id,car.crates)\n",
    "\n",
    "for move in test_moves:\n",
    "    #result = [int(x) for x in re.findall(r\"\\d+\",'move 31 from 222 to 5')]\n",
    "    number, stack1, stack2 = [int(x) for x in re.findall(r\"\\d+\",move)]\n",
    "    print(move)\n",
    "    cargo[stack1-1].batch_move_to(number,cargo[stack2-1])\n",
    "\n",
    "    for car in cargo:\n",
    "        print(car.stack_id,car.crates)\n",
    "\n"
   ]
  },
  {
   "attachments": {},
   "cell_type": "markdown",
   "metadata": {},
   "source": [
    "Test works correctly. Try on the actual data..."
   ]
  },
  {
   "cell_type": "code",
   "execution_count": 110,
   "metadata": {},
   "outputs": [
    {
     "name": "stdout",
     "output_type": "stream",
     "text": [
      "1 ['M']\n",
      "2 ['R', 'P', 'H', 'G']\n",
      "3 ['N', 'H', 'F', 'D']\n",
      "4 ['M']\n",
      "5 ['P']\n",
      "6 ['Z', 'S']\n",
      "7 ['D', 'Z', 'C', 'D', 'F', 'V', 'R', 'D', 'M', 'D', 'Z', 'B', 'V', 'D', 'Q', 'W', 'Q', 'Q', 'F', 'N', 'B', 'V', 'F', 'F', 'Z']\n",
      "8 ['L', 'M', 'V', 'Q', 'Q', 'B', 'T', 'N', 'G', 'H', 'G', 'N', 'Q', 'H', 'T']\n",
      "9 ['Z', 'Q', 'M']\n",
      "MGDMPSZTM\n"
     ]
    }
   ],
   "source": [
    "# load the initial crate state\n",
    "start = ['ZPBQMDN','VHDMQZLC','GZFVDRHQ','NFDGH','QFN','TBFZVQD','HSVDZTMQ','QNPFGM','MRWB']\n",
    "\n",
    "cargo = []\n",
    "stack_id = 1\n",
    "for samp in start:\n",
    "    stack = Stack(stack_id=stack_id, crates = [letter for letter in samp][::-1] )\n",
    "    cargo.append(stack)\n",
    "    stack_id += 1\n",
    "\n",
    "# get the movement list\n",
    "wdir = '/home/alp/Google Drive/Python/AdventCode/2022'\n",
    "with open (f\"{wdir}/05input.txt\") as f_in:\n",
    "    #data = f_in.readlines()\n",
    "    move_list = f_in.read().split('\\n')\n",
    "\n",
    "for move in move_list:\n",
    "    #result = [int(x) for x in re.findall(r\"\\d+\",'move 31 from 222 to 5')]\n",
    "    number, stack1, stack2 = [int(x) for x in re.findall(r\"\\d+\",move)]\n",
    "    cargo[stack1-1].batch_move_to(number,cargo[stack2-1])\n",
    "\n",
    "result = ''\n",
    "for car in cargo:\n",
    "    print(car.stack_id,car.crates)\n",
    "    result += car.crates[-1]\n",
    "\n",
    "print(result)\n"
   ]
  }
 ],
 "metadata": {
  "kernelspec": {
   "display_name": "Python 3",
   "language": "python",
   "name": "python3"
  },
  "language_info": {
   "codemirror_mode": {
    "name": "ipython",
    "version": 3
   },
   "file_extension": ".py",
   "mimetype": "text/x-python",
   "name": "python",
   "nbconvert_exporter": "python",
   "pygments_lexer": "ipython3",
   "version": "3.10.6"
  },
  "orig_nbformat": 4,
  "vscode": {
   "interpreter": {
    "hash": "916dbcbb3f70747c44a77c7bcd40155683ae19c65e1c03b4aa3499c5328201f1"
   }
  }
 },
 "nbformat": 4,
 "nbformat_minor": 2
}
