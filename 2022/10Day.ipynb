{
 "cells": [
  {
   "cell_type": "markdown",
   "metadata": {},
   "source": [
    "https://adventofcode.com/2022/day/10\n",
    "\n",
    "X value set by input\n",
    "noop = nothing\n",
    "addx +/-num (takes two cycles to affect)\n"
   ]
  },
  {
   "cell_type": "code",
   "execution_count": 38,
   "metadata": {},
   "outputs": [],
   "source": [
    "input = '''noop\n",
    "addx 3\n",
    "addx -5\n",
    "noop\n",
    "noop'''"
   ]
  },
  {
   "cell_type": "code",
   "execution_count": 18,
   "metadata": {},
   "outputs": [
    {
     "name": "stdout",
     "output_type": "stream",
     "text": [
      "noop\n",
      "0\n",
      "addx 3\n",
      "3\n",
      "addx -5\n",
      "-5\n",
      "noop\n",
      "0\n",
      "noop\n",
      "0\n"
     ]
    }
   ],
   "source": [
    "for line in input.split('\\n'):\n",
    "    print(line)\n",
    "    if 'noop' in line:\n",
    "        val = 0\n",
    "    else:\n",
    "        _, val = line.split( )\n",
    "    print(val)"
   ]
  },
  {
   "cell_type": "code",
   "execution_count": 5,
   "metadata": {},
   "outputs": [
    {
     "data": {
      "text/plain": [
       "True"
      ]
     },
     "execution_count": 5,
     "metadata": {},
     "output_type": "execute_result"
    }
   ],
   "source": [
    "line = 'noop'\n",
    "'noop' in line"
   ]
  },
  {
   "cell_type": "code",
   "execution_count": 7,
   "metadata": {},
   "outputs": [
    {
     "data": {
      "text/plain": [
       "'3'"
      ]
     },
     "execution_count": 7,
     "metadata": {},
     "output_type": "execute_result"
    }
   ],
   "source": [
    "line = 'addx 3'\n",
    "_, val = line.split( )\n",
    "val"
   ]
  },
  {
   "cell_type": "code",
   "execution_count": 42,
   "metadata": {},
   "outputs": [
    {
     "name": "stdout",
     "output_type": "stream",
     "text": [
      "noop\n",
      "cycle: 1, now:0, next:0, next2:0, end cycle xval: 1\n",
      "addx 3\n",
      "cycle: 2, now:0, next:0, next2:3, end cycle xval: 1\n",
      "addx -5\n",
      "cycle: 3, now:0, next:3, next2:-5, end cycle xval: 1\n",
      "noop\n",
      "cycle: 4, now:3, next:-5, next2:0, end cycle xval: 4\n",
      "noop\n",
      "cycle: 5, now:-5, next:0, next2:0, end cycle xval: -1\n"
     ]
    }
   ],
   "source": [
    "now, next1,next2  = 0,0,0\n",
    "x = 1\n",
    "cycle = 1\n",
    "for line in input.split('\\n'):\n",
    "    #print(line)\n",
    "    if 'noop' in line:\n",
    "        next2 = 0\n",
    "        x += now\n",
    "        print('noop')\n",
    "    else:\n",
    "        _, val = line.split( )\n",
    "        next2 = int(val)\n",
    "        x += now\n",
    "        print(f\"addx {val}\")\n",
    "    print(f\"cycle: {cycle}, now:{now}, next:{next1}, next2:{next2}, end cycle xval: {x}\")\n",
    "    now = next1\n",
    "    next1 = next2\n",
    "    cycle += 1"
   ]
  },
  {
   "cell_type": "markdown",
   "metadata": {},
   "source": [
    "This is close to the desc:\n",
    "\n",
    "* At the start of the first cycle, the noop instruction begins execution. During the first cycle, X is 1. After the first cycle, the noop instruction finishes execution, doing nothing. `So X = 1`\n",
    "* At the start of the second cycle, the addx 3 instruction begins execution. During the second cycle, X is still 1.\n",
    "* During the third cycle, X is still 1. After the third cycle, the addx 3 instruction finishes execution, setting X to 4. `my code has x=1`\n",
    "* At the start of the fourth cycle, the addx -5 instruction begins execution. During the fourth cycle, X is still 4.\n",
    "* During the fifth cycle, X is still 4. After the fifth cycle, the addx -5 instruction finishes execution, setting X to -1.\n",
    "\n",
    "I don't understand the description above -- so let's try the longer input to see what happens. . ."
   ]
  },
  {
   "cell_type": "code",
   "execution_count": 76,
   "metadata": {},
   "outputs": [],
   "source": [
    "input = '''addx 15\n",
    "addx -11\n",
    "addx 6\n",
    "addx -3\n",
    "addx 5\n",
    "addx -1\n",
    "addx -8\n",
    "addx 13\n",
    "addx 4\n",
    "noop\n",
    "addx -1\n",
    "addx 5\n",
    "addx -1\n",
    "addx 5\n",
    "addx -1\n",
    "addx 5\n",
    "addx -1\n",
    "addx 5\n",
    "addx -1\n",
    "addx -35\n",
    "addx 1\n",
    "addx 24\n",
    "addx -19\n",
    "addx 1\n",
    "addx 16\n",
    "addx -11\n",
    "noop\n",
    "noop\n",
    "addx 21\n",
    "addx -15\n",
    "noop\n",
    "noop\n",
    "addx -3\n",
    "addx 9\n",
    "addx 1\n",
    "addx -3\n",
    "addx 8\n",
    "addx 1\n",
    "addx 5\n",
    "noop\n",
    "noop\n",
    "noop\n",
    "noop\n",
    "noop\n",
    "addx -36\n",
    "noop\n",
    "addx 1\n",
    "addx 7\n",
    "noop\n",
    "noop\n",
    "noop\n",
    "addx 2\n",
    "addx 6\n",
    "noop\n",
    "noop\n",
    "noop\n",
    "noop\n",
    "noop\n",
    "addx 1\n",
    "noop\n",
    "noop\n",
    "addx 7\n",
    "addx 1\n",
    "noop\n",
    "addx -13\n",
    "addx 13\n",
    "addx 7\n",
    "noop\n",
    "addx 1\n",
    "addx -33\n",
    "noop\n",
    "noop\n",
    "noop\n",
    "addx 2\n",
    "noop\n",
    "noop\n",
    "noop\n",
    "addx 8\n",
    "noop\n",
    "addx -1\n",
    "addx 2\n",
    "addx 1\n",
    "noop\n",
    "addx 17\n",
    "addx -9\n",
    "addx 1\n",
    "addx 1\n",
    "addx -3\n",
    "addx 11\n",
    "noop\n",
    "noop\n",
    "addx 1\n",
    "noop\n",
    "addx 1\n",
    "noop\n",
    "noop\n",
    "addx -13\n",
    "addx -19\n",
    "addx 1\n",
    "addx 3\n",
    "addx 26\n",
    "addx -30\n",
    "addx 12\n",
    "addx -1\n",
    "addx 3\n",
    "addx 1\n",
    "noop\n",
    "noop\n",
    "noop\n",
    "addx -9\n",
    "addx 18\n",
    "addx 1\n",
    "addx 2\n",
    "noop\n",
    "noop\n",
    "addx 9\n",
    "noop\n",
    "noop\n",
    "noop\n",
    "addx -1\n",
    "addx 2\n",
    "addx -37\n",
    "addx 1\n",
    "addx 3\n",
    "noop\n",
    "addx 15\n",
    "addx -21\n",
    "addx 22\n",
    "addx -6\n",
    "addx 1\n",
    "noop\n",
    "addx 2\n",
    "addx 1\n",
    "noop\n",
    "addx -10\n",
    "noop\n",
    "noop\n",
    "addx 20\n",
    "addx 1\n",
    "addx 2\n",
    "addx 2\n",
    "addx -6\n",
    "addx -11\n",
    "noop\n",
    "noop\n",
    "noop'''"
   ]
  },
  {
   "cell_type": "code",
   "execution_count": null,
   "metadata": {},
   "outputs": [],
   "source": [
    "now, next1, next2  = 0,0,0\n",
    "x = 1\n",
    "cycle = 1\n",
    "for line in input.split('\\n'):\n",
    "    #print(line)\n",
    "    if 'noop' in line:\n",
    "        next2 = 0\n",
    "        x += now\n",
    "        #print('noop')\n",
    "    else:\n",
    "        _, val = line.split( )\n",
    "        next2 = int(val)\n",
    "        x += now\n",
    "        #print(f\"addx {val}\")\n",
    "    print(f\"cycle: {cycle}, now:{now}, next:{next1}, next2:{next2}, xval: {x}\")\n",
    "    now = next1\n",
    "    next1 = next2\n",
    "    cycle += 1\n",
    "    if cycle % 20 == 0:\n",
    "        print(f\"cycle: {cycle}, now:{now}, next:{next1}, next2:{next2}, xval: {x}\")"
   ]
  },
  {
   "cell_type": "markdown",
   "metadata": {},
   "source": [
    "So this suggests a different way to solve the problem:\n",
    "* During the 20th cycle, register X has the value 21, so the signal strength is 20 * 21 = 420. (The 20th cycle occurs in the middle of the second addx -1, so the value of register X is the starting value, 1, plus all of the other addx values up to that point: 1 + 15 - 11 + 6 - 3 + 5 - 1 - 8 + 13 + 4 = 21.)\n",
    "\n",
    "count cycles (addx += 2, noop += 1) to keep track of the cycles\n",
    "sum the values"
   ]
  },
  {
   "cell_type": "code",
   "execution_count": 43,
   "metadata": {},
   "outputs": [
    {
     "name": "stdout",
     "output_type": "stream",
     "text": [
      "cycle:2 x value:1\n",
      "cycle:4 x value:4\n",
      "cycle:6 x value:-1\n",
      "cycle:7 x value:-1\n",
      "cycle:8 x value:-1\n"
     ]
    }
   ],
   "source": [
    "cycle = 1\n",
    "x = 1\n",
    "for line in input.split('\\n'):\n",
    "    #print(line)\n",
    "    if 'noop' in line:\n",
    "        cycle += 1\n",
    "    else:\n",
    "        _, val = line.split( )\n",
    "        x += int(val)\n",
    "        cycle += 2\n",
    "    print(f\"cycle:{cycle} x value:{x}\")\n"
   ]
  },
  {
   "cell_type": "markdown",
   "metadata": {},
   "source": [
    "try this on the longer input. . . "
   ]
  },
  {
   "cell_type": "code",
   "execution_count": 53,
   "metadata": {},
   "outputs": [
    {
     "name": "stdout",
     "output_type": "stream",
     "text": [
      "cycle:19, xval:21\n",
      "cycle:20, xval:21\n",
      "cycle:59, xval:19\n",
      "cycle:60, xval:19\n",
      "cycle:100, xval:18\n",
      "cycle:140, xval:21\n",
      "cycle:179, xval:16\n",
      "cycle:180, xval:16\n",
      "cycle:219, xval:18\n"
     ]
    }
   ],
   "source": [
    "cycle = 1\n",
    "x = 1\n",
    "cycle_list = [19,20,59,60,99,100,139,140,179,180,219,220]\n",
    "for line in input.split('\\n'):\n",
    "    #print(line)\n",
    "    if 'noop' in line:\n",
    "        cycle += 1\n",
    "    else:\n",
    "        _, val = line.split( )\n",
    "        x += int(val)\n",
    "        cycle += 2\n",
    "    if cycle in cycle_list:\n",
    "        print(f\"cycle:{cycle}, xval:{x}\")\n",
    "\n"
   ]
  },
  {
   "cell_type": "code",
   "execution_count": 65,
   "metadata": {},
   "outputs": [
    {
     "name": "stdout",
     "output_type": "stream",
     "text": [
      "cycle:19, xval:21\n",
      "cycle:20, xval:21\n",
      "cycle:59, xval:19\n",
      "cycle:60, xval:19\n",
      "cycle:100, xval:18\n",
      "cycle:140, xval:21\n",
      "cycle:179, xval:16\n",
      "cycle:180, xval:16\n",
      "cycle:219, xval:18\n",
      "multiplier:20 value: 21\n",
      "420\n",
      "multiplier:60 value: 21\n",
      "1680\n",
      "multiplier:100 value: 19\n",
      "3580\n",
      "multiplier:140 value: 19\n",
      "6240\n",
      "multiplier:180 value: 18\n",
      "9480\n",
      "multiplier:220 value: 21\n",
      "14100\n"
     ]
    }
   ],
   "source": [
    "cycle = 1\n",
    "x = 1\n",
    "cycle_list = [19,20,59,60,99,100,139,140,179,180,219,220]\n",
    "val_list = []\n",
    "for line in input.split('\\n'):\n",
    "    #print(cycle)\n",
    "    if 'noop' in line:\n",
    "        cycle += 1\n",
    "    else:\n",
    "        _, val = line.split( )\n",
    "        x += int(val)\n",
    "        cycle += 2\n",
    "    if cycle in cycle_list:\n",
    "        print(f\"cycle:{cycle}, xval:{x}\")\n",
    "        val_list.append(x)\n",
    "multipliers = [20,60,100,140,180,220]\n",
    "sum = 0\n",
    "for i in range(0,len(multipliers)):\n",
    "    sum += val_list[i] * multipliers[i]\n",
    "    print(f\"multiplier:{multipliers[i]} value: {val_list[i]}\")\n",
    "    print(sum)"
   ]
  },
  {
   "cell_type": "code",
   "execution_count": 66,
   "metadata": {},
   "outputs": [
    {
     "data": {
      "text/plain": [
       "13140"
      ]
     },
     "execution_count": 66,
     "metadata": {},
     "output_type": "execute_result"
    }
   ],
   "source": [
    "20*21 + 60*19 + 100 * 18 + 140 * 21 + 180 * 16 + 220 * 18"
   ]
  },
  {
   "cell_type": "code",
   "execution_count": 67,
   "metadata": {},
   "outputs": [],
   "source": [
    "wdir = '/home/alp/Google Drive/Python/AdventCode/2022'\n",
    "with open (f\"{wdir}/10input.txt\") as f_in:\n",
    "    input = f_in.read().split('\\n')"
   ]
  },
  {
   "cell_type": "code",
   "execution_count": 68,
   "metadata": {},
   "outputs": [
    {
     "name": "stdout",
     "output_type": "stream",
     "text": [
      "cycle:20, xval:21\n",
      "cycle:59, xval:17\n",
      "cycle:100, xval:21\n",
      "cycle:139, xval:21\n",
      "cycle:140, xval:21\n",
      "cycle:179, xval:8\n",
      "cycle:220, xval:21\n"
     ]
    }
   ],
   "source": [
    "cycle = 1\n",
    "x = 1\n",
    "cycle_list = [19,20,59,60,99,100,139,140,179,180,219,220]\n",
    "for line in input:\n",
    "    #print(cycle)\n",
    "    if 'noop' in line:\n",
    "        cycle += 1\n",
    "    else:\n",
    "        _, val = line.split( )\n",
    "        x += int(val)\n",
    "        cycle += 2\n",
    "    if cycle in cycle_list:\n",
    "        print(f\"cycle:{cycle}, xval:{x}\")\n"
   ]
  },
  {
   "cell_type": "code",
   "execution_count": 69,
   "metadata": {},
   "outputs": [
    {
     "name": "stdout",
     "output_type": "stream",
     "text": [
      "cycle:20, xval:21\n",
      "cycle:59, xval:17\n",
      "cycle:100, xval:21\n",
      "cycle:139, xval:21\n",
      "cycle:140, xval:21\n",
      "cycle:179, xval:8\n",
      "cycle:220, xval:21\n",
      "multiplier:20 value: 21\n",
      "420\n",
      "multiplier:60 value: 17\n",
      "1440\n",
      "multiplier:100 value: 21\n",
      "3540\n",
      "multiplier:140 value: 21\n",
      "6480\n",
      "multiplier:180 value: 21\n",
      "10260\n",
      "multiplier:220 value: 8\n",
      "12020\n"
     ]
    }
   ],
   "source": [
    "cycle = 1\n",
    "x = 1\n",
    "cycle_list = [19,20,59,60,99,100,139,140,179,180,219,220]\n",
    "val_list = []\n",
    "for line in input:\n",
    "    #print(cycle)\n",
    "    if 'noop' in line:\n",
    "        cycle += 1\n",
    "    else:\n",
    "        _, val = line.split( )\n",
    "        x += int(val)\n",
    "        cycle += 2\n",
    "    if cycle in cycle_list:\n",
    "        print(f\"cycle:{cycle}, xval:{x}\")\n",
    "        val_list.append(x)\n",
    "multipliers = [20,60,100,140,180,220]\n",
    "sum = 0\n",
    "for i in range(0,len(multipliers)):\n",
    "    sum += val_list[i] * multipliers[i]\n",
    "    print(f\"multiplier:{multipliers[i]} value: {val_list[i]}\")\n",
    "    print(sum)\n"
   ]
  },
  {
   "cell_type": "markdown",
   "metadata": {},
   "source": [
    "submitted 12020 -- but this is too low\n",
    "\n",
    "let's do it manually and see if we come up with the same value"
   ]
  },
  {
   "cell_type": "code",
   "execution_count": 70,
   "metadata": {},
   "outputs": [
    {
     "data": {
      "text/plain": [
       "12540"
      ]
     },
     "execution_count": 70,
     "metadata": {},
     "output_type": "execute_result"
    }
   ],
   "source": [
    "20 * 21 + 60 * 17 + 100 * 21 + 140 * 21 + 180 * 8 + 220 * 21"
   ]
  },
  {
   "cell_type": "markdown",
   "metadata": {},
   "source": [
    "OK, that's correct. So what's wrong with my code?"
   ]
  },
  {
   "cell_type": "code",
   "execution_count": 71,
   "metadata": {},
   "outputs": [
    {
     "data": {
      "text/plain": [
       "[21, 17, 21, 21, 21, 8, 21]"
      ]
     },
     "execution_count": 71,
     "metadata": {},
     "output_type": "execute_result"
    }
   ],
   "source": [
    "val_list"
   ]
  },
  {
   "cell_type": "markdown",
   "metadata": {},
   "source": [
    "So the problem is that I'm double copying the 139/140 values.\n",
    "\n",
    "Here's a clunky solution:"
   ]
  },
  {
   "cell_type": "code",
   "execution_count": 74,
   "metadata": {},
   "outputs": [
    {
     "name": "stdout",
     "output_type": "stream",
     "text": [
      "cycle:20, xval:21\n",
      "cycle:59, xval:17\n",
      "cycle:100, xval:21\n",
      "cycle:139, xval:21\n",
      "cycle:140, xval:21\n",
      "cycle:179, xval:8\n",
      "cycle:220, xval:21\n",
      "multiplier:20 value: 21\n",
      "420\n",
      "multiplier:60 value: 17\n",
      "1440\n",
      "multiplier:100 value: 21\n",
      "3540\n",
      "multiplier:140 value: 21\n",
      "6480\n",
      "multiplier:180 value: 21\n",
      "10260\n",
      "multiplier:220 value: 8\n",
      "12020\n"
     ]
    }
   ],
   "source": [
    "cycle = 1\n",
    "x = 1\n",
    "cycle_list = [(19,20),(59,60),(99,100),(139,140),(179,180),(219,220)]\n",
    "val_list = []\n",
    "for line in input:\n",
    "    #print(cycle)\n",
    "    if 'noop' in line:\n",
    "        cycle += 1\n",
    "    else:\n",
    "        _, val = line.split( )\n",
    "        x += int(val)\n",
    "        cycle += 2\n",
    "    for pair in cycle_list:\n",
    "        if cycle in pair:\n",
    "            print(f\"cycle:{cycle}, xval:{x}\")\n",
    "            val_list.append(x)\n",
    "multipliers = [20,60,100,140,180,220]\n",
    "sum = 0\n",
    "for i in range(0,len(multipliers)):\n",
    "    sum += val_list[i] * multipliers[i]\n",
    "    print(f\"multiplier:{multipliers[i]} value: {val_list[i]}\")\n",
    "    print(sum)\n"
   ]
  },
  {
   "cell_type": "markdown",
   "metadata": {},
   "source": [
    "That doesn't work. Problem is that on cycles 139 and 140 we have a \"noop\" so, the value for 139 and 140 are getting double entered.\n",
    "\n",
    "So let's delete the pairs as they are found:"
   ]
  },
  {
   "cell_type": "code",
   "execution_count": 75,
   "metadata": {},
   "outputs": [
    {
     "name": "stdout",
     "output_type": "stream",
     "text": [
      "cycle:20, xval:21\n",
      "cycle:59, xval:17\n",
      "cycle:100, xval:21\n",
      "cycle:139, xval:21\n",
      "cycle:179, xval:8\n",
      "cycle:220, xval:21\n",
      "multiplier:20 value: 21\n",
      "420\n",
      "multiplier:60 value: 17\n",
      "1440\n",
      "multiplier:100 value: 21\n",
      "3540\n",
      "multiplier:140 value: 21\n",
      "6480\n",
      "multiplier:180 value: 8\n",
      "7920\n",
      "multiplier:220 value: 21\n",
      "12540\n"
     ]
    }
   ],
   "source": [
    "cycle = 1\n",
    "x = 1\n",
    "cycle_list = [(19,20),(59,60),(99,100),(139,140),(179,180),(219,220)]\n",
    "val_list = []\n",
    "for line in input:\n",
    "    #print(cycle)\n",
    "    if 'noop' in line:\n",
    "        cycle += 1\n",
    "    else:\n",
    "        _, val = line.split( )\n",
    "        x += int(val)\n",
    "        cycle += 2\n",
    "    for pair in cycle_list:\n",
    "        if cycle in pair:\n",
    "            print(f\"cycle:{cycle}, xval:{x}\")\n",
    "            val_list.append(x)\n",
    "            cycle_list = cycle_list[1:]\n",
    "multipliers = [20,60,100,140,180,220]\n",
    "sum = 0\n",
    "for i in range(0,len(multipliers)):\n",
    "    sum += val_list[i] * multipliers[i]\n",
    "    print(f\"multiplier:{multipliers[i]} value: {val_list[i]}\")\n",
    "    print(sum)\n"
   ]
  },
  {
   "cell_type": "markdown",
   "metadata": {},
   "source": [
    "Lets look at https://aoc.just2good.co.uk/2022/10 to see a more elegent solution.\n",
    "\n",
    "Again, he uses classes (he loves!!!) classes"
   ]
  },
  {
   "cell_type": "markdown",
   "metadata": {},
   "source": [
    "Part 2: x = midpoint of 3-pixel sprite (= x +/- 1)\n",
    "input / 40 = # lines on the screen\n",
    "point on row = range (0,40)\n",
    "each cycle, pixel += 1 on row\n",
    "if pixel in sprite, --> # else ."
   ]
  },
  {
   "cell_type": "code",
   "execution_count": 79,
   "metadata": {},
   "outputs": [
    {
     "data": {
      "text/plain": [
       "24.475"
      ]
     },
     "execution_count": 79,
     "metadata": {},
     "output_type": "execute_result"
    }
   ],
   "source": [
    "cycle = 1\n",
    "pixel = 0\n",
    "x = 1\n",
    "sprite = [0,1,2]\n",
    "for line in input.split('\\n'):\n",
    "    if 'noop' in line:\n",
    "        pause = 0\n",
    "        val = 0\n",
    "    else:\n",
    "        _, val = line.split( )\n",
    "        pause = 1\n",
    "        val = int(val)\n",
    "    \n",
    "    "
   ]
  },
  {
   "cell_type": "code",
   "execution_count": 91,
   "metadata": {},
   "outputs": [
    {
     "name": "stdout",
     "output_type": "stream",
     "text": [
      "0 1\n",
      "1 16\n",
      "2 16\n",
      "3 5\n",
      "4 5\n",
      "5 11\n",
      "6 11\n",
      "7 8\n",
      "8 8\n",
      "9 13\n",
      "10 13\n",
      "11 12\n",
      "12 12\n",
      "13 4\n",
      "14 4\n",
      "15 17\n",
      "16 17\n",
      "17 21\n",
      "18 21\n",
      "19 21\n",
      "20 20\n",
      "21 20\n",
      "22 25\n",
      "23 25\n",
      "24 24\n",
      "25 24\n",
      "26 29\n",
      "27 29\n",
      "28 28\n",
      "29 28\n",
      "30 33\n",
      "31 33\n",
      "32 32\n",
      "33 32\n",
      "34 37\n",
      "35 37\n",
      "36 36\n",
      "37 36\n",
      "38 1\n",
      "39 1\n",
      "40 2\n",
      "['#', '.', '.', '.', '#', '.', '.', '#', '#', '.', '.', '#', '#', '.', '.', '.', '#', '.', '.', '.', '#', '.', '.', '.', '#', '.', '.', '.', '#', '.', '.', '.', '#', '.', '.', '.', '#', '.', '.', '.', '.']\n"
     ]
    }
   ],
   "source": [
    "def check_overlap(pixel,x):\n",
    "    sprite = range(x-1,x+1)\n",
    "    if pixel in sprite:\n",
    "        return True\n",
    "    else:\n",
    "        return False\n",
    "\n",
    "instructions = input.split('\\n')\n",
    "now, next = 0,0\n",
    "x = 1\n",
    "cycle = 1\n",
    "pixel = 0\n",
    "ins_num = 0\n",
    "screen = []\n",
    "screen_line = []\n",
    "while pixel < 40:\n",
    "#for pixel in range(0,40):\n",
    "    inst = instructions[ins_num]\n",
    "    if 'noop'in inst:\n",
    "        if check_overlap(pixel,x):\n",
    "            screen_line.append('#')\n",
    "        else:\n",
    "            screen_line.append('.')\n",
    "        print(pixel,x)\n",
    "        next = 0\n",
    "        pixel += 1\n",
    "\n",
    "    else:\n",
    "        _, val = inst.split( )\n",
    "        next = int(val)\n",
    "        for i in range (0,2):\n",
    "            x += now\n",
    "            if check_overlap(pixel,x):\n",
    "                screen_line.append('#')\n",
    "            else:\n",
    "                screen_line.append('.')\n",
    "            print(pixel,x)\n",
    "            now = next\n",
    "            next = 0\n",
    "            pixel += 1\n",
    "    ins_num += 1\n",
    "\n",
    "print(screen_line)\n",
    "\n",
    "\n",
    "\n",
    "\n",
    "        \n"
   ]
  },
  {
   "cell_type": "code",
   "execution_count": 85,
   "metadata": {},
   "outputs": [
    {
     "data": {
      "text/plain": [
       "False"
      ]
     },
     "execution_count": 85,
     "metadata": {},
     "output_type": "execute_result"
    }
   ],
   "source": [
    "def check_overlap(pixel,x):\n",
    "    #sprite = []\n",
    "    sprite = range(x-1,x+1)\n",
    "    if pixel in sprite:\n",
    "        return True\n",
    "    else:\n",
    "        return False\n",
    "\n",
    "check_overlap(0,12)"
   ]
  },
  {
   "cell_type": "markdown",
   "metadata": {},
   "source": [
    "OK, this is a fucking mess. Let's see how Dazbo does it with classes\n",
    "\n",
    "https://aoc.just2good.co.uk/2022/10"
   ]
  },
  {
   "cell_type": "code",
   "execution_count": 93,
   "metadata": {},
   "outputs": [],
   "source": [
    "from pathlib import Path\n",
    "import time\n",
    "\n",
    "\"\"\"SCRIPT_DIR = Path(__file__).parent\n",
    "# INPUT_FILE = Path(SCRIPT_DIR, \"input/sample_input.txt\")\n",
    "INPUT_FILE = Path(SCRIPT_DIR, \"input/input.txt\")\n",
    "\"\"\"\n",
    "\n",
    "class CrtComputer():\n",
    "    \"\"\" Performs instructions. Add instructions take 2 ticks. Noop takes 1 tick. \"\"\"\n",
    "\n",
    "    def __init__(self, instructions: list[str]) -> None:\n",
    "        # self (required), instructions (input) as list of strings; \n",
    "        # --> is a function annotation that says fn will not return a value (None). This is not forced.\n",
    "        self._x = 1 # represents middle of horizontal sprite position\n",
    "        self._instructions = self._convert_to_instructions(instructions)\n",
    "        self._ip = 0    # instruction pointer\n",
    "        self.cycle = 0\n",
    "        self._doing = []  # [[instruction], duration]\n",
    "        self.running_program = True # Set to false when instructions are complete\n",
    "    \n",
    "    # variables with underscores self._x : underscore is HINT to other prorammer that varible is for internal use\n",
    "    # https://dbader.org/blog/meaning-of-underscores-in-python\n",
    "    # python does not enforce the rule about variables\n",
    "    # it DOES treat module names with underscores differently: from my_module import * won't bring in functions that start with underscore\n",
    "\n",
    "    @property               # decorator keyword\n",
    "    def x(self):            # header - getter fn is names like property to be defined (x)\n",
    "        return self._x      # getter function: get value and returns it \n",
    "    \n",
    "    @property\n",
    "    def signal_strength(self) -> int:\n",
    "        return self.cycle * self.x\n",
    "    \n",
    "    # https://www.freecodecamp.org/news/python-property-decorator/\n",
    "    # @property allows for three methods: getter, setter, deleter\n",
    "    # \n",
    "    # these are both getter methos, since they return values\n",
    "    # the underscore (_x) indicates the variable is internal and shouldn't be accessed outside the class\n",
    "    # @x.setter     would be used as the name for the decorator setter function \n",
    "    # @x.deleter    would be used as the name for the decorator deleter function\n",
    "\n",
    "    # underscore b/f function name -> internal to class\n",
    "    # self, data are input. Based on the pror defn, I think the :list[str] says this what the data consists of\n",
    "    # or is it saying what the input should be formatted like?\n",
    "    def _convert_to_instructions(self, data: list[str]): \n",
    "        \"\"\" Create a list of instructions in [[instr, val],[],...] format. \"\"\"\n",
    "        instructions = []\n",
    "        for line in data:\n",
    "            line_words = line.split()\n",
    "            instr = line_words[0]\n",
    "            val = None\n",
    "            if len(line_words) > 1:\n",
    "                val = int(line_words[1])\n",
    "            instructions.append((instr, val))\n",
    "        return instructions\n",
    "\n",
    "    def tick(self):\n",
    "        \"\"\" Perform one CPU cycle \"\"\"\n",
    "        # print(self)\n",
    "        # initial defn: self._doing = []  # [[instruction], duration]\n",
    "\n",
    "        if len(self._doing) > 0: # we're processing an instruction\n",
    "            self._doing[1] -= 1\n",
    "            \n",
    "            if self._doing[1] == 0:\n",
    "                # Complete the running instruction\n",
    "                instruction = self._doing[0]\n",
    "                self.__getattribute__(f\"_op_{instruction[0]}\")(instruction)\n",
    "                # this calls the OP fns (below) using \n",
    "                # print(f\"Completed instruction: {instruction}\")\n",
    "                \n",
    "                self._start_next_instruction() # and start the next one\n",
    "        else: # our first instruction\n",
    "            self._start_next_instruction()\n",
    "            \n",
    "        self.cycle += 1\n",
    "\n",
    "    def _start_next_instruction(self):\n",
    "        \"\"\" Takes an instruction, and calls the appropriate implementation method. \"\"\"\n",
    "        #         self._ip = 0    # instruction pointer (that is, where are we in the list of instructions?)\n",
    "        instruction = self._instructions[self._ip]\n",
    "        # print(f\"Starting instruction: {instruction}\")\n",
    "        \n",
    "        if instruction[0] == \"addx\":\n",
    "            self._doing = [instruction, 2]\n",
    "        elif instruction[0] == \"noop\":\n",
    "            self._doing = [instruction, 1]\n",
    "\n",
    "        self._ip += 1 # increment the instruction pointer\n",
    "        if self._ip == len(self._instructions): # we've finished\n",
    "            self.running_program = False\n",
    "\n",
    "    def _op_addx(self, instruction: tuple):\n",
    "        \"\"\" Takes 2 cycles. Adds val to register x \"\"\"\n",
    "        self._x += instruction[-1]\n",
    "\n",
    "    def _op_noop(self, _: tuple):\n",
    "        \"\"\" Takes 1 cycle. Does nothing. Instruction parameter will be empty. \"\"\"\n",
    "    \n",
    "    def __repr__(self):\n",
    "        return f\"{self.__class__.__name__}(Cycle={self.cycle};x={self._x},pixel={self._display_posn})\"\n",
    "\n",
    "wdir = '/home/alp/Google Drive/Python/AdventCode/2022'\n",
    "with open (f\"{wdir}/10input.txt\") as f_in:\n",
    "    data = f_in.read().splitlines()\n",
    "\n",
    "interesting_cycles = [20, 60, 100, 140, 180, 220]\n",
    "signal_strength_sum = 0\n",
    "crt_computer = CrtComputer(data)\n",
    "\n",
    "\n"
   ]
  },
  {
   "cell_type": "code",
   "execution_count": 96,
   "metadata": {},
   "outputs": [
    {
     "name": "stdout",
     "output_type": "stream",
     "text": [
      "12540\n"
     ]
    }
   ],
   "source": [
    "while crt_computer.running_program:\n",
    "    crt_computer.tick()\n",
    "    if crt_computer.cycle in interesting_cycles:\n",
    "        signal_strength_sum += crt_computer.signal_strength\n",
    "\n",
    "print(signal_strength_sum)\n"
   ]
  },
  {
   "cell_type": "markdown",
   "metadata": {},
   "source": [
    "For part two, he just needs to \n",
    "1. add some a couple more properties to the class __init__ statement and a couple of constants (ALL CAP)\n",
    "1. Chagne the tick method to add a screen update call\n",
    "1. write an update display fn "
   ]
  },
  {
   "cell_type": "code",
   "execution_count": 113,
   "metadata": {},
   "outputs": [],
   "source": [
    "class CrtComputer():\n",
    "    \"\"\" Performs instructions. Add instructions take 2 ticks. Noop takes 1 tick. \"\"\"\n",
    "    DISPLAY_WIDTH = 40\n",
    "    DISPLAY_HEIGHT = 6\n",
    "    LIT = \"#\"\n",
    "    \n",
    "    def __init__(self, instructions: list[str]) -> None:\n",
    "        self._x = 1 # represents middle of horizontal sprite position\n",
    "        self._instructions = self._convert_to_instructions(instructions)\n",
    "        self._ip = 0    # instruction pointer\n",
    "        self.cycle = 0\n",
    "        self._doing = []  # [[instruction], duration]\n",
    "        self.running_program = True # Set to false when instructions are complete\n",
    "        \n",
    "        self._display_posn = [0,0] # NEW: col, row for display\n",
    "        self._display = [[\".\" for _ in range(CrtComputer.DISPLAY_WIDTH)] \n",
    "                            for _ in range(CrtComputer.DISPLAY_HEIGHT)]\n",
    "        # the two lines above are the initial settings for the pixel position and\n",
    "        # the screen (set to blank = . for the width and height of the screen)\n",
    "        # creates a list of six lists [[1][2][3][4][5][6]]\n",
    "\n",
    "    @property\n",
    "    def x(self):\n",
    "        return self._x\n",
    "    \n",
    "    @property\n",
    "    def signal_strength(self) -> int:\n",
    "        return self.cycle * self.x\n",
    "    \n",
    "    def _convert_to_instructions(self, data: list[str]):\n",
    "        \"\"\" Create a list of instructions in [[instr, val],[],...] format. \"\"\"\n",
    "        instructions = []\n",
    "        for line in data:\n",
    "            line_words = line.split()\n",
    "            instr = line_words[0]\n",
    "            val = None\n",
    "            if len(line_words) > 1:\n",
    "                val = int(line_words[1])\n",
    "            instructions.append((instr, val))\n",
    "                \n",
    "        return instructions\n",
    "\n",
    "    def tick(self):\n",
    "        \"\"\" Perform one CPU cycle \"\"\"\n",
    "        # print(self)\n",
    "\n",
    "        if len(self._doing) > 0: # we're processing an instruction\n",
    "            self._doing[1] -= 1\n",
    "            \n",
    "            if self._doing[1] == 0:\n",
    "                # Complete the running instruction\n",
    "                instruction = self._doing[0]\n",
    "                self.__getattribute__(f\"_op_{instruction[0]}\")(instruction)\n",
    "                # print(f\"Completed instruction: {instruction}\")\n",
    "                \n",
    "                self._start_next_instruction() # and start the next one\n",
    "        else: # our first instruction\n",
    "            self._start_next_instruction()\n",
    "        \n",
    "        self._update_display() # NEW --> call the display update fn\n",
    "            \n",
    "        self.cycle += 1\n",
    "\n",
    "    def _update_display(self):\n",
    "        # Current horizontal pixel position being drawn\n",
    "        x_posn = self._display_posn[0]\n",
    "        \n",
    "        # Check if horizontal position is *within* to current sprite position\n",
    "        # The sprite is 3 pixels wide, and the x register gives us the middle position\n",
    "        if x_posn in range(self.x-1, self.x+2):\n",
    "            self._display[self._display_posn[1]][x_posn] = CrtComputer.LIT\n",
    "\n",
    "        # display position moves across the row, then down, \n",
    "        # one pixel at a time with each tick        \n",
    "        if x_posn < CrtComputer.DISPLAY_WIDTH-1:\n",
    "            self._display_posn[0] += 1\n",
    "        else:\n",
    "            self._display_posn[0] = 0\n",
    "            self._display_posn[1] += 1\n",
    "    \n",
    "    def render_display(self):\n",
    "        return \"\\n\".join(\"\".join(row) for row in self._display)\n",
    "\n",
    "    def _start_next_instruction(self):\n",
    "        \"\"\" Takes an instruction, and calls the appropriate implementation method. \"\"\"\n",
    "        instruction = self._instructions[self._ip]\n",
    "        # print(f\"Starting instruction: {instruction}\")\n",
    "        \n",
    "        if instruction[0] == \"addx\":\n",
    "            self._doing = [instruction, 2]\n",
    "        elif instruction[0] == \"noop\":\n",
    "            self._doing = [instruction, 1]\n",
    "\n",
    "        self._ip += 1  # increment the instruction pointer\n",
    "        if self._ip == len(self._instructions): # we've finished\n",
    "            self.running_program = False\n",
    "    \n",
    "    def _op_addx(self, instruction: tuple):\n",
    "        \"\"\" Takes 2 cycles. Adds val to register x \"\"\"\n",
    "        self._x += instruction[-1]\n",
    "\n",
    "    def _op_noop(self, _: tuple):\n",
    "        \"\"\" Takes 1 cycle. Does nothing. Instruction parameter will be empty. \"\"\"\n",
    "    \n",
    "    def __repr__(self):\n",
    "        return f\"{self.__class__.__name__}(Cycle={self.cycle};x={self._x},pixel={self._display_posn})\"\n",
    "\n",
    "\n"
   ]
  },
  {
   "cell_type": "code",
   "execution_count": 116,
   "metadata": {},
   "outputs": [
    {
     "name": "stdout",
     "output_type": "stream",
     "text": [
      "12540\n",
      "####.####..##..####.####.#....#..#.####.\n",
      "#....#....#..#....#.#....#....#..#.#....\n",
      "###..###..#......#..###..#....####.###..\n",
      "#....#....#.....#...#....#....#..#.#....\n",
      "#....#....#..#.#....#....#....#..#.#....\n",
      "#....####..##..####.####.####.#..#.####.\n"
     ]
    }
   ],
   "source": [
    "wdir = '/home/alp/Google Drive/Python/AdventCode/2022'\n",
    "with open (f\"{wdir}/10input.txt\") as f_in:\n",
    "    data = f_in.read().splitlines()\n",
    "\n",
    "interesting_cycles = [20, 60, 100, 140, 180, 220]\n",
    "signal_strength_sum = 0\n",
    "crt_computer = CrtComputer(data)\n",
    "while crt_computer.running_program:\n",
    "    crt_computer.tick()\n",
    "    if crt_computer.cycle in interesting_cycles:\n",
    "        signal_strength_sum += crt_computer.signal_strength\n",
    "\n",
    "print(signal_strength_sum)\n",
    "print(crt_computer.render_display())\n"
   ]
  },
  {
   "cell_type": "code",
   "execution_count": 115,
   "metadata": {},
   "outputs": [
    {
     "ename": "NameError",
     "evalue": "name 'crt_compter' is not defined",
     "output_type": "error",
     "traceback": [
      "\u001b[0;31m---------------------------------------------------------------------------\u001b[0m",
      "\u001b[0;31mNameError\u001b[0m                                 Traceback (most recent call last)",
      "\u001b[0;32m/tmp/ipykernel_209436/2142878217.py\u001b[0m in \u001b[0;36m<cell line: 1>\u001b[0;34m()\u001b[0m\n\u001b[0;32m----> 1\u001b[0;31m \u001b[0mcrt_compter\u001b[0m\u001b[0;34m.\u001b[0m\u001b[0mrender_display\u001b[0m\u001b[0;34m(\u001b[0m\u001b[0;34m)\u001b[0m\u001b[0;34m\u001b[0m\u001b[0;34m\u001b[0m\u001b[0m\n\u001b[0m",
      "\u001b[0;31mNameError\u001b[0m: name 'crt_compter' is not defined"
     ]
    }
   ],
   "source": [
    "crt_compter.render_display()"
   ]
  },
  {
   "cell_type": "code",
   "execution_count": 103,
   "metadata": {},
   "outputs": [],
   "source": [
    "test = [[i for i in range(10)] for j in range(6)]"
   ]
  },
  {
   "cell_type": "code",
   "execution_count": 104,
   "metadata": {},
   "outputs": [
    {
     "data": {
      "text/plain": [
       "[[0, 1, 2, 3, 4, 5, 6, 7, 8, 9],\n",
       " [0, 1, 2, 3, 4, 5, 6, 7, 8, 9],\n",
       " [0, 1, 2, 3, 4, 5, 6, 7, 8, 9],\n",
       " [0, 1, 2, 3, 4, 5, 6, 7, 8, 9],\n",
       " [0, 1, 2, 3, 4, 5, 6, 7, 8, 9],\n",
       " [0, 1, 2, 3, 4, 5, 6, 7, 8, 9]]"
      ]
     },
     "execution_count": 104,
     "metadata": {},
     "output_type": "execute_result"
    }
   ],
   "source": [
    "test"
   ]
  },
  {
   "cell_type": "code",
   "execution_count": 105,
   "metadata": {},
   "outputs": [
    {
     "data": {
      "text/plain": [
       "3"
      ]
     },
     "execution_count": 105,
     "metadata": {},
     "output_type": "execute_result"
    }
   ],
   "source": [
    "test[0][3]"
   ]
  }
 ],
 "metadata": {
  "kernelspec": {
   "display_name": "Python 3.10.6 64-bit",
   "language": "python",
   "name": "python3"
  },
  "language_info": {
   "codemirror_mode": {
    "name": "ipython",
    "version": 3
   },
   "file_extension": ".py",
   "mimetype": "text/x-python",
   "name": "python",
   "nbconvert_exporter": "python",
   "pygments_lexer": "ipython3",
   "version": "3.10.6"
  },
  "orig_nbformat": 4,
  "vscode": {
   "interpreter": {
    "hash": "916dbcbb3f70747c44a77c7bcd40155683ae19c65e1c03b4aa3499c5328201f1"
   }
  }
 },
 "nbformat": 4,
 "nbformat_minor": 2
}
